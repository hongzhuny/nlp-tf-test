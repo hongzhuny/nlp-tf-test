{
 "cells": [
  {
   "cell_type": "markdown",
   "metadata": {},
   "source": [
    "# Natural Language Processing (NLP) with TensorFlow\n",
    "* modules needed tensorflow, keras.preprocessing, numpy, tensorflow-datasets"
   ]
  },
  {
   "cell_type": "markdown",
   "metadata": {},
   "source": [
    "Week 1 & 2:\n",
    "* 1. understanding how words in sentences were coded into index\n",
    "* 2. understanding how the matrix fit to neural network, and forecast\n",
    "* 3. understanding subwords\n",
    "\n",
    "Week 3:\n",
    "* LSTMs"
   ]
  },
  {
   "cell_type": "code",
   "execution_count": null,
   "metadata": {},
   "outputs": [],
   "source": [
    "import tensorflow as tf\n",
    "from tensorflow import keras\n",
    "from tensorflow.keras.preprocessing.text import Tokenizer\n",
    "from tensorflow.keras.preprocessing.sequence import pad_sequences"
   ]
  },
  {
   "cell_type": "code",
   "execution_count": 125,
   "metadata": {},
   "outputs": [],
   "source": [
    "ms = ['I really love my dog dog dog my love', \n",
    "     'My dog loves my little bunny']"
   ]
  },
  {
   "cell_type": "code",
   "execution_count": 126,
   "metadata": {},
   "outputs": [
    {
     "name": "stdout",
     "output_type": "stream",
     "text": [
      "{'<oov>': 1, 'my': 2, 'dog': 3, 'love': 4, 'i': 5, 'really': 6, 'loves': 7, 'little': 8, 'bunny': 9}\n"
     ]
    }
   ],
   "source": [
    "# tokenizer takes only num_words -1 words based on the frequency\n",
    "tokenizer = Tokenizer(oov_token = '<oov>', num_words = 3)\n",
    "tokenizer.fit_on_texts(ms)\n",
    "word_index = tokenizer.word_index\n",
    "print(word_index)"
   ]
  },
  {
   "cell_type": "code",
   "execution_count": 127,
   "metadata": {},
   "outputs": [
    {
     "data": {
      "text/plain": [
       "[[1, 1, 1, 2, 1, 1, 1, 2, 1], [2, 1, 1, 2, 1, 1]]"
      ]
     },
     "execution_count": 127,
     "metadata": {},
     "output_type": "execute_result"
    }
   ],
   "source": [
    "message = tokenizer.texts_to_sequences(ms)\n",
    "message"
   ]
  },
  {
   "cell_type": "code",
   "execution_count": 6,
   "metadata": {},
   "outputs": [],
   "source": [
    "test_ms = ['I am testing my love']"
   ]
  },
  {
   "cell_type": "code",
   "execution_count": 7,
   "metadata": {},
   "outputs": [
    {
     "data": {
      "text/plain": [
       "[[4, 1, 1, 2, 6]]"
      ]
     },
     "execution_count": 7,
     "metadata": {},
     "output_type": "execute_result"
    }
   ],
   "source": [
    "tokenizer.texts_to_sequences(test_ms)"
   ]
  },
  {
   "cell_type": "code",
   "execution_count": 8,
   "metadata": {},
   "outputs": [
    {
     "data": {
      "text/plain": [
       "[[4, 5, 6, 2, 3], [2, 3, 7, 2, 8, 9]]"
      ]
     },
     "execution_count": 8,
     "metadata": {},
     "output_type": "execute_result"
    }
   ],
   "source": [
    "message = tokenizer.texts_to_sequences(ms)\n",
    "message"
   ]
  },
  {
   "cell_type": "code",
   "execution_count": 9,
   "metadata": {},
   "outputs": [
    {
     "data": {
      "text/plain": [
       "array([[5, 6, 2, 3],\n",
       "       [7, 2, 8, 9]], dtype=int32)"
      ]
     },
     "execution_count": 9,
     "metadata": {},
     "output_type": "execute_result"
    }
   ],
   "source": [
    "message1 = pad_sequences(message, padding = 'post', maxlen = 4, )\n",
    "message1"
   ]
  },
  {
   "cell_type": "code",
   "execution_count": null,
   "metadata": {},
   "outputs": [],
   "source": [
    "# Neural network model example"
   ]
  },
  {
   "cell_type": "code",
   "execution_count": 24,
   "metadata": {},
   "outputs": [],
   "source": [
    "vocab_size = 1000\n",
    "max_length = 16\n",
    "embedding_dim = 16"
   ]
  },
  {
   "cell_type": "code",
   "execution_count": 25,
   "metadata": {},
   "outputs": [],
   "source": [
    "model = tf.keras.Sequential([\n",
    "    tf.keras.layers.Embedding(vocab_size, embedding_dim, input_length = max_length),\n",
    "    tf.keras.layers.Flatten(),\n",
    "    tf.keras.layers.Dense(6, activation = 'relu'),\n",
    "    tf.keras.layers.Dense(1, activation = 'sigmoid')\n",
    "])\n"
   ]
  },
  {
   "cell_type": "code",
   "execution_count": 26,
   "metadata": {},
   "outputs": [
    {
     "name": "stdout",
     "output_type": "stream",
     "text": [
      "Model: \"sequential_4\"\n",
      "_________________________________________________________________\n",
      "Layer (type)                 Output Shape              Param #   \n",
      "=================================================================\n",
      "embedding_4 (Embedding)      (None, 16, 16)            16000     \n",
      "_________________________________________________________________\n",
      "flatten_4 (Flatten)          (None, 256)               0         \n",
      "_________________________________________________________________\n",
      "dense_8 (Dense)              (None, 6)                 1542      \n",
      "_________________________________________________________________\n",
      "dense_9 (Dense)              (None, 1)                 7         \n",
      "=================================================================\n",
      "Total params: 17,549\n",
      "Trainable params: 17,549\n",
      "Non-trainable params: 0\n",
      "_________________________________________________________________\n"
     ]
    }
   ],
   "source": [
    "model.summary()"
   ]
  },
  {
   "cell_type": "code",
   "execution_count": 46,
   "metadata": {},
   "outputs": [],
   "source": [
    "#!pip install -q tensorflow-datasets"
   ]
  },
  {
   "cell_type": "code",
   "execution_count": 10,
   "metadata": {},
   "outputs": [
    {
     "name": "stdout",
     "output_type": "stream",
     "text": [
      "2.0.0\n"
     ]
    }
   ],
   "source": [
    "print(tf.__version__)"
   ]
  },
  {
   "cell_type": "code",
   "execution_count": 11,
   "metadata": {},
   "outputs": [],
   "source": [
    "import tensorflow_datasets as tfds"
   ]
  },
  {
   "cell_type": "code",
   "execution_count": 52,
   "metadata": {},
   "outputs": [
    {
     "name": "stdout",
     "output_type": "stream",
     "text": [
      "\u001b[1mDownloading and preparing dataset imdb_reviews (80.23 MiB) to /Users/hong/tensorflow_datasets/imdb_reviews/plain_text/0.1.0...\u001b[0m\n"
     ]
    },
    {
     "data": {
      "application/vnd.jupyter.widget-view+json": {
       "model_id": "64905a0608624097be27c7ed9a87c18a",
       "version_major": 2,
       "version_minor": 0
      },
      "text/plain": [
       "HBox(children=(FloatProgress(value=1.0, bar_style='info', description='Dl Completed...', max=1.0, style=Progre…"
      ]
     },
     "metadata": {},
     "output_type": "display_data"
    },
    {
     "data": {
      "application/vnd.jupyter.widget-view+json": {
       "model_id": "025f0f0943034c55b49e4847ae373150",
       "version_major": 2,
       "version_minor": 0
      },
      "text/plain": [
       "HBox(children=(FloatProgress(value=1.0, bar_style='info', description='Dl Size...', max=1.0, style=ProgressSty…"
      ]
     },
     "metadata": {},
     "output_type": "display_data"
    },
    {
     "name": "stdout",
     "output_type": "stream",
     "text": [
      "\n",
      "\n",
      "\n",
      "\n"
     ]
    },
    {
     "data": {
      "application/vnd.jupyter.widget-view+json": {
       "model_id": "",
       "version_major": 2,
       "version_minor": 0
      },
      "text/plain": [
       "HBox(children=(FloatProgress(value=1.0, bar_style='info', max=1.0), HTML(value='')))"
      ]
     },
     "metadata": {},
     "output_type": "display_data"
    },
    {
     "data": {
      "application/vnd.jupyter.widget-view+json": {
       "model_id": "",
       "version_major": 2,
       "version_minor": 0
      },
      "text/plain": [
       "HBox(children=(FloatProgress(value=0.0, description='Shuffling...', max=10.0, style=ProgressStyle(description_…"
      ]
     },
     "metadata": {},
     "output_type": "display_data"
    },
    {
     "name": "stdout",
     "output_type": "stream",
     "text": [
      "WARNING:tensorflow:From /Users/hong/anaconda3/lib/python3.6/site-packages/tensorflow_datasets/core/file_format_adapter.py:209: tf_record_iterator (from tensorflow.python.lib.io.tf_record) is deprecated and will be removed in a future version.\n",
      "Instructions for updating:\n",
      "Use eager execution and: \n",
      "`tf.data.TFRecordDataset(path)`\n"
     ]
    },
    {
     "name": "stderr",
     "output_type": "stream",
     "text": [
      "WARNING:tensorflow:From /Users/hong/anaconda3/lib/python3.6/site-packages/tensorflow_datasets/core/file_format_adapter.py:209: tf_record_iterator (from tensorflow.python.lib.io.tf_record) is deprecated and will be removed in a future version.\n",
      "Instructions for updating:\n",
      "Use eager execution and: \n",
      "`tf.data.TFRecordDataset(path)`\n"
     ]
    },
    {
     "data": {
      "application/vnd.jupyter.widget-view+json": {
       "model_id": "",
       "version_major": 2,
       "version_minor": 0
      },
      "text/plain": [
       "HBox(children=(FloatProgress(value=1.0, bar_style='info', description='Reading...', max=1.0, style=ProgressSty…"
      ]
     },
     "metadata": {},
     "output_type": "display_data"
    },
    {
     "data": {
      "application/vnd.jupyter.widget-view+json": {
       "model_id": "",
       "version_major": 2,
       "version_minor": 0
      },
      "text/plain": [
       "HBox(children=(FloatProgress(value=0.0, description='Writing...', max=2500.0, style=ProgressStyle(description_…"
      ]
     },
     "metadata": {},
     "output_type": "display_data"
    },
    {
     "data": {
      "application/vnd.jupyter.widget-view+json": {
       "model_id": "",
       "version_major": 2,
       "version_minor": 0
      },
      "text/plain": [
       "HBox(children=(FloatProgress(value=1.0, bar_style='info', description='Reading...', max=1.0, style=ProgressSty…"
      ]
     },
     "metadata": {},
     "output_type": "display_data"
    },
    {
     "data": {
      "application/vnd.jupyter.widget-view+json": {
       "model_id": "",
       "version_major": 2,
       "version_minor": 0
      },
      "text/plain": [
       "HBox(children=(FloatProgress(value=0.0, description='Writing...', max=2500.0, style=ProgressStyle(description_…"
      ]
     },
     "metadata": {},
     "output_type": "display_data"
    },
    {
     "data": {
      "application/vnd.jupyter.widget-view+json": {
       "model_id": "",
       "version_major": 2,
       "version_minor": 0
      },
      "text/plain": [
       "HBox(children=(FloatProgress(value=1.0, bar_style='info', description='Reading...', max=1.0, style=ProgressSty…"
      ]
     },
     "metadata": {},
     "output_type": "display_data"
    },
    {
     "data": {
      "application/vnd.jupyter.widget-view+json": {
       "model_id": "",
       "version_major": 2,
       "version_minor": 0
      },
      "text/plain": [
       "HBox(children=(FloatProgress(value=0.0, description='Writing...', max=2500.0, style=ProgressStyle(description_…"
      ]
     },
     "metadata": {},
     "output_type": "display_data"
    },
    {
     "data": {
      "application/vnd.jupyter.widget-view+json": {
       "model_id": "",
       "version_major": 2,
       "version_minor": 0
      },
      "text/plain": [
       "HBox(children=(FloatProgress(value=1.0, bar_style='info', description='Reading...', max=1.0, style=ProgressSty…"
      ]
     },
     "metadata": {},
     "output_type": "display_data"
    },
    {
     "data": {
      "application/vnd.jupyter.widget-view+json": {
       "model_id": "",
       "version_major": 2,
       "version_minor": 0
      },
      "text/plain": [
       "HBox(children=(FloatProgress(value=0.0, description='Writing...', max=2500.0, style=ProgressStyle(description_…"
      ]
     },
     "metadata": {},
     "output_type": "display_data"
    },
    {
     "data": {
      "application/vnd.jupyter.widget-view+json": {
       "model_id": "",
       "version_major": 2,
       "version_minor": 0
      },
      "text/plain": [
       "HBox(children=(FloatProgress(value=1.0, bar_style='info', description='Reading...', max=1.0, style=ProgressSty…"
      ]
     },
     "metadata": {},
     "output_type": "display_data"
    },
    {
     "data": {
      "application/vnd.jupyter.widget-view+json": {
       "model_id": "",
       "version_major": 2,
       "version_minor": 0
      },
      "text/plain": [
       "HBox(children=(FloatProgress(value=0.0, description='Writing...', max=2500.0, style=ProgressStyle(description_…"
      ]
     },
     "metadata": {},
     "output_type": "display_data"
    },
    {
     "data": {
      "application/vnd.jupyter.widget-view+json": {
       "model_id": "",
       "version_major": 2,
       "version_minor": 0
      },
      "text/plain": [
       "HBox(children=(FloatProgress(value=1.0, bar_style='info', description='Reading...', max=1.0, style=ProgressSty…"
      ]
     },
     "metadata": {},
     "output_type": "display_data"
    },
    {
     "data": {
      "application/vnd.jupyter.widget-view+json": {
       "model_id": "",
       "version_major": 2,
       "version_minor": 0
      },
      "text/plain": [
       "HBox(children=(FloatProgress(value=0.0, description='Writing...', max=2500.0, style=ProgressStyle(description_…"
      ]
     },
     "metadata": {},
     "output_type": "display_data"
    },
    {
     "data": {
      "application/vnd.jupyter.widget-view+json": {
       "model_id": "",
       "version_major": 2,
       "version_minor": 0
      },
      "text/plain": [
       "HBox(children=(FloatProgress(value=1.0, bar_style='info', description='Reading...', max=1.0, style=ProgressSty…"
      ]
     },
     "metadata": {},
     "output_type": "display_data"
    },
    {
     "data": {
      "application/vnd.jupyter.widget-view+json": {
       "model_id": "",
       "version_major": 2,
       "version_minor": 0
      },
      "text/plain": [
       "HBox(children=(FloatProgress(value=0.0, description='Writing...', max=2500.0, style=ProgressStyle(description_…"
      ]
     },
     "metadata": {},
     "output_type": "display_data"
    },
    {
     "data": {
      "application/vnd.jupyter.widget-view+json": {
       "model_id": "",
       "version_major": 2,
       "version_minor": 0
      },
      "text/plain": [
       "HBox(children=(FloatProgress(value=1.0, bar_style='info', description='Reading...', max=1.0, style=ProgressSty…"
      ]
     },
     "metadata": {},
     "output_type": "display_data"
    },
    {
     "data": {
      "application/vnd.jupyter.widget-view+json": {
       "model_id": "",
       "version_major": 2,
       "version_minor": 0
      },
      "text/plain": [
       "HBox(children=(FloatProgress(value=0.0, description='Writing...', max=2500.0, style=ProgressStyle(description_…"
      ]
     },
     "metadata": {},
     "output_type": "display_data"
    },
    {
     "data": {
      "application/vnd.jupyter.widget-view+json": {
       "model_id": "",
       "version_major": 2,
       "version_minor": 0
      },
      "text/plain": [
       "HBox(children=(FloatProgress(value=1.0, bar_style='info', description='Reading...', max=1.0, style=ProgressSty…"
      ]
     },
     "metadata": {},
     "output_type": "display_data"
    },
    {
     "data": {
      "application/vnd.jupyter.widget-view+json": {
       "model_id": "",
       "version_major": 2,
       "version_minor": 0
      },
      "text/plain": [
       "HBox(children=(FloatProgress(value=0.0, description='Writing...', max=2500.0, style=ProgressStyle(description_…"
      ]
     },
     "metadata": {},
     "output_type": "display_data"
    },
    {
     "data": {
      "application/vnd.jupyter.widget-view+json": {
       "model_id": "",
       "version_major": 2,
       "version_minor": 0
      },
      "text/plain": [
       "HBox(children=(FloatProgress(value=1.0, bar_style='info', description='Reading...', max=1.0, style=ProgressSty…"
      ]
     },
     "metadata": {},
     "output_type": "display_data"
    },
    {
     "data": {
      "application/vnd.jupyter.widget-view+json": {
       "model_id": "",
       "version_major": 2,
       "version_minor": 0
      },
      "text/plain": [
       "HBox(children=(FloatProgress(value=0.0, description='Writing...', max=2500.0, style=ProgressStyle(description_…"
      ]
     },
     "metadata": {},
     "output_type": "display_data"
    },
    {
     "data": {
      "application/vnd.jupyter.widget-view+json": {
       "model_id": "",
       "version_major": 2,
       "version_minor": 0
      },
      "text/plain": [
       "HBox(children=(FloatProgress(value=1.0, bar_style='info', max=1.0), HTML(value='')))"
      ]
     },
     "metadata": {},
     "output_type": "display_data"
    },
    {
     "data": {
      "application/vnd.jupyter.widget-view+json": {
       "model_id": "",
       "version_major": 2,
       "version_minor": 0
      },
      "text/plain": [
       "HBox(children=(FloatProgress(value=0.0, description='Shuffling...', max=10.0, style=ProgressStyle(description_…"
      ]
     },
     "metadata": {},
     "output_type": "display_data"
    },
    {
     "data": {
      "application/vnd.jupyter.widget-view+json": {
       "model_id": "",
       "version_major": 2,
       "version_minor": 0
      },
      "text/plain": [
       "HBox(children=(FloatProgress(value=1.0, bar_style='info', description='Reading...', max=1.0, style=ProgressSty…"
      ]
     },
     "metadata": {},
     "output_type": "display_data"
    },
    {
     "data": {
      "application/vnd.jupyter.widget-view+json": {
       "model_id": "",
       "version_major": 2,
       "version_minor": 0
      },
      "text/plain": [
       "HBox(children=(FloatProgress(value=0.0, description='Writing...', max=2500.0, style=ProgressStyle(description_…"
      ]
     },
     "metadata": {},
     "output_type": "display_data"
    },
    {
     "data": {
      "application/vnd.jupyter.widget-view+json": {
       "model_id": "",
       "version_major": 2,
       "version_minor": 0
      },
      "text/plain": [
       "HBox(children=(FloatProgress(value=1.0, bar_style='info', description='Reading...', max=1.0, style=ProgressSty…"
      ]
     },
     "metadata": {},
     "output_type": "display_data"
    },
    {
     "data": {
      "application/vnd.jupyter.widget-view+json": {
       "model_id": "",
       "version_major": 2,
       "version_minor": 0
      },
      "text/plain": [
       "HBox(children=(FloatProgress(value=0.0, description='Writing...', max=2500.0, style=ProgressStyle(description_…"
      ]
     },
     "metadata": {},
     "output_type": "display_data"
    },
    {
     "data": {
      "application/vnd.jupyter.widget-view+json": {
       "model_id": "",
       "version_major": 2,
       "version_minor": 0
      },
      "text/plain": [
       "HBox(children=(FloatProgress(value=1.0, bar_style='info', description='Reading...', max=1.0, style=ProgressSty…"
      ]
     },
     "metadata": {},
     "output_type": "display_data"
    },
    {
     "data": {
      "application/vnd.jupyter.widget-view+json": {
       "model_id": "",
       "version_major": 2,
       "version_minor": 0
      },
      "text/plain": [
       "HBox(children=(FloatProgress(value=0.0, description='Writing...', max=2500.0, style=ProgressStyle(description_…"
      ]
     },
     "metadata": {},
     "output_type": "display_data"
    },
    {
     "data": {
      "application/vnd.jupyter.widget-view+json": {
       "model_id": "",
       "version_major": 2,
       "version_minor": 0
      },
      "text/plain": [
       "HBox(children=(FloatProgress(value=1.0, bar_style='info', description='Reading...', max=1.0, style=ProgressSty…"
      ]
     },
     "metadata": {},
     "output_type": "display_data"
    },
    {
     "data": {
      "application/vnd.jupyter.widget-view+json": {
       "model_id": "",
       "version_major": 2,
       "version_minor": 0
      },
      "text/plain": [
       "HBox(children=(FloatProgress(value=0.0, description='Writing...', max=2500.0, style=ProgressStyle(description_…"
      ]
     },
     "metadata": {},
     "output_type": "display_data"
    },
    {
     "data": {
      "application/vnd.jupyter.widget-view+json": {
       "model_id": "",
       "version_major": 2,
       "version_minor": 0
      },
      "text/plain": [
       "HBox(children=(FloatProgress(value=1.0, bar_style='info', description='Reading...', max=1.0, style=ProgressSty…"
      ]
     },
     "metadata": {},
     "output_type": "display_data"
    },
    {
     "data": {
      "application/vnd.jupyter.widget-view+json": {
       "model_id": "",
       "version_major": 2,
       "version_minor": 0
      },
      "text/plain": [
       "HBox(children=(FloatProgress(value=0.0, description='Writing...', max=2500.0, style=ProgressStyle(description_…"
      ]
     },
     "metadata": {},
     "output_type": "display_data"
    },
    {
     "data": {
      "application/vnd.jupyter.widget-view+json": {
       "model_id": "",
       "version_major": 2,
       "version_minor": 0
      },
      "text/plain": [
       "HBox(children=(FloatProgress(value=1.0, bar_style='info', description='Reading...', max=1.0, style=ProgressSty…"
      ]
     },
     "metadata": {},
     "output_type": "display_data"
    },
    {
     "data": {
      "application/vnd.jupyter.widget-view+json": {
       "model_id": "",
       "version_major": 2,
       "version_minor": 0
      },
      "text/plain": [
       "HBox(children=(FloatProgress(value=0.0, description='Writing...', max=2500.0, style=ProgressStyle(description_…"
      ]
     },
     "metadata": {},
     "output_type": "display_data"
    },
    {
     "data": {
      "application/vnd.jupyter.widget-view+json": {
       "model_id": "",
       "version_major": 2,
       "version_minor": 0
      },
      "text/plain": [
       "HBox(children=(FloatProgress(value=1.0, bar_style='info', description='Reading...', max=1.0, style=ProgressSty…"
      ]
     },
     "metadata": {},
     "output_type": "display_data"
    },
    {
     "data": {
      "application/vnd.jupyter.widget-view+json": {
       "model_id": "",
       "version_major": 2,
       "version_minor": 0
      },
      "text/plain": [
       "HBox(children=(FloatProgress(value=0.0, description='Writing...', max=2500.0, style=ProgressStyle(description_…"
      ]
     },
     "metadata": {},
     "output_type": "display_data"
    },
    {
     "data": {
      "application/vnd.jupyter.widget-view+json": {
       "model_id": "",
       "version_major": 2,
       "version_minor": 0
      },
      "text/plain": [
       "HBox(children=(FloatProgress(value=1.0, bar_style='info', description='Reading...', max=1.0, style=ProgressSty…"
      ]
     },
     "metadata": {},
     "output_type": "display_data"
    },
    {
     "data": {
      "application/vnd.jupyter.widget-view+json": {
       "model_id": "",
       "version_major": 2,
       "version_minor": 0
      },
      "text/plain": [
       "HBox(children=(FloatProgress(value=0.0, description='Writing...', max=2500.0, style=ProgressStyle(description_…"
      ]
     },
     "metadata": {},
     "output_type": "display_data"
    },
    {
     "data": {
      "application/vnd.jupyter.widget-view+json": {
       "model_id": "",
       "version_major": 2,
       "version_minor": 0
      },
      "text/plain": [
       "HBox(children=(FloatProgress(value=1.0, bar_style='info', description='Reading...', max=1.0, style=ProgressSty…"
      ]
     },
     "metadata": {},
     "output_type": "display_data"
    },
    {
     "data": {
      "application/vnd.jupyter.widget-view+json": {
       "model_id": "",
       "version_major": 2,
       "version_minor": 0
      },
      "text/plain": [
       "HBox(children=(FloatProgress(value=0.0, description='Writing...', max=2500.0, style=ProgressStyle(description_…"
      ]
     },
     "metadata": {},
     "output_type": "display_data"
    },
    {
     "data": {
      "application/vnd.jupyter.widget-view+json": {
       "model_id": "",
       "version_major": 2,
       "version_minor": 0
      },
      "text/plain": [
       "HBox(children=(FloatProgress(value=1.0, bar_style='info', description='Reading...', max=1.0, style=ProgressSty…"
      ]
     },
     "metadata": {},
     "output_type": "display_data"
    },
    {
     "data": {
      "application/vnd.jupyter.widget-view+json": {
       "model_id": "",
       "version_major": 2,
       "version_minor": 0
      },
      "text/plain": [
       "HBox(children=(FloatProgress(value=0.0, description='Writing...', max=2500.0, style=ProgressStyle(description_…"
      ]
     },
     "metadata": {},
     "output_type": "display_data"
    },
    {
     "data": {
      "application/vnd.jupyter.widget-view+json": {
       "model_id": "",
       "version_major": 2,
       "version_minor": 0
      },
      "text/plain": [
       "HBox(children=(FloatProgress(value=1.0, bar_style='info', max=1.0), HTML(value='')))"
      ]
     },
     "metadata": {},
     "output_type": "display_data"
    },
    {
     "data": {
      "application/vnd.jupyter.widget-view+json": {
       "model_id": "",
       "version_major": 2,
       "version_minor": 0
      },
      "text/plain": [
       "HBox(children=(FloatProgress(value=0.0, description='Shuffling...', max=20.0, style=ProgressStyle(description_…"
      ]
     },
     "metadata": {},
     "output_type": "display_data"
    },
    {
     "data": {
      "application/vnd.jupyter.widget-view+json": {
       "model_id": "",
       "version_major": 2,
       "version_minor": 0
      },
      "text/plain": [
       "HBox(children=(FloatProgress(value=1.0, bar_style='info', description='Reading...', max=1.0, style=ProgressSty…"
      ]
     },
     "metadata": {},
     "output_type": "display_data"
    },
    {
     "data": {
      "application/vnd.jupyter.widget-view+json": {
       "model_id": "",
       "version_major": 2,
       "version_minor": 0
      },
      "text/plain": [
       "HBox(children=(FloatProgress(value=0.0, description='Writing...', max=2500.0, style=ProgressStyle(description_…"
      ]
     },
     "metadata": {},
     "output_type": "display_data"
    },
    {
     "data": {
      "application/vnd.jupyter.widget-view+json": {
       "model_id": "",
       "version_major": 2,
       "version_minor": 0
      },
      "text/plain": [
       "HBox(children=(FloatProgress(value=1.0, bar_style='info', description='Reading...', max=1.0, style=ProgressSty…"
      ]
     },
     "metadata": {},
     "output_type": "display_data"
    },
    {
     "data": {
      "application/vnd.jupyter.widget-view+json": {
       "model_id": "",
       "version_major": 2,
       "version_minor": 0
      },
      "text/plain": [
       "HBox(children=(FloatProgress(value=0.0, description='Writing...', max=2500.0, style=ProgressStyle(description_…"
      ]
     },
     "metadata": {},
     "output_type": "display_data"
    },
    {
     "data": {
      "application/vnd.jupyter.widget-view+json": {
       "model_id": "",
       "version_major": 2,
       "version_minor": 0
      },
      "text/plain": [
       "HBox(children=(FloatProgress(value=1.0, bar_style='info', description='Reading...', max=1.0, style=ProgressSty…"
      ]
     },
     "metadata": {},
     "output_type": "display_data"
    },
    {
     "data": {
      "application/vnd.jupyter.widget-view+json": {
       "model_id": "",
       "version_major": 2,
       "version_minor": 0
      },
      "text/plain": [
       "HBox(children=(FloatProgress(value=0.0, description='Writing...', max=2500.0, style=ProgressStyle(description_…"
      ]
     },
     "metadata": {},
     "output_type": "display_data"
    },
    {
     "data": {
      "application/vnd.jupyter.widget-view+json": {
       "model_id": "",
       "version_major": 2,
       "version_minor": 0
      },
      "text/plain": [
       "HBox(children=(FloatProgress(value=1.0, bar_style='info', description='Reading...', max=1.0, style=ProgressSty…"
      ]
     },
     "metadata": {},
     "output_type": "display_data"
    },
    {
     "data": {
      "application/vnd.jupyter.widget-view+json": {
       "model_id": "",
       "version_major": 2,
       "version_minor": 0
      },
      "text/plain": [
       "HBox(children=(FloatProgress(value=0.0, description='Writing...', max=2500.0, style=ProgressStyle(description_…"
      ]
     },
     "metadata": {},
     "output_type": "display_data"
    },
    {
     "data": {
      "application/vnd.jupyter.widget-view+json": {
       "model_id": "",
       "version_major": 2,
       "version_minor": 0
      },
      "text/plain": [
       "HBox(children=(FloatProgress(value=1.0, bar_style='info', description='Reading...', max=1.0, style=ProgressSty…"
      ]
     },
     "metadata": {},
     "output_type": "display_data"
    },
    {
     "data": {
      "application/vnd.jupyter.widget-view+json": {
       "model_id": "",
       "version_major": 2,
       "version_minor": 0
      },
      "text/plain": [
       "HBox(children=(FloatProgress(value=0.0, description='Writing...', max=2500.0, style=ProgressStyle(description_…"
      ]
     },
     "metadata": {},
     "output_type": "display_data"
    },
    {
     "data": {
      "application/vnd.jupyter.widget-view+json": {
       "model_id": "",
       "version_major": 2,
       "version_minor": 0
      },
      "text/plain": [
       "HBox(children=(FloatProgress(value=1.0, bar_style='info', description='Reading...', max=1.0, style=ProgressSty…"
      ]
     },
     "metadata": {},
     "output_type": "display_data"
    },
    {
     "data": {
      "application/vnd.jupyter.widget-view+json": {
       "model_id": "",
       "version_major": 2,
       "version_minor": 0
      },
      "text/plain": [
       "HBox(children=(FloatProgress(value=0.0, description='Writing...', max=2500.0, style=ProgressStyle(description_…"
      ]
     },
     "metadata": {},
     "output_type": "display_data"
    },
    {
     "data": {
      "application/vnd.jupyter.widget-view+json": {
       "model_id": "",
       "version_major": 2,
       "version_minor": 0
      },
      "text/plain": [
       "HBox(children=(FloatProgress(value=1.0, bar_style='info', description='Reading...', max=1.0, style=ProgressSty…"
      ]
     },
     "metadata": {},
     "output_type": "display_data"
    },
    {
     "data": {
      "application/vnd.jupyter.widget-view+json": {
       "model_id": "",
       "version_major": 2,
       "version_minor": 0
      },
      "text/plain": [
       "HBox(children=(FloatProgress(value=0.0, description='Writing...', max=2500.0, style=ProgressStyle(description_…"
      ]
     },
     "metadata": {},
     "output_type": "display_data"
    },
    {
     "data": {
      "application/vnd.jupyter.widget-view+json": {
       "model_id": "",
       "version_major": 2,
       "version_minor": 0
      },
      "text/plain": [
       "HBox(children=(FloatProgress(value=1.0, bar_style='info', description='Reading...', max=1.0, style=ProgressSty…"
      ]
     },
     "metadata": {},
     "output_type": "display_data"
    },
    {
     "data": {
      "application/vnd.jupyter.widget-view+json": {
       "model_id": "",
       "version_major": 2,
       "version_minor": 0
      },
      "text/plain": [
       "HBox(children=(FloatProgress(value=0.0, description='Writing...', max=2500.0, style=ProgressStyle(description_…"
      ]
     },
     "metadata": {},
     "output_type": "display_data"
    },
    {
     "data": {
      "application/vnd.jupyter.widget-view+json": {
       "model_id": "",
       "version_major": 2,
       "version_minor": 0
      },
      "text/plain": [
       "HBox(children=(FloatProgress(value=1.0, bar_style='info', description='Reading...', max=1.0, style=ProgressSty…"
      ]
     },
     "metadata": {},
     "output_type": "display_data"
    },
    {
     "data": {
      "application/vnd.jupyter.widget-view+json": {
       "model_id": "",
       "version_major": 2,
       "version_minor": 0
      },
      "text/plain": [
       "HBox(children=(FloatProgress(value=0.0, description='Writing...', max=2500.0, style=ProgressStyle(description_…"
      ]
     },
     "metadata": {},
     "output_type": "display_data"
    },
    {
     "data": {
      "application/vnd.jupyter.widget-view+json": {
       "model_id": "",
       "version_major": 2,
       "version_minor": 0
      },
      "text/plain": [
       "HBox(children=(FloatProgress(value=1.0, bar_style='info', description='Reading...', max=1.0, style=ProgressSty…"
      ]
     },
     "metadata": {},
     "output_type": "display_data"
    },
    {
     "data": {
      "application/vnd.jupyter.widget-view+json": {
       "model_id": "",
       "version_major": 2,
       "version_minor": 0
      },
      "text/plain": [
       "HBox(children=(FloatProgress(value=0.0, description='Writing...', max=2500.0, style=ProgressStyle(description_…"
      ]
     },
     "metadata": {},
     "output_type": "display_data"
    },
    {
     "data": {
      "application/vnd.jupyter.widget-view+json": {
       "model_id": "",
       "version_major": 2,
       "version_minor": 0
      },
      "text/plain": [
       "HBox(children=(FloatProgress(value=1.0, bar_style='info', description='Reading...', max=1.0, style=ProgressSty…"
      ]
     },
     "metadata": {},
     "output_type": "display_data"
    },
    {
     "data": {
      "application/vnd.jupyter.widget-view+json": {
       "model_id": "",
       "version_major": 2,
       "version_minor": 0
      },
      "text/plain": [
       "HBox(children=(FloatProgress(value=0.0, description='Writing...', max=2500.0, style=ProgressStyle(description_…"
      ]
     },
     "metadata": {},
     "output_type": "display_data"
    },
    {
     "data": {
      "application/vnd.jupyter.widget-view+json": {
       "model_id": "",
       "version_major": 2,
       "version_minor": 0
      },
      "text/plain": [
       "HBox(children=(FloatProgress(value=1.0, bar_style='info', description='Reading...', max=1.0, style=ProgressSty…"
      ]
     },
     "metadata": {},
     "output_type": "display_data"
    },
    {
     "data": {
      "application/vnd.jupyter.widget-view+json": {
       "model_id": "",
       "version_major": 2,
       "version_minor": 0
      },
      "text/plain": [
       "HBox(children=(FloatProgress(value=0.0, description='Writing...', max=2500.0, style=ProgressStyle(description_…"
      ]
     },
     "metadata": {},
     "output_type": "display_data"
    },
    {
     "data": {
      "application/vnd.jupyter.widget-view+json": {
       "model_id": "",
       "version_major": 2,
       "version_minor": 0
      },
      "text/plain": [
       "HBox(children=(FloatProgress(value=1.0, bar_style='info', description='Reading...', max=1.0, style=ProgressSty…"
      ]
     },
     "metadata": {},
     "output_type": "display_data"
    },
    {
     "data": {
      "application/vnd.jupyter.widget-view+json": {
       "model_id": "",
       "version_major": 2,
       "version_minor": 0
      },
      "text/plain": [
       "HBox(children=(FloatProgress(value=0.0, description='Writing...', max=2500.0, style=ProgressStyle(description_…"
      ]
     },
     "metadata": {},
     "output_type": "display_data"
    },
    {
     "data": {
      "application/vnd.jupyter.widget-view+json": {
       "model_id": "",
       "version_major": 2,
       "version_minor": 0
      },
      "text/plain": [
       "HBox(children=(FloatProgress(value=1.0, bar_style='info', description='Reading...', max=1.0, style=ProgressSty…"
      ]
     },
     "metadata": {},
     "output_type": "display_data"
    },
    {
     "data": {
      "application/vnd.jupyter.widget-view+json": {
       "model_id": "",
       "version_major": 2,
       "version_minor": 0
      },
      "text/plain": [
       "HBox(children=(FloatProgress(value=0.0, description='Writing...', max=2500.0, style=ProgressStyle(description_…"
      ]
     },
     "metadata": {},
     "output_type": "display_data"
    },
    {
     "data": {
      "application/vnd.jupyter.widget-view+json": {
       "model_id": "",
       "version_major": 2,
       "version_minor": 0
      },
      "text/plain": [
       "HBox(children=(FloatProgress(value=1.0, bar_style='info', description='Reading...', max=1.0, style=ProgressSty…"
      ]
     },
     "metadata": {},
     "output_type": "display_data"
    },
    {
     "data": {
      "application/vnd.jupyter.widget-view+json": {
       "model_id": "",
       "version_major": 2,
       "version_minor": 0
      },
      "text/plain": [
       "HBox(children=(FloatProgress(value=0.0, description='Writing...', max=2500.0, style=ProgressStyle(description_…"
      ]
     },
     "metadata": {},
     "output_type": "display_data"
    },
    {
     "data": {
      "application/vnd.jupyter.widget-view+json": {
       "model_id": "",
       "version_major": 2,
       "version_minor": 0
      },
      "text/plain": [
       "HBox(children=(FloatProgress(value=1.0, bar_style='info', description='Reading...', max=1.0, style=ProgressSty…"
      ]
     },
     "metadata": {},
     "output_type": "display_data"
    },
    {
     "data": {
      "application/vnd.jupyter.widget-view+json": {
       "model_id": "",
       "version_major": 2,
       "version_minor": 0
      },
      "text/plain": [
       "HBox(children=(FloatProgress(value=0.0, description='Writing...', max=2500.0, style=ProgressStyle(description_…"
      ]
     },
     "metadata": {},
     "output_type": "display_data"
    },
    {
     "data": {
      "application/vnd.jupyter.widget-view+json": {
       "model_id": "",
       "version_major": 2,
       "version_minor": 0
      },
      "text/plain": [
       "HBox(children=(FloatProgress(value=1.0, bar_style='info', description='Reading...', max=1.0, style=ProgressSty…"
      ]
     },
     "metadata": {},
     "output_type": "display_data"
    },
    {
     "data": {
      "application/vnd.jupyter.widget-view+json": {
       "model_id": "",
       "version_major": 2,
       "version_minor": 0
      },
      "text/plain": [
       "HBox(children=(FloatProgress(value=0.0, description='Writing...', max=2500.0, style=ProgressStyle(description_…"
      ]
     },
     "metadata": {},
     "output_type": "display_data"
    },
    {
     "data": {
      "application/vnd.jupyter.widget-view+json": {
       "model_id": "",
       "version_major": 2,
       "version_minor": 0
      },
      "text/plain": [
       "HBox(children=(FloatProgress(value=1.0, bar_style='info', description='Reading...', max=1.0, style=ProgressSty…"
      ]
     },
     "metadata": {},
     "output_type": "display_data"
    },
    {
     "data": {
      "application/vnd.jupyter.widget-view+json": {
       "model_id": "",
       "version_major": 2,
       "version_minor": 0
      },
      "text/plain": [
       "HBox(children=(FloatProgress(value=0.0, description='Writing...', max=2500.0, style=ProgressStyle(description_…"
      ]
     },
     "metadata": {},
     "output_type": "display_data"
    },
    {
     "data": {
      "application/vnd.jupyter.widget-view+json": {
       "model_id": "",
       "version_major": 2,
       "version_minor": 0
      },
      "text/plain": [
       "HBox(children=(FloatProgress(value=1.0, bar_style='info', description='Reading...', max=1.0, style=ProgressSty…"
      ]
     },
     "metadata": {},
     "output_type": "display_data"
    },
    {
     "data": {
      "application/vnd.jupyter.widget-view+json": {
       "model_id": "",
       "version_major": 2,
       "version_minor": 0
      },
      "text/plain": [
       "HBox(children=(FloatProgress(value=0.0, description='Writing...', max=2500.0, style=ProgressStyle(description_…"
      ]
     },
     "metadata": {},
     "output_type": "display_data"
    },
    {
     "data": {
      "application/vnd.jupyter.widget-view+json": {
       "model_id": "",
       "version_major": 2,
       "version_minor": 0
      },
      "text/plain": [
       "HBox(children=(FloatProgress(value=1.0, bar_style='info', description='Reading...', max=1.0, style=ProgressSty…"
      ]
     },
     "metadata": {},
     "output_type": "display_data"
    },
    {
     "data": {
      "application/vnd.jupyter.widget-view+json": {
       "model_id": "",
       "version_major": 2,
       "version_minor": 0
      },
      "text/plain": [
       "HBox(children=(FloatProgress(value=0.0, description='Writing...', max=2500.0, style=ProgressStyle(description_…"
      ]
     },
     "metadata": {},
     "output_type": "display_data"
    },
    {
     "name": "stdout",
     "output_type": "stream",
     "text": [
      "\u001b[1mDataset imdb_reviews downloaded and prepared to /Users/hong/tensorflow_datasets/imdb_reviews/plain_text/0.1.0. Subsequent calls will reuse this data.\u001b[0m\n"
     ]
    },
    {
     "name": "stderr",
     "output_type": "stream",
     "text": [
      "WARNING:absl:Warning: Setting shuffle_files=True because split=TRAIN and shuffle_files=None. This behavior will be deprecated on 2019-08-06, at which point shuffle_files=False will be the default for all splits.\n"
     ]
    }
   ],
   "source": [
    "imdb, info = tfds.load(\"imdb_reviews\", with_info = True, as_supervised = True)"
   ]
  },
  {
   "cell_type": "code",
   "execution_count": 53,
   "metadata": {},
   "outputs": [],
   "source": [
    "import numpy as np\n",
    "train_data, text_data = imdb['train'], imdb['test']\n",
    "training_sentences = []\n",
    "training_labels = []\n",
    "testing_sentences = []\n",
    "testing_labels = []\n"
   ]
  },
  {
   "cell_type": "code",
   "execution_count": 57,
   "metadata": {},
   "outputs": [],
   "source": [
    "for s, l in train_data:\n",
    "    training_sentences.append(str(s.numpy()))\n",
    "    training_labels.append(l.numpy())\n",
    "for s, l in text_data:\n",
    "    testing_sentences.append(str(s.numpy()))\n",
    "    testing_labels.append(l.numpy())\n",
    "\n",
    "training_labels_final = np.array(training_labels)\n",
    "testing_labels_final = np.array(testing_labels)\n"
   ]
  },
  {
   "cell_type": "code",
   "execution_count": 78,
   "metadata": {},
   "outputs": [],
   "source": [
    "vocab_size = 1000\n",
    "max_length = 120\n",
    "embedding_dim = 16\n",
    "trunc_type = 'post'\n",
    "oov_tok = 'oov'\n",
    "\n",
    "tokenizer = Tokenizer(num_words = vocab_size, oov_token = oov_tok)\n",
    "tokenizer.fit_on_texts(training_sentences)\n",
    "word_index = tokenizer.word_index\n",
    "sequences = tokenizer.texts_to_sequences(training_sentences)\n",
    "padded = pad_sequences(sequences, maxlen = max_length, truncating = trunc_type)\n",
    "\n",
    "testing_sequences = tokenizer.texts_to_sequences(testing_sentences)\n",
    "testing_padded = pad_sequences(testing_sequences, maxlen = max_length, truncating = trunc_type)"
   ]
  },
  {
   "cell_type": "code",
   "execution_count": 160,
   "metadata": {},
   "outputs": [
    {
     "data": {
      "text/plain": [
       "86539"
      ]
     },
     "execution_count": 160,
     "metadata": {},
     "output_type": "execute_result"
    }
   ],
   "source": [
    "len(word_index)"
   ]
  },
  {
   "cell_type": "code",
   "execution_count": 79,
   "metadata": {},
   "outputs": [],
   "source": [
    "reverse_word_index = dict([(value, key) for (key, value) in word_index.items()])\n",
    "\n",
    "def decode_review(text):\n",
    "    return ' '.join([reverse_word_index.get(i, '?') for i in text])\n"
   ]
  },
  {
   "cell_type": "code",
   "execution_count": 80,
   "metadata": {},
   "outputs": [
    {
     "name": "stdout",
     "output_type": "stream",
     "text": [
      "b this is the most oov film i have ever seen i first saw it as a child and even thinking about it now really oov me i know it was set in a time when life was hard and i know these people were poor and the oov were oov yes i get all that what i find hard to take is i can't remember one single light moment in the entire film maybe it was true to life i don't know i'm quite sure the acting was top oov and the direction and quality of oov etc etc was wonderful and i know that every film can't have a happy ending but as a family film it is\n",
      "b\"This is the most depressing film I have ever seen. I first saw it as a child and even thinking about it now really upsets me. I know it was set in a time when life was hard and I know these people were poor and the crops were vital. Yes, I get all that. What I find hard to take is I can't remember one single light moment in the entire film. Maybe it was true to life, I don't know. I'm quite sure the acting was top notch and the direction and quality of filming etc etc was wonderful and I know that every film can't have a happy ending but as a family film it is dire in my opinion.<br /><br />I wouldn't recommend it to anyone who wants to be entertained by a film. I can't stress enough how this film affected me as a child. I was talking about it recently and all the sad memories came flooding back. I think it would have all but the heartless reaching for the Prozac.\"\n"
     ]
    }
   ],
   "source": [
    "\n",
    "print(decode_review(padded[0]))\n",
    "print(training_sentences[0])"
   ]
  },
  {
   "cell_type": "code",
   "execution_count": 81,
   "metadata": {},
   "outputs": [
    {
     "name": "stdout",
     "output_type": "stream",
     "text": [
      "Model: \"sequential_2\"\n",
      "_________________________________________________________________\n",
      "Layer (type)                 Output Shape              Param #   \n",
      "=================================================================\n",
      "embedding_5 (Embedding)      (None, 120, 16)           16000     \n",
      "_________________________________________________________________\n",
      "flatten_5 (Flatten)          (None, 1920)              0         \n",
      "_________________________________________________________________\n",
      "dense_10 (Dense)             (None, 6)                 11526     \n",
      "_________________________________________________________________\n",
      "dense_11 (Dense)             (None, 1)                 7         \n",
      "=================================================================\n",
      "Total params: 27,533\n",
      "Trainable params: 27,533\n",
      "Non-trainable params: 0\n",
      "_________________________________________________________________\n"
     ]
    }
   ],
   "source": [
    "model = tf.keras.Sequential([\n",
    "    tf.keras.layers.Embedding(vocab_size, embedding_dim, input_length = max_length),\n",
    "    tf.keras.layers.Flatten(),\n",
    "    tf.keras.layers.Dense(6, activation = 'relu'),\n",
    "    tf.keras.layers.Dense(1, activation = 'sigmoid')\n",
    "])\n",
    "\n",
    "model.compile(loss = 'binary_crossentropy', optimizer = 'adam', metrics=['accuracy'])\n",
    "model.summary()"
   ]
  },
  {
   "cell_type": "code",
   "execution_count": 82,
   "metadata": {},
   "outputs": [
    {
     "name": "stdout",
     "output_type": "stream",
     "text": [
      "Train on 50000 samples, validate on 25000 samples\n",
      "Epoch 1/10\n",
      "50000/50000 [==============================] - 16s 324us/sample - loss: 0.4608 - accuracy: 0.7709 - val_loss: 0.4223 - val_accuracy: 0.8015\n",
      "Epoch 2/10\n",
      "50000/50000 [==============================] - 14s 285us/sample - loss: 0.3111 - accuracy: 0.8726 - val_loss: 0.4906 - val_accuracy: 0.7841\n",
      "Epoch 3/10\n",
      "50000/50000 [==============================] - 15s 290us/sample - loss: 0.1991 - accuracy: 0.9297 - val_loss: 0.6753 - val_accuracy: 0.7558\n",
      "Epoch 4/10\n",
      "50000/50000 [==============================] - 15s 301us/sample - loss: 0.1142 - accuracy: 0.9640 - val_loss: 0.8636 - val_accuracy: 0.7508\n",
      "Epoch 5/10\n",
      "50000/50000 [==============================] - 15s 299us/sample - loss: 0.0613 - accuracy: 0.9828 - val_loss: 1.1507 - val_accuracy: 0.7453\n",
      "Epoch 6/10\n",
      "50000/50000 [==============================] - 15s 292us/sample - loss: 0.0337 - accuracy: 0.9908 - val_loss: 1.4413 - val_accuracy: 0.7414\n",
      "Epoch 7/10\n",
      "50000/50000 [==============================] - 15s 293us/sample - loss: 0.0209 - accuracy: 0.9939 - val_loss: 1.7272 - val_accuracy: 0.7408\n",
      "Epoch 8/10\n",
      "50000/50000 [==============================] - 14s 290us/sample - loss: 0.0208 - accuracy: 0.9931 - val_loss: 1.9355 - val_accuracy: 0.7386\n",
      "Epoch 9/10\n",
      "50000/50000 [==============================] - 15s 291us/sample - loss: 0.0169 - accuracy: 0.9938 - val_loss: 2.2586 - val_accuracy: 0.7358\n",
      "Epoch 10/10\n",
      "50000/50000 [==============================] - 15s 292us/sample - loss: 0.0118 - accuracy: 0.9958 - val_loss: 2.3594 - val_accuracy: 0.7380\n"
     ]
    },
    {
     "data": {
      "text/plain": [
       "<tensorflow.python.keras.callbacks.History at 0x63c8c4048>"
      ]
     },
     "execution_count": 82,
     "metadata": {},
     "output_type": "execute_result"
    }
   ],
   "source": [
    "num_epoch = 10\n",
    "model.fit(padded, training_labels_final, epochs = num_epoch, validation_data = (testing_padded, testing_labels_final))\n"
   ]
  },
  {
   "cell_type": "code",
   "execution_count": 85,
   "metadata": {},
   "outputs": [
    {
     "name": "stdout",
     "output_type": "stream",
     "text": [
      "(1000, 16)\n"
     ]
    }
   ],
   "source": [
    "e = model.layers[0]\n",
    "weights = e.get_weights()[0]\n",
    "print(weights.shape)"
   ]
  },
  {
   "cell_type": "code",
   "execution_count": 86,
   "metadata": {},
   "outputs": [],
   "source": [
    "import io\n",
    "out_v = io.open('vecs.tsv', 'w', encoding = 'utf-8')\n",
    "out_m = io.open('meta.tsv', 'w', encoding = 'utf-8')\n",
    "for word_num in range(1, vocab_size):\n",
    "    word = reverse_word_index[word_num]\n",
    "    embeddings = weights[word_num]\n",
    "    out_m.write(word + \"\\n\")\n",
    "    out_v.write('\\t'.join([str(x) for x in embeddings]) + \"\\n\")\n",
    "out_v.close()\n",
    "out_m.close()"
   ]
  },
  {
   "cell_type": "code",
   "execution_count": 101,
   "metadata": {},
   "outputs": [
    {
     "name": "stdout",
     "output_type": "stream",
     "text": [
      "era\n",
      "[ 0.2271215  -0.1588689  -0.10844458  0.09987214 -0.06229327  0.28513464\n",
      "  0.4180902   0.14746661 -0.07856593 -0.12027813  0.00349138 -0.1546871\n",
      " -0.12788294 -0.0937545   0.03234789  0.13130184]\n"
     ]
    }
   ],
   "source": [
    "i = 998\n",
    "print(reverse_word_index[i])\n",
    "print(weights[i])\n"
   ]
  },
  {
   "cell_type": "code",
   "execution_count": 139,
   "metadata": {},
   "outputs": [],
   "source": [
    "# from this 16 dimensional data to PCA\n",
    "from sklearn.decomposition import PCA\n",
    "import pandas as pd\n",
    "pca = PCA(n_components = 1)\n",
    "p = pca.fit_transform(weights)"
   ]
  },
  {
   "cell_type": "code",
   "execution_count": 140,
   "metadata": {},
   "outputs": [],
   "source": [
    "p = pd.DataFrame(p)"
   ]
  },
  {
   "cell_type": "markdown",
   "metadata": {},
   "source": [
    "# Sarcasm dataset"
   ]
  },
  {
   "cell_type": "code",
   "execution_count": 1,
   "metadata": {},
   "outputs": [],
   "source": [
    "import json, urllib\n",
    "import tensorflow as tf\n",
    "\n",
    "from tensorflow.keras.preprocessing.text import Tokenizer\n",
    "from tensorflow.keras.preprocessing.sequence import pad_sequences\n",
    "\n",
    "\n",
    "vocab_size = 10000\n",
    "max_length = 32\n",
    "embedding_dim = 16\n",
    "trunc_type = 'post'\n",
    "padding_type = 'post'\n",
    "oov_tok = 'oov'\n",
    "#training_size = 20000"
   ]
  },
  {
   "cell_type": "code",
   "execution_count": 2,
   "metadata": {},
   "outputs": [],
   "source": [
    "# access sarcasm json file via url\n",
    "url = \"https://storage.googleapis.com/laurencemoroney-blog.appspot.com/sarcasm.json\"\n",
    "response = urllib.request.urlopen(url)\n",
    "data = json.loads(response.read())"
   ]
  },
  {
   "cell_type": "code",
   "execution_count": 3,
   "metadata": {},
   "outputs": [],
   "source": [
    "# creating arrays for model\n",
    "sentences = []\n",
    "labels = []\n",
    "\n",
    "for item in data:\n",
    "    sentences.append(item['headline'])\n",
    "    labels.append(item['is_sarcastic'])"
   ]
  },
  {
   "cell_type": "code",
   "execution_count": 4,
   "metadata": {},
   "outputs": [
    {
     "data": {
      "text/plain": [
       "[\"former versace store clerk sues over secret 'black code' for minority shoppers\",\n",
       " \"the 'roseanne' revival catches up to our thorny political mood, for better and worse\",\n",
       " \"mom starting to fear son's web series closest thing she will have to grandchild\",\n",
       " 'boehner just wants wife to listen, not come up with alternative debt-reduction ideas',\n",
       " 'j.k. rowling wishes snape happy birthday in the most magical way',\n",
       " \"advancing the world's women\",\n",
       " 'the fascinating case for eating lab-grown meat',\n",
       " 'this ceo will send your kids to school, if you work for his company',\n",
       " 'top snake handler leaves sinking huckabee campaign',\n",
       " \"friday's morning email: inside trump's presser for the ages\",\n",
       " 'airline passengers tackle man who rushes cockpit in bomb threat',\n",
       " 'facebook reportedly working on healthcare features and apps',\n",
       " \"north korea praises trump and urges us voters to reject 'dull hillary'\",\n",
       " \"actually, cnn's jeffrey lord has been 'indefensible' for a while\",\n",
       " 'barcelona holds huge protest in support of refugees',\n",
       " \"nuclear bomb detonates during rehearsal for 'spider-man' musical\",\n",
       " \"cosby lawyer asks why accusers didn't come forward to be smeared by legal team years ago\",\n",
       " 'stock analysts confused, frightened by boar market',\n",
       " \"bloomberg's program to build better cities just got bigger\",\n",
       " 'craig hicks indicted',\n",
       " 'courtroom sketch artist has clear manga influences',\n",
       " 'trump assures nation that decision for syrian airstrikes came after carefully considering all his passing whims',\n",
       " 'qatar deporting dutch woman who reported she was drugged and raped',\n",
       " \"this is why you shouldn't go to the circus\",\n",
       " \"ted cruz hits the panic button: 'we could lose both houses of congress'\",\n",
       " 'why writers must plan to be surprised',\n",
       " 'obama visits arlington national cemetery to honor veterans',\n",
       " 'ex-con back behind bar',\n",
       " 'after careful consideration, bush recommends oil drilling',\n",
       " 'remembrance is the beginning of the task',\n",
       " 'allies: islamist motive for killing nemtsov is nonsense',\n",
       " \"gillian jacobs on what it's like to kiss adam brody\",\n",
       " \"uber vows to repay nyc drivers 'tens of millions' after tax snafu\",\n",
       " 'apple may have poached electric motorcycle company to death',\n",
       " \"drug-resistant bacteria often lurk in children's, dogs' sandboxes\",\n",
       " 'if you see a muslim at the airport',\n",
       " 'giant altoid heading toward earth',\n",
       " \"'moana' sails straight to the top of the box office with massive $81.1 million opening\",\n",
       " 'selig counted money while baseball lost the next generation of fans',\n",
       " 'robin williams inflicted on holiday moviegoers for eighth straight year',\n",
       " \"devin nunes vows to 'never' reveal source of surveillance claims\",\n",
       " 'scott used to stop breathing nearly 40 times an hour. this device changed his life',\n",
       " 'rescuers heroically help beached garbage back into ocean',\n",
       " \"medics drop soccer player from stretcher; he's ticked\",\n",
       " 'give the gift of play this holiday season',\n",
       " 'christian bale visits sikh temple victims',\n",
       " 'spicer denies that ending maternity care guarantee would mean women pay more for health care',\n",
       " \"'right to live life in complete, stunned horror,' added to constitution\",\n",
       " 'nasa now almost positive mars is rocky',\n",
       " 'monster undeterred by night-light',\n",
       " 'diy: sports equipment closet',\n",
       " '1 dead, 3 injured in shooting at t.i. concert in nyc',\n",
       " \"longtime teacher retires without changing a single student's life\",\n",
       " 'donald trump heading for a series of wins in the northeast, polls say',\n",
       " \"donald trump wouldn't have had the ready cash to self-finance entire campaign — analysis\",\n",
       " \"new 'star wars' film once again disappoints die-hard nien nunb fans\",\n",
       " \"bats shooed out of nation's waterslide tunnels in preparation for summer\",\n",
       " 'mobile news crew reports on own van breaking down',\n",
       " \"un rights chief calls humanitarian situation in syria 'an outrage'\",\n",
       " \"how to track santa claus' flight around the world this christmas eve\",\n",
       " 'obama has colorado appraised',\n",
       " \"trouble again in tv's africa\",\n",
       " 'brita unveils new in-throat water filters',\n",
       " 'report: john grisham slowly but surely climbing list of greatest living american authors',\n",
       " \"ghost can't make a simple cup of coffee without everyone freaking out\",\n",
       " 'tupperware will never truly recover from red curry leftovers',\n",
       " \"one of the planet's most powerful forces for change? an adolescent girl\",\n",
       " 'how does draymond green take his game to the next level? by tuning in to the wnba',\n",
       " \"area woman said 'sorry' 118 times yesterday\",\n",
       " 'ryan lochte apologizes for behavior in rio',\n",
       " 'north dakota not heard from in 48 hours',\n",
       " '4 lessons prison taught me about power and control',\n",
       " 'sick fucks line up to gape at dead body',\n",
       " \"what is america's first muslim fraternity really like?\",\n",
       " 'the vicious knot of syria, the untangling process contains solutions in our time',\n",
       " 'this congressman thinks we can fix the economy by drinking beer',\n",
       " 'breast implants found to cause problems in laboratory mice',\n",
       " 'trump orders strikes on syria in retaliation for chemical attack',\n",
       " \"ceo's funeral a networking dream\",\n",
       " 'year-round schooling: how it would help minority students',\n",
       " '90 zen teachers pledge to change culture that fosters abuse',\n",
       " 'nypd weighs allowing chokeholds following eric garner death',\n",
       " 'sonny bono foundation prevents at-risk youths from skiing into trees',\n",
       " \"pope francis reminds the world that caring for the earth is everyone's responsibility\",\n",
       " '6-year-old cries when told mtm productions kitten dead by now',\n",
       " \"ex-boyfriend just thought he'd check in and throw entire day off\",\n",
       " \"doctors restore ken burns' full-color vision after removing massive tumor from filmmaker's visual cortex\",\n",
       " \"'gravity' & '12 years a slave' tie at 2014 pga awards\",\n",
       " 'for national coming out day, 150 lgbtq sports people who have come out in the last year',\n",
       " 'john oliver lays out the most disturbing ways in which trump impacts america',\n",
       " 'house gop crackdown continues',\n",
       " \"'i must make sure you have the skills to please my grandson,' says queen elizabeth disrobing before meghan markle\",\n",
       " 'man visiting hometown amazed to find all his childhood insecurities still there',\n",
       " 'look: world cup star attacked by giant bug',\n",
       " 'clinton becomes first president to clear 18 feet in pole vault',\n",
       " 'hunter s. thompson shoots mouth off one last time',\n",
       " \"inhofe's grand climate conspiracy theory: it's all about barbra streisand\",\n",
       " '5 questions i wish younger people would stop asking me',\n",
       " 'albuquerque shooter on the loose; gunman leaves 1 dead, 3 injured',\n",
       " \"what it's like to lose everything in a flood\",\n",
       " \"demi lovato drops emotional 'nightingale' music vid\",\n",
       " 'miley cyrus and liam hemsworth smooch on nye, and the world notices',\n",
       " 'jealous gps clearly wants man to back over wife',\n",
       " \"'parks and rec' star natalie morales comes out as queer\",\n",
       " 'the top italy tours for 2015',\n",
       " \"kaia gerber, cindy crawford's daughter, lands major fashion campaign\",\n",
       " 'l.a. grants clippers $12 for new nets',\n",
       " 'james corden roasts david beckham for matching outfits with posh',\n",
       " 'café adds heartbreaking little lunch menu',\n",
       " \"mcdonald's says its packaging will be 100 percent green by 2025\",\n",
       " \"kris jenner turned all the way up for drunken valentine's day karaoke\",\n",
       " 'whale regrets eating 290,000 plastic poker chips that fell off container ship',\n",
       " \"texas ebola patient 'fighting for his life'\",\n",
       " \"'is it too late to audition?' asks perfect actor for role, poking head into room just as producers were giving up hope\",\n",
       " 'robert de niro to turn 58 for movie role',\n",
       " 'scott pruitt (sort of) answers whether trump believes in climate change',\n",
       " 'accused father and son urinal thieves flushed out by cops',\n",
       " \"'just take it slow, and you'll be fine,' drunk driver assures self while speeding away in stolen police car\",\n",
       " \"3 libertarians fuel $7 million super pac in philadelphia's mayoral democratic primary\",\n",
       " \"air force will no longer require 'so help me god' in enlistment oaths\",\n",
       " 'paul newman dies after consuming 51 hard-boiled eggs',\n",
       " 'yak chews thoughtfully',\n",
       " \"man worried about drug dealer who's not picking up phone\",\n",
       " \"dad recommends hotel 10 miles away from city you're visiting\",\n",
       " 'explosion fells building outside paris, killing at least 2',\n",
       " \"the source of donald trump's military expertise finally revealed!\",\n",
       " 'union claims sanders campaign staffers posed as members to influence workers',\n",
       " \"seattle mayor's accuser in sex-abuse lawsuit comes forward\",\n",
       " 'southern comfort comforts southerner',\n",
       " 'swedish police featured in film shown by fox news say they were selectively edited',\n",
       " 'chromat features not 1, but 2 plus-size models on its runway',\n",
       " 'councilman calls on baltimore rappers to inspire students',\n",
       " '10 qualities of your inner spirit',\n",
       " 'chubby jewish boy dreams of one day being next apatow muse',\n",
       " \"the only parenting advice i'd dare to give\",\n",
       " 'family chooses different dog than reincarnated grandfather',\n",
       " 'celebrities celebrate fourth of july with some fun in the sun',\n",
       " 'international women\\'s day: will \"western women save the world\"?',\n",
       " \"michelle phan, youtube's 'beauty bestie,' empowers women from the outside in\",\n",
       " \"caitlyn jenner responds to ricky gervais' golden globes jokes\",\n",
       " 'joy behar responds to michael flynn guilty plea with pure joy',\n",
       " '6 things no one tells women about their weight loss journey',\n",
       " 'fan disappointed to learn l. ron hubbard scientologist',\n",
       " 'marriage breaks up over procreative differences',\n",
       " 'ne-yo helps to raise $2.3 million for california engineering school',\n",
       " \"elizabeth warren calls donald trump a 'racist bully'\",\n",
       " 'six dead, 10 hurt in baltimore commuter, school bus crash',\n",
       " 'fox news problem solvers in way over their heads',\n",
       " 'kim gordon clarifies her comments on lana del rey and feminism',\n",
       " \"bashar al-assad tries tiny bit of sarin gas on self to see what it's like\",\n",
       " \"my niece has cancer and i'm ticked about it\",\n",
       " 'supermodel stephanie seymour arrested, charged with drunken driving',\n",
       " 'scoliosis: what you need to know',\n",
       " \"controversy erupts after uk retailer removes gender labels from kids' clothes\",\n",
       " 'teacher bitches about paycheck to sixth-grade class',\n",
       " 'area insurance salesman celebrates 14th year of quoting fletch',\n",
       " 'friends always on best behavior around neil labute',\n",
       " 'man vows never to watch another sci-fi movie with physicist friend',\n",
       " \"biologists announce they're all done with rodents\",\n",
       " \"megyn kelly on donald trump: 'i have done my level best to not make this story about me'\",\n",
       " 'the secret behind a one day project going viral',\n",
       " 'creating leverage where none seems to exist',\n",
       " \"new movie taps into nation's love of rapping kangaroos\",\n",
       " 'newspaper starting to worry spending so much time on facebook not healthy for it',\n",
       " 'the lawsuit against black lives matter and the central meaning of the first amendment',\n",
       " \"vatican putting out feelers for how public would react to another children's crusade\",\n",
       " \"'the wire' cast reunited in baltimore to uplift community\",\n",
       " \"obama's supreme court nominee just bragged about sending this man to prison. now he's free.\",\n",
       " 'death of d.c. man in security guard custody ruled a homicide',\n",
       " 'boehner vows to leave successor with clean slate',\n",
       " 'trump makes last-minute push to appeal to whites',\n",
       " 'facing rising seas, remote alaskan village votes to move (again)',\n",
       " \"all of child's fondest memories times when dad trying to make up for things\",\n",
       " 'the worst place in the world for a child',\n",
       " \"mom sentenced for encouraging boyfriend's sex assault on baby\",\n",
       " \"donald trump's assault on our values\",\n",
       " \"the women's march inspired them to run. now they're unseating gop men.\",\n",
       " 'was it worth it, america?',\n",
       " \"gop senators aren't ready to accept trump as their champion\",\n",
       " 'price-gouging pharma ceo takes over cancer company',\n",
       " 'man failing to heed harsh lessons of past orders sonic bacon cheeseburger toaster',\n",
       " \"ken burns completes documentary about fucking liars who claimed they watched entire 'jazz' series\",\n",
       " 'magic-markered initials fail to deter breakroom rice-cake thief',\n",
       " \"'straight outta compton' is a stunning surprise\",\n",
       " \"carly rae jepsen just released her new single, 'all that'\",\n",
       " \"god humbled to be the answer to 'jeopardy!' clue\",\n",
       " \"female barista getting a lot better at avoiding touching male patrons' hands when they pay\",\n",
       " 'gunman kills one, wounds four in shooting at german nightclub',\n",
       " \"couple at point where they're comfortable using toilet at same time\",\n",
       " 'mountain lion tracked by scientists is found dead near malibu road',\n",
       " \"noah cyrus makes her late-night debut belting out 'make me (cry)'\",\n",
       " 'scalia goes on abortion bender after being passed over for chief justice',\n",
       " \"campbell's unveils one big can-sized noodle\",\n",
       " 'is area man going to finish those fries?',\n",
       " \"taylor swift used a 'gremlin voice' while writing '1989'\",\n",
       " \"restaurant's eating challenge rewards any patron who can consume reasonably portioned meal\",\n",
       " \"fun sticker placed on child's ventilator\",\n",
       " 'the best way to eat avocados: avocado pasta',\n",
       " \"that one mcdonald's plate from the '70s: holy shit, there it is\",\n",
       " \"an open letter to progressives: tpp is not yet 'the most progressive trade agreement in history'\",\n",
       " 'modern-day lancelot offers to pay for abortion',\n",
       " 'united airlines offering immigrants special flights that circle u.s. awaiting gaps in travel ban',\n",
       " 'sun thinking of just collapsing now and getting this all over with',\n",
       " \"justice thomas' wife calls supreme court retirement report 'bogus'\",\n",
       " 'trump retweets video from anti-muslim hate group',\n",
       " 'long-silent facebook friend comes out of woodwork with post asking about insulating windows',\n",
       " 'struggling airline helped by friendly giant',\n",
       " '7 ways to breakup like a boss',\n",
       " \"sure seems like frankie muniz wants a 'malcolm in the middle' reboot\",\n",
       " 'using the united fiasco to flourish in the future',\n",
       " \"unemployed sibling makes last push for group mother's day gift\",\n",
       " \"3822 voted america's favorite pin number\",\n",
       " 'thank a teacher thursday: dominic casulli and the power of encouragement, part 1',\n",
       " \"a toe in the arctic ocean: canada's northwest territories on the looney front, part 2\",\n",
       " \"'it will never happen to me'\",\n",
       " 'mark zuckerberg cited for contempt of congress after refusing to shut the fuck up about how he started company in dorm room',\n",
       " \"rubio supporters get in a scuffle with a 'rubiobot'\",\n",
       " 'the music of strangers: a film review by dr. lloyd sederer',\n",
       " \"'dsm-5' updated to accommodate man who is legitimately being ordered to kill by the moon\",\n",
       " \"purina debuts new 'slovenly feast' for nasty-ass shelter cats\",\n",
       " 'obama chides darrell issa for touting alliance with him in re-election fight',\n",
       " \"pope francis' iraq peace message meets the reality of war\",\n",
       " \"'ant-man and the wasp' trailer brings the fun after 'avengers: infinity war'\",\n",
       " 'frontier airlines tells customers to just fucking deal with it',\n",
       " 'moses and the red sea',\n",
       " \"everyone forgets to bring swimsuits to coworker's party\",\n",
       " 'george takei accused of groping former male model in 1981',\n",
       " 'new york times adds color to target under-70 demographic',\n",
       " \"the hollywood boys' club that supports casey affleck is a total disgrace\",\n",
       " '3 myths about low libido',\n",
       " \"girl scouts rocked by 'cookies for cash' fundraising scandal\",\n",
       " 'christian juggler regrets years wasted as secular juggler',\n",
       " 'huffpollster: americans see progress, room for improvement on voting rights',\n",
       " 'world will miss goal for universal education by 50 years: un',\n",
       " \"jennifer lopez's name is jennifer lopez again\",\n",
       " 'how to rebuild your credit after bankruptcy -- fast',\n",
       " 'discover how climate change is rapidly transforming our earth with google timelapse',\n",
       " 'man who does everything at last minute wonders how you do it',\n",
       " 'voting lines are shorter — but mostly for whites',\n",
       " 'conrad bain steps down as national kitsch-reference laureate',\n",
       " 'amanda slavin: not just a statistic',\n",
       " \"laurie hernandez and val chmerkovskiy are already our favorite 'dancing with the stars' couple\",\n",
       " \"new photos show hurricane matthew's path of destruction in haiti\",\n",
       " 'florida lawmakers vote to ban marriage under the age of 17',\n",
       " 'nasa inadvertently launches unmanned space shuttle',\n",
       " \"nick viall is no longer a 'bachelor'\",\n",
       " 'why america demonizes its teachers',\n",
       " 'new instant lottery game features three ways to win, 19,839,947 ways to lose',\n",
       " 'podcast a cry for help',\n",
       " \"fashion designer peter som's legendary minestrone soup recipe\",\n",
       " 'photography series spotlighting iconic women over 70 proves the best is yet to come',\n",
       " \"clairvoyant vince vaughn accepts movie role before it's offered\",\n",
       " \"report kenan thompson is leaving 'snl' deemed 'inaccurate'\",\n",
       " 'woman hid heroin, oxy under fake butt, cops say',\n",
       " \"'don't cry for me'\",\n",
       " 'isis and the g-41 world',\n",
       " 'melania trump hangs decayed badger carcass over white house mantel to finish off traditional slovenian christmas decor',\n",
       " 'woman who admits to having watched golden globes thinks jodie foster embarrassed herself',\n",
       " \"sarah huckabee sanders defends trump's sexist attack on kirsten gillibrand\",\n",
       " \"saying goodbye to hollywood's hottest, seediest address\",\n",
       " 'bush increasingly focused on how revisionist history will see him',\n",
       " '11 years later: the human genome paves the way for genomic technonlogy',\n",
       " 'man claiming to be boko haram leader appears in new video',\n",
       " 'how do i live knowing proof of heaven?',\n",
       " 'on pilgrimage in india',\n",
       " 'will religious freedom advocates oppose roy moore?',\n",
       " \"uaw, fca still negotiating under 'hour-by-hour' contract extension\",\n",
       " 'if bernie sanders wanted to solve problems like donald trump',\n",
       " 'there is no right way, just write',\n",
       " 'rest of evening spent declaring asshole not going to ruin evening',\n",
       " \"north carolina doesn't seem to want people to see police camera footage\",\n",
       " \"the education department officially won't deal with transgender students experiencing bathroom discrimination\",\n",
       " \"why we won't be participating in black friday\",\n",
       " 'hooded members of congress drown another love child in potomac to prevent affair from getting out',\n",
       " 'merkel: isis poses major risk to europe',\n",
       " 'alcoholic kindergarten teacher stretches naptime to three hours',\n",
       " 'report: store out of good kind',\n",
       " 'devastating floods leave 23 dead in west virginia',\n",
       " \"obama's greatest oratory performance\",\n",
       " 'grandmother palms grandson $10 like she fixing boxing match',\n",
       " 'bumper nilla crop spells profit for wafer growers',\n",
       " \"6 summer salads you'll actually crave\",\n",
       " \"the black keys new album 'turn blue' is now available to stream in full\",\n",
       " \"isis vs isil -- what's in a name?\",\n",
       " \"national trust for historic preservation to pay for andy rooney's upkeep\",\n",
       " \"list of names on gchat sidebar like a portal into area man's past lives\",\n",
       " 'tomi lahren is suing glenn beck and theblaze',\n",
       " 'greg hardy unapologetically denies domestic abuse allegations',\n",
       " 'tourists describe scenes of horror in tunisian beach massacre',\n",
       " 'trump voters blink',\n",
       " \"photos from 'ahs' set may help explain all those creepy blond children\",\n",
       " 'study: more couples delaying divorce until kids old enough to remember every painful detail',\n",
       " \"never-before-heard buzzword flying around office can't be good\",\n",
       " \"man not certain what any of his coworkers' names are\",\n",
       " 'psychologists push for smartphone warning labels',\n",
       " 'clinton receives 400,000 honorary degrees for college commencement speech',\n",
       " \"scavenger-hunt party 'not leaving without twine'\",\n",
       " 'the republican obamacare dilemma in one 6-minute video',\n",
       " 'mass graves suggest systematic killing of rohingya in myanmar',\n",
       " 'final german u-boat surrenders to allied powers',\n",
       " 'private prison companies will still lock up immigrants, despite doj decision',\n",
       " \"woman's head feared lost forever inside infinity scarf\",\n",
       " 'fed-up brookstone body-massage chair now only entertaining serious buyers',\n",
       " 'trump asks entire senate to clear out of chamber so he can speak to comey alone',\n",
       " 'grateful dead lyricist, internet pioneer john perry barlow dead at 70',\n",
       " 'new report finds americans most interested in science when moon looks different than usual',\n",
       " \"'new york times' moves all content you won't give a shit about unless you make at least $200k a year into one convenient section\",\n",
       " 'philippines president calls on civilians to kill drug addicts',\n",
       " \"woman perfectly breaks down why she's not 'just' a nurse\",\n",
       " 'chicago police department to monitor all interactions with public using new bullet cams',\n",
       " 'amid the chattering of the global elite, a silent interlude',\n",
       " 'at least 23 ethical issues are dogging epa administrator scott pruitt',\n",
       " \"won't ask, don't tell\",\n",
       " 'weird black dot actually part of bowl',\n",
       " 'vegas, baby! (well, minus our babies)',\n",
       " \"people really like kanye's new song 'real friends' because it's really g.o.o.d.\",\n",
       " \"20 suede pieces you'll want to wear all spring\",\n",
       " 'fcc sentences artie lange to death',\n",
       " \"behold the title of 'american horror story' season 7\",\n",
       " 'football-loving americans harassed for wearing turbans to nfl game',\n",
       " 'to your health',\n",
       " 'new job posting on craigslist clearly for secretary of the interior',\n",
       " \"seth meyers loses it over thanksgiving's proximity to christmas\",\n",
       " '15 ways the knicks can trade carmelo anthony',\n",
       " 'parents fight to save their two daughters after tragic diagnosis',\n",
       " 'the quiet practice where i found my voice',\n",
       " \"fcc assures nation their favorite verizon websites won't be affected by net neutrality repeal\",\n",
       " 'everyone told me my second child would be so much harder than my first, but they were wrong',\n",
       " 'report: it still nowhere near okay to act like donald trump',\n",
       " 'man reportedly unleashes trump-inspired anti-lgbtq rant at church',\n",
       " 'white sprinter finishes fifth',\n",
       " \"how i'm finding my voice with wendy davis\",\n",
       " 'obama begins inauguration festivities with ceremonial drone flyover',\n",
       " 'lindsay wagner to star in anything offered her',\n",
       " 'democratic senator strides down corridors of powerlessness',\n",
       " \"here's how trump's rage campaign opened the door to the james comey firing\",\n",
       " 'looking for happiness in all the wrong places',\n",
       " \"swarm of 100 drones dance to beethoven's 'symphony no. 5' in the night sky\",\n",
       " 'fatal school bus crash cements bff status',\n",
       " 'no-makeup look easier to achieve than elle claims',\n",
       " \"the outfit that got this woman kicked out of her school's gym\",\n",
       " 'bluetooth headset worn throughout date',\n",
       " 'breakroom tension at all-time high following mug dispute',\n",
       " 'depression symptom checklist speaking to area man as no poem ever could',\n",
       " 'parents formally announce transfer of expectations to second child',\n",
       " \"'saturday night live' celebrates halloween with spooktacular montage\",\n",
       " 'steven spielberg: can his career be salvaged?',\n",
       " 'local laundromat employs social media coordinator',\n",
       " 'partygoer vows to fix keg',\n",
       " 'right to own handheld device that shoots deadly metal pellets at high speed worth all of this',\n",
       " 'oscar countdown 2002 begins',\n",
       " 'disaster movies are tame compared to what happened 3.3 billion years ago',\n",
       " 'washington d.c. officer shoots woman carrying knife',\n",
       " 'in your face: the hidden history of plastic surgery and why looks matter',\n",
       " \"a knicks' fan's open letter to santa\",\n",
       " \"wolf blitzer decks boston man who hasn't been healed by red sox baseball\",\n",
       " \"donald trump and america's blood sport of choice\",\n",
       " 'time to end subsidies that are destroying forests',\n",
       " 'netflix to shut down planned louis c.k. comedy special',\n",
       " \"trump undercuts easy obamacare attack with dig about bill clinton's infidelities\",\n",
       " 'narcissist mentally undresses self',\n",
       " \"we got the exclusive look at hillary's dnc speech notes\",\n",
       " 'watch john kasich lead an awkward david bowie sing-along',\n",
       " 'pro governing: is it faked?',\n",
       " 'how a social media detox helped ed burns become more productive',\n",
       " \"outdoor movie guest excited to watch barely audible 'back to the future' while sitting on tree root\",\n",
       " \"north korea claims it's planning to fire missiles near guam\",\n",
       " 'gorillagram employee shot by white house security',\n",
       " 'how do i make my 4-month-old fall in love with reading?',\n",
       " '15 weirdest things that people have left behind in an uber',\n",
       " 'arkansas executes first inmate in 12 years',\n",
       " 'meet the other baldwin brother, james!',\n",
       " 'a sadder pride because of washington inaction',\n",
       " \"brad pitt stumbles across old cardboard box with gwyneth paltrow's head in attic\",\n",
       " 'shonda rhimes on the motivation behind her weight loss journey',\n",
       " 'obama plans to tackle major education inequality',\n",
       " 'teaching, learning and the college ratings framework',\n",
       " 'fashion-forward pigeon sports bread necklace in bold style choice',\n",
       " 'video relaunches investigation into death of man held by chicago police',\n",
       " \"whoopi goldberg says the oscars 'can't be that racist' because she won once\",\n",
       " 'housefly tracks dog shit all over cucumber slice',\n",
       " 'hillary clinton opens new presidential library charting course of purely theoretical tenure as commander in chief',\n",
       " 'bounty, brawny ceos wearing down patience of mutual friend',\n",
       " \"sherman alexie says artists under trump will be 'noise-canceling headphones'\",\n",
       " 'visibly flu-stricken choir kid really dragging down whole christmas pageant',\n",
       " 'nbc news correspondent ayman mohyeldin returning to gaza',\n",
       " 'tim robbins tired of being typecast as relatively tall characters',\n",
       " \"sen. tom cotton thinks 'tough guy' trump is ready to resume waterboarding\",\n",
       " 'leather-clad ted cruz greeting voters at reno-area fetish club',\n",
       " \"man's family rises to record-high fourth priority\",\n",
       " 'mike ditka has not been paying attention to history',\n",
       " 'what mom would have wanted evolving over course of funeral planning',\n",
       " 'simple task of going to post office feels like weight of 10,000 boulders',\n",
       " 'report: some crazy shit probably happened to classmate being raised by grandmother',\n",
       " \"ivanka trump incorrectly names judaism as 1 of the 3 'largest world religions'\",\n",
       " 'rescued lion has been obsessed with blankets since he was a baby',\n",
       " 'county fair judges blown away by heifer',\n",
       " 'the best toys to shop on prime day for kids of all ages',\n",
       " 'the sanders phenomenon',\n",
       " \"clinton staff readies emp launch to disable all nation's electronic devices\",\n",
       " \"khloe kardashian joins 'waist gang'\",\n",
       " \"next week's republican debate in utah canceled\",\n",
       " \"a trove of 'lost and found' photos reveal one mystery couple's beautiful life\",\n",
       " 'bear family pool party is the cutest backyard invasion ever',\n",
       " 'dustin hoffman accusers speak out about alleged abuse in joint nbc interview',\n",
       " 'another open letter to betsy devos from a public school teacher',\n",
       " '6 tips to boost your career',\n",
       " 'video shows transphobic man preaching in target getting shut down by customer',\n",
       " '#xmasgiftsfromtrump wish list will give trump a very un-merry christmas',\n",
       " 'ronda rousey eerily predicted how she would lose',\n",
       " 'police release haircut-progressed photo of missing woman',\n",
       " 'a brief (pun intended) history of lawyers in movies',\n",
       " 'gifs: the memphis grizzlies weathered this epic oklahoma city thunder storm',\n",
       " 'stomach sets aside synthetic additives until it has a few minutes to figure out how to digest them',\n",
       " 'russia denies it has compromising information on donald trump',\n",
       " 'what comics can offer to bible readers',\n",
       " 'breaking uniform',\n",
       " 'congress approves of $250 billion',\n",
       " '7 fascinating but forgotten facts from world war i (new book)',\n",
       " 'taylor swift now dating watertown boat',\n",
       " 'rapture wreaks havoc on local book club',\n",
       " 'the key to setting achievable goals',\n",
       " 'the only shopping guide for cyber monday you need',\n",
       " 'donald trump says refugee crisis and threats to uk identity drove brexit',\n",
       " 'science fiction writer admits unstoppable killing machine based on mother',\n",
       " 'gunman kills at least two american advisers in kabul shooting',\n",
       " 'kris kobach defends using a private email for government business',\n",
       " '10-year-old denies girl-liking allegations',\n",
       " 'stray dad found in lumber section of the home depot',\n",
       " 'office manager unveils new rule',\n",
       " 'charles darwin and the sunmine',\n",
       " 'another way companies make it harder for new mothers',\n",
       " 'sheets changed after every breakup',\n",
       " 'want to make meetings more productive? start walking',\n",
       " \"man overjoyed he no longer has to purchase entire day's worth of egg mcmuffins in morning\",\n",
       " 'watch: stone brewing evacuates as wildfire approaches',\n",
       " 'military prosecutor: senate report on cia interrogation program is accurate',\n",
       " 'national park service studies historic lgbtq sites for possible recognition',\n",
       " \"safeguarding america's health system from sabotage\",\n",
       " \"jonathan safran foer guesses it's time to give up on silly little dream of becoming good writer\",\n",
       " 'skydiver luke aikins makes jump without a parachute',\n",
       " 'study: universe actually shrunk by about 19 inches last year',\n",
       " 'power-crazed orkin man burns house to ground',\n",
       " \"couple's fucked-up presex ritual involves tucking both kids into bed\",\n",
       " 'will all senate republicans kowtow to trump and the far right?',\n",
       " 'viral photo captures incredible moment between police officer, homeless man',\n",
       " 'google employees disappointed 15th anniversary party only has one solar-powered lego drag race reffed by david pogue',\n",
       " 'study: average american tries getting out of 10,000 things each year',\n",
       " 'rnc builds levee out of poor people to protect convention site',\n",
       " 'romney delivers stern warning to china, speaking directly into the camera in fluent mandarin',\n",
       " 'the inside story of how congress sent the stock market tumbling',\n",
       " 'voters shocked christie botched such an easy political cover-up',\n",
       " 'desperate dole promises best prom ever',\n",
       " 'a different kind of mom',\n",
       " \"uber halts self-driving car tests in california, where it didn't test much anyway\",\n",
       " \"from tiger mothers to fresh off the boat: eddie huang's mom is not every asian-american mom\",\n",
       " \"donald trump thinks roger goodell is 'weak,' 'stupid' and a 'dope'\",\n",
       " \"trump says congress won't change libel laws, but that's a decision for the states\",\n",
       " 'shirtless goofball in flag underwear invades field at world series',\n",
       " 'local moviegoer enjoying movie so far',\n",
       " \"why chinese parents don't say 'i love you'\",\n",
       " 'americans say the white house is creating more problems than it solves',\n",
       " \"theater major has too long borne shakespeare teacher's blunt upbraidings, bitter scoffs\",\n",
       " 'a lancet breakthrough: publishing about faith and health',\n",
       " 'area grasshopper kind of a thorax man himself',\n",
       " 'freemasons return to jupiter',\n",
       " 'banjo-wielding matt damon makes last-minute bid for best original song',\n",
       " 'after criticism, cleveland officials to outline convention security plans',\n",
       " \"new teen trend 'walking wet and nude' couldn't have caught on at worse time\",\n",
       " 'justin bieber interrupts performance to scold spanish audience',\n",
       " \"'mudbound' oscar nominations place netflix in big leagues\",\n",
       " 'area man uses wtc attack as excuse to call ex-girlfriend',\n",
       " 'mccain gets hammered at local vfw',\n",
       " \"12-year-old's christmas list demonstrates heartbreaking awareness of family's financial predicament\",\n",
       " 'kendrick lamar, taylor swift and the weeknd lead the 2016 grammy nominations',\n",
       " 'slight inconvenience avoided',\n",
       " \"frustrated fcc unable to stop use of word 'friggin''\",\n",
       " \"nbc to dramatize menendez brothers murders in 'law & order: true crime' spinoff\",\n",
       " 'police assume truck was deliberately driven into berlin christmas market',\n",
       " 'area man cleans apartment once every relationship',\n",
       " 'after shooting, orlando chefs provide thousands of free meals',\n",
       " \"gop sen. jeff flake comes out and says it: 'my party might not deserve to lead'\",\n",
       " 'dentist offers to buy back halloween candy',\n",
       " \"mta officials assure new yorkers that today's subway will run just as fucked up as normal\",\n",
       " 'routine drunk-driving trip turns tragic for five local teens',\n",
       " 'grizzly bear sprained paw while mauling hunter, reports ranger',\n",
       " 'trump selects longtime personal plane to head faa',\n",
       " \"new antidepressant makes friends' problems seem worse\",\n",
       " 'restaurant teaches former inmates to cook, helps them get back on their feet',\n",
       " '5 entrepreneurial rules to live by',\n",
       " 'laser pointer aimed toward space in 1997 finally annoying planet 13 light-years away',\n",
       " \"man who skipped airport's moving walkway immediately realizes what an arrogant fool he's been\",\n",
       " \"7 things you probably didn't know about christmas\",\n",
       " 'paul beatty becomes first american to win man booker prize for fiction',\n",
       " \"your favorite female 'star wars' heroes finally get their own series\",\n",
       " 'nation checks out cnn.com to see what their old pals the tsarnaevs and castros are up to',\n",
       " 'small town beginning to wonder what taking heroin epidemic so long to get there',\n",
       " 'new ted cruz super-pacs take in record haul',\n",
       " 'domestic abuse survivor gives young victims the support she wishes she had',\n",
       " \"dogs smell grandma's scent, set off on quest to find her\",\n",
       " \"smb's are changing the way they do business\",\n",
       " \"president's american manufacturing council down to ceo of shoe carnival\",\n",
       " \"world's physicists complete study of physics\",\n",
       " 'how to really listen in a difficult conversation (6.2)',\n",
       " 'heroic turtle dials most of 911',\n",
       " \"what it's really like to have a miscarriage\",\n",
       " 'businesses say anti-lgbt bills could cost texas billions',\n",
       " \"accused killer wanted 'army of people who'd do anything he asked'\",\n",
       " 'avid fisherman forever ruins fishing for son',\n",
       " \"british public on the hunt for 'witches' marks' this halloween\",\n",
       " \"nation relieved insufferable little 'game of thrones' fans don't have book to lord over them this season\",\n",
       " 'the best volunteer programs do this',\n",
       " 'nasa completely forgot probe was returning today',\n",
       " '3m introduces new line of protective foam eye plugs',\n",
       " \"michael b. jordan sets fire to first 'fahrenheit 451' trailer\",\n",
       " \"astronomers predict giant asteroid will hit nation's theaters this summer\",\n",
       " \"hero of the common man talks to plumber for entire time he's in house\",\n",
       " \"social unity is most important, says pm modi on india's 70th independence day\",\n",
       " \"roe made abortions legal, but it doesn't keep women and providers safe\",\n",
       " 'hussein judge hoping for fair, speedy assassination',\n",
       " \"savvy man registers 'sleepy romney' twitter account just in case candidate looks tired\",\n",
       " \"dreamers face nightmare of trump's deportation force\",\n",
       " 'third world disease eliminated with hot-air hand dryers',\n",
       " 'whoops! selfie snapper smashes sculpture days after exhibit opens',\n",
       " 'aspiring actor dreams of one day publicly voicing regret for working with woody allen',\n",
       " 'swiss unable to maintain neutrality toward delicious pastries',\n",
       " '9 things all parents of college kids do but hate to admit',\n",
       " 'thousands of new orleans households still without political power',\n",
       " 'watch: underreported story -- reuniting families with remains of dead migrants',\n",
       " \"yahoo's newfront pulses to steve aoki's edm beat\",\n",
       " \"look at it: it's goddamn beautiful\",\n",
       " 'how to lose to the islamic state: obama administration considers deploying troops to iraq, focusing on assad in syria',\n",
       " \"eric's bogosian's operation nemesis: can a genocide ever truly be avenged?\",\n",
       " 'antarctic observational comic running out of ideas',\n",
       " 'thousands protest in moscow against housing plan',\n",
       " 'new pixar employees required to watch adorable sexual harassment video',\n",
       " 'cosmopolitan releases 40-year compendium: 812,683 ways to please your man',\n",
       " 'row of asterisks spices up otherwise ordinary e-mail',\n",
       " 'this tattoo shop is creating a safe and accepting space for queer bodies',\n",
       " 'sears gold card holder pushing weight around area sears',\n",
       " 'author jeff lindsay says goodbye to serial killer dexter with final novel',\n",
       " 'after-work drinks enter third excruciating minute',\n",
       " 'koch network spent nearly $400 million in 2015',\n",
       " \"those weren't nooses at university of delaware\",\n",
       " 'man already has whole sentence lined up for later in conversation',\n",
       " 'area waitress has one hell of an ass on her, local man will tell you that right now',\n",
       " '30 unbeleafably adorable gifts for plant lovers',\n",
       " 'cuomo makes surprise afghanistan trip',\n",
       " \"drummer's girlfriend thinks he should sing\",\n",
       " \"nobody watched matthew mcconaughey's forgotten youtube channel until now\",\n",
       " 'pope francis admits god really starting to look old',\n",
       " 'what has becoming a parent done to me?',\n",
       " 'video:  #icantbreathe poem on house floor',\n",
       " 'man somehow overcomes alcoholism without jesus',\n",
       " 'donald w. bush?',\n",
       " 'mom uses full name to refer to bisquick impossibly easy cheeseburger pie\\x99',\n",
       " \"congressman calls trump 'an idiot' for using egypt mosque attack to promote border wall\",\n",
       " \"luke bryan says confederate flag has become a 'symbol of racism'\",\n",
       " 'rich first-grader buys whole sheet of gold stars',\n",
       " \"we ain't germans\",\n",
       " \"kentucky governor echoes trump: 'all sides' to blame for charlottesville violence\",\n",
       " 'how caitlyn jenner is helping me be a better me',\n",
       " 'new apple campaign urges consumers to buy iphone for other hand',\n",
       " 'woman dozing at coffee shop has that dave eggers sex dream again',\n",
       " 'manager of combination taco bell/kfc secretly considers it mostly a taco bell',\n",
       " 'could hillary clinton have what it takes to defeat the democrats in 2008?',\n",
       " 'wild tales:  outstanding black comedy at cannes',\n",
       " 'donald trump prefers violent football so more black players get hurt: espn analyst',\n",
       " 'black ribbon in the balsam',\n",
       " 'the buttermilk biscuit recipes you want and need',\n",
       " 'ai weiwei commemorates drowned refugees during berlin film festival',\n",
       " \"the restrictions journalists agreed to in order to attend the koch brothers' conference\",\n",
       " '7-year-old puts on uno face',\n",
       " \"'little boy' stands tall\",\n",
       " \"jake tapper has one-word response to creepy kellyanne conway 'snl' sketch\",\n",
       " 'poll shows support for birth control mandate on eve of court ruling',\n",
       " 'death row inmate loses fight over kosher food',\n",
       " 'jada pinkett smith and gabrielle union end feud after 17 years',\n",
       " 'huffpost rise: what you need to know on february 10',\n",
       " 'dear mr. president: a dispatch from bowling green',\n",
       " 'shinto priestess killed by brother during sword attack at tokyo shrine',\n",
       " \"journalists push back on correspondents' association's response to michelle wolf\",\n",
       " \"nina dobrev addresses her rumored return to 'vampire diaries'\",\n",
       " 'theresa may, edging towards donald trump, scolds john kerry over israel',\n",
       " 'child assured it will be long time before he dies',\n",
       " \"new year's eve prank leaves 4-year-old glued to mcdonald's toilet\",\n",
       " 'prosecutors in tamir rice case bizarrely pointed toy gun at witness, lawyers allege',\n",
       " \"what's wrong with this picture? for u.s. fight against isis, everything\",\n",
       " 'afi docs: where policy meets art',\n",
       " 'school bully not so tough since being molested',\n",
       " \"the real mothers of mother's day\",\n",
       " 'dad shoots daughter while teaching her about gun safety',\n",
       " '3 unexpected ways to help your kids be mindful about screen time',\n",
       " \"dee bogetti's gps guide for living in the moment\",\n",
       " 'paul ryan confident american people will warm up to tax plan once they realize life a cruel and meaningless farce',\n",
       " 'war-torn, blood-soaked kosovo: would bombing it help?',\n",
       " 'starving for a fantasy',\n",
       " 'bill clinton waiting until after primaries to endorse candidate',\n",
       " 'what you should do if you own a volkswagen that was just recalled',\n",
       " 'to read or not to read, part 2',\n",
       " 'hillary clinton loses lead over bernie sanders in new iowa poll',\n",
       " 'several women accuse progressive media executive don hazen of sexual harassment',\n",
       " \"success and still enjoying your 'happy place'\",\n",
       " 'last 12 years a real wake-up call for area man',\n",
       " \"pollsters admit they underestimated voters' adrenal glands\",\n",
       " \"lin-manuel miranda freestyles about life's most annoying minor inconveniences on 'ellen'\",\n",
       " \"john lewis won't attend civil rights museum opening because trump is going\",\n",
       " 'is trouble brewing for the 2015 npt review conference?',\n",
       " 'area man going to go ahead and consider that a date',\n",
       " '4 senators mauled during congressional tiger show',\n",
       " 'huffpost hill - secret service agents really glad dark sunglasses hide bloodshot eyes',\n",
       " 'kite flyer in the zone',\n",
       " \"bacon just one of sprint's new downloadable ring scents\",\n",
       " 'i photograph to remember',\n",
       " 'u.s. bobsled team pays tribute to late gold medalist steven holcomb',\n",
       " \"among santa fe's many virtues? history, art, culture, hospitality and killer vintage clothing\",\n",
       " 'power plan foes from mars, backers from venus (earth actually)',\n",
       " 'journalists who refuse to take the same non-answer for an answer',\n",
       " 'nukes and the global schism',\n",
       " 'weird relative at family reunion knows how everyone related to each other',\n",
       " \"negro week at the 1939–1940 new york world's fair\",\n",
       " 'trump threatens to veto spending bill over border wall funding, then signs it',\n",
       " \"6 diy stress hacks using what's in your closet\",\n",
       " 'the major concern with the phone call with taiwan',\n",
       " \"a weird and wonderful cabaret chronicle: karen mason revisits her roots at 'don't tell mama!'\",\n",
       " \"why companies shouldn't hide the financial risks of climate change\",\n",
       " 'the louvre gardens are teeming with rats',\n",
       " \"trump is #1 in the polls, and so was the 'macarena'\",\n",
       " 'boy george opens up about happiness, being a u.s. politics junkie and more',\n",
       " 'area woman decides not to post facebook status that would have tipped gun control debate',\n",
       " 'sprint, t-mobile ceos merge into grotesque executive hybrid',\n",
       " 'patrick stewart reads hilariously bad reviews of iconic tourist attractions',\n",
       " 'safeguarding the well-being of children',\n",
       " 'the public health threat of private anger',\n",
       " \"target 'dorm room essentials' aisle being browsed exclusively by 30-year-old men with studio apartments\",\n",
       " 'suzanne somers named u.s. thighmaster general',\n",
       " 'just a friendly and wildly hot reminder that oscar isaac is playing hamlet',\n",
       " \"a new hbo documentary shows what it's really like inside a terror attack\",\n",
       " \"watch: stories you won't believe from some of the world's dirtiest jobs\",\n",
       " 'golf sensation jordan spieth loses masters after horrible meltdown; danny willett wins',\n",
       " \"first gay couple receives marriage license at jailed kentucky clerk's office\",\n",
       " \"world's jews celebrate christmas with ceremonial re-murdering of christ\",\n",
       " 'john mccain, czar hater, calls for ebola czar',\n",
       " 'father of trump tower climber also has an important message for you',\n",
       " 'that guy from that one show in rehab',\n",
       " 'sanders hits bill clinton on welfare reform, trade',\n",
       " \"white nationalist calls trump's denouncement of hate groups 'kumbaya nonsense'\",\n",
       " \"'old milwaukee book of world records' confirms title for most punches to shoulder\",\n",
       " 'new details paint unsettling pictures of london attackers',\n",
       " \"don't ask me to 'get over' my history with breast cancer\",\n",
       " \"being a facebook wallflower isn't good for you, the social site says\",\n",
       " 'woody harrelson spends two hours drawing marijuana leaf on binder',\n",
       " 'burger king franchise owner adds sad little personal touches to restaurant',\n",
       " 'verb to follow noun; prepositional phrase to follow',\n",
       " \"a valentine for my best friend: my life wouldn't be the same without you\",\n",
       " 'the importance of being collaborative',\n",
       " 'russian officials scrambling as plan to delegitimize western democracy moving way faster than intended',\n",
       " 'obama sort of freaked out after not receiving single e-mail, phone call for entire day',\n",
       " 'adele tweets apology after stage rigging hits glasgow concertgoer',\n",
       " 'pastor talking to non-christian who just lost wife can smell blood',\n",
       " \"'religious freedom' clauses are point of contention as australia crafts marriage equality laws\",\n",
       " 'voters are excited for november despite not really loving the likely nominees',\n",
       " \"everyone in family compliments grandmother on how small and feeble she's gotten\",\n",
       " \"eating entire box of donuts not originally part of evening's plan\",\n",
       " 'white house pretty sure uzbekistan diplomat stole a bunch of soap',\n",
       " \"jared kushner quietly transfers 'solve middle east crisis' to next week's to-do list\",\n",
       " '15 years in environment of constant fear somehow fails to rehabilitate prisoner',\n",
       " \"internet personality michael buckley on giving 'sex tips' off broadway\",\n",
       " \"legends of new york's latex ball celebrate the history of voguing\",\n",
       " 'man unfortunately sleeps like baby',\n",
       " 'one last ruben studdard reference wafts gently into the cool evening air',\n",
       " 'hubble telescope discovers giant amelia earhart statue on distant planet',\n",
       " 'trump is telling \"jokes,\" but nobody\\'s laughing',\n",
       " \"hundreds of miniature sean hannitys burst from roger ailes' corpse\",\n",
       " \"kellie pickler hilariously misses the buzzer in celebrity 'family feud' fail\",\n",
       " \"military institutes new 'don't tell, let me guess' policy\",\n",
       " \"jeb bush insists he's a washington outsider\",\n",
       " 'washington post journalist jailed in iran has christmas meal with family',\n",
       " \"coloradans who deregistered after trump request for voter data aren't signing up again\",\n",
       " \"watch vin diesel say 'i am groot' in different languages\",\n",
       " \"artist's stunning image honors the moment one woman defied a neo-nazi march\",\n",
       " 'voters glad they got hope in politicians out of system for next election cycle or two',\n",
       " \"new year's resolution -- let colleges lead the way to a new normal in cuba\",\n",
       " 'paris police arrest second couple over notre dame gas cylinders',\n",
       " 'my 8 favorite beauty products',\n",
       " 'financial burden of cancer can harm quality of life',\n",
       " \"high schooler promises to have man's impregnated daughter home by midnight\",\n",
       " 'cnn anchor interviews al jazeera anchor who interviewed libyan rebels',\n",
       " 'the quadruple bottom line: its time has come',\n",
       " 'this may be holding you back from repairing a broken relationship',\n",
       " \"in the weeks before trump takes office, obama's mad dash to save public lands\",\n",
       " 'the changing holiday shopping landscape',\n",
       " 'burger king introduces new thing to throw in front of kids after another hellish day at work',\n",
       " 'this road sign is a lot less helpful than it looks',\n",
       " 'day chalked up as loss by 10:15 a.m.',\n",
       " 'australian lawmaker shoots opponents in campaign ad, draws ire after orlando',\n",
       " 'kinda creepy peter pan pranks disney world',\n",
       " \"#brownribboncampaign reminds us oscar diversity isn't just black and white\",\n",
       " 'high school elects gay 45-year-old homecoming king for first time in school history',\n",
       " \"george thorogood fan disgusted to learn musician licensed 'bad to the bone' for commercial purposes\",\n",
       " \"for america's future, engineering needs to diversify\",\n",
       " 'darrelle revis to be charged in fight that leaves two men unconscious',\n",
       " \"don't pay another bill until you pay this\",\n",
       " 'move to houseboat regretted by third day',\n",
       " 'buick regal named best vehicle in class for idling outside off-track betting parlor',\n",
       " 'arizona iced tea unveils new 4-foot-tall cans',\n",
       " \"blm's alicia garza launches census project to mobilize black political power\",\n",
       " 'police audio leaked in killing of unarmed black teen christian taylor',\n",
       " \"for a first-time marathoner, there's strength in numbers\",\n",
       " 'hate preachers on qatar campus: obama gives qatar undeserved a+ on fighting incitement',\n",
       " '10th-grade prodigy studying mathematics at 10th-grade level',\n",
       " '3 reminders that can help you raise resilient kids',\n",
       " 'nation horrified to learn about war in afghanistan while reading up on petraeus sex scandal',\n",
       " 'trump relaxes after debate by slipping back into nice, warm personal reality',\n",
       " 'area liberal no longer recognizes fanciful, wildly inaccurate mental picture of country he lives in',\n",
       " \"update: 'the onion' is immediately suspending production on our basketball infographic video directed by brett ratner\",\n",
       " 'george foreman grill retires to promote own grill',\n",
       " 'study finds having it all leading indicator that everything will come crashing down',\n",
       " 'shooting at copenhagen synagogue leaves 1 dead, 2 officers wounded',\n",
       " 'paris hilton impersonates kim kardashian for kanye west fashion line',\n",
       " 'international space station tented to spray for xenomorphs',\n",
       " 'ex-boyfriend hopes to still be terrible, incompatible friends',\n",
       " 'teen accepted into 113 colleges chooses full ride to hbcu',\n",
       " \"transgender lawmaker danica roem: trump shows there's 'no barrier' to getting elected\",\n",
       " 'shit, friend just said something to obnoxious drunk guy on bus',\n",
       " 'weekend encounter with coworker never acknowledged',\n",
       " 'study: 74% of home contractors end up accidentally walling themselves in during housing construction',\n",
       " 'goth kid builds scary-ass birdhouse',\n",
       " 'outbreak of va-va-vooms traced to miniskirt-wearing blonde',\n",
       " \"grandmother can't believe they let people with tattoos on price is right\",\n",
       " \"the '7th heaven' cast reunites for the first time in 8 years\",\n",
       " \"are we meeting the needs of our nation's rich?\",\n",
       " 'there is nothing libertarian about conservatives',\n",
       " 'yorkshire terrier monogrammed',\n",
       " 'pope cleans up dead angel who flew into sistine chapel window',\n",
       " 'remainder of ross ice shelf now in smithsonian freezer',\n",
       " 'panicked agriculture secretary momentarily forgets what corn is',\n",
       " \"an introvert's guide to throwing a solid holiday party\",\n",
       " 'area client would like a different font',\n",
       " \"fifth harmony's lauren jauregui blasts 'toxic' homophobia in poignant twitter exchange\",\n",
       " \"usda admits weight loss not possible for people who don't like salmon\",\n",
       " 'six teenagers in britain suspected of killing polish man in hate crime',\n",
       " 'cubans: new dictator doing it all wrong',\n",
       " 'obama fills out lukewarm glassdoor review after exiting presidency',\n",
       " 'bill henderson, jazz vocalist and actor, dies at 90',\n",
       " 'very specific food pyramid recommends two to three shrimp scampis per year',\n",
       " \"alaskan gray wolf can't believe no one told him he's got snow on nose\",\n",
       " 'how to emotionally recover from the election',\n",
       " 'man always taking good mood out on friends',\n",
       " '6 essentials for a trash-free lunch',\n",
       " 'candidate delighted to be in chair factory',\n",
       " \"woman knows exactly which knife she'd grab out of cutlery drawer in event of home invasion\",\n",
       " 'bored predator drone pumps a few rounds into mountain goat',\n",
       " '30-year-old nes still wasting life playing video games',\n",
       " 'schools enact positive change with drama therapy',\n",
       " 'world map rearranged to accommodate poor geography skills of americans\\x97nations ordered alphabetically',\n",
       " 'woman leaving meeting worried she came off as too competent',\n",
       " 'professor threatened with firing says wheaton college is changing the rules',\n",
       " 'jfk jr. celebrates 10,000th coupling',\n",
       " 'man with stupid breaks off co-dependent relationship',\n",
       " 'internet pop-up quiz insulting',\n",
       " 'suspension of disbelief goes unrewarded',\n",
       " \"'the late show' updated trump's election night speech with annotations\",\n",
       " \"ancient flying beast named after 'avatar' creature\",\n",
       " \"tennessee senate passes a bill to erect a memorial to 'victims of abortion'\",\n",
       " 'report: no one at white castle wants to make friends',\n",
       " '45-year-old to help candidate understand youth vote',\n",
       " \"word 'millennials' forced into headline to boost pageviews\",\n",
       " 'dozens of social issues thankful they never had to go toe-to-toe with muhammad ali',\n",
       " 'fox news struggling to attract younger 60-75 demographic',\n",
       " 'after a string of accidents, u-haul announces closure of aircraft division',\n",
       " 'why stakes is too high to bother with white tears',\n",
       " 'growing up with the holocaust as a writer',\n",
       " \"the surprising way horses can help ease alzheimer's symptoms\",\n",
       " \"beaver can't wait to get started on dam\",\n",
       " \"huffpollster: republican women really don't like trump\",\n",
       " 'what we know so far about the new white house org chart',\n",
       " 'morbidly obese man enjoys disabled privileges with motorized cart',\n",
       " \"'no one will push you into running for president,' jeb bush softly whispers before tucking in sleeping grandson\",\n",
       " 'madcap romp escalates into zany hijinks',\n",
       " \"5 longevity secrets from the world's healthiest cultures\",\n",
       " '8 perks of being divorced during the holidays',\n",
       " 'nation healed by awesome sports highlight',\n",
       " 'why moms demand action will participate in day without a woman',\n",
       " \"hillary clinton's asian american outreach director leaving campaign\",\n",
       " 'interview with louise munson, playwright of luigi',\n",
       " 'suspect reportedly arrested over explosives sent to washington, d.c. area',\n",
       " \"writer calls on women of color 'to divest from lena dunham' after controversy\",\n",
       " 'area dad will only watch things in hd',\n",
       " \"the unexpected place you're probably overeating\",\n",
       " \"don lemon on sean spicer: everyone 'is dumber for having listened to that'\",\n",
       " 'kansas state refused to investigate sexual assaults because they happened off-campus, lawsuit says',\n",
       " 'nfl player avery williamson wears 9/11 cleats despite threat of fine',\n",
       " 'trump confidant floats crazy rbg-for-merrick-garland scotus swap',\n",
       " 'u.s. continues proud tradition of  diversity on front lines',\n",
       " \"south korean president meets north korea's kim jong un to talk trump summit\",\n",
       " \"nation's financial advisors recommend capturing magical creature that grants wishes\",\n",
       " \"michelle, ross and carson on the wild ride to 'rupaul's drag race'\",\n",
       " 'content writer awkwardly shows parents around website where he works',\n",
       " 'possible viking find could rewrite north american history',\n",
       " 'new details emerge in forgotten murder that snared attorney, highway patrolmen',\n",
       " \"watching faces of students as they finish 'the lottery' highlight of english teacher's year\",\n",
       " 'no one in prison sure how jared fogle still eating subway every meal',\n",
       " \"sean spicer says donald trump is a 'champion' of first amendment\",\n",
       " \"uncovered california: community college students' quest for mental health services\",\n",
       " \"debra messing doesn't want you to freak out about a 'will & grace' revival just yet (update)\",\n",
       " 'nation delighted as many famous people in same room together',\n",
       " \"area man winded after particularly lengthy wendy's order\",\n",
       " \"the 6 real reasons i'm happy to be married\",\n",
       " \"biden busted in dnc parking lot selling bootleg 'i'm with her' t-shirts\",\n",
       " 'white person waved past beeping walgreens security barrier',\n",
       " \"khloe kardashian says no one was doing cocaine at kylie jenner's graduation party\",\n",
       " 'genuine happiness now seen only on game shows',\n",
       " \"chewbacca just got himself a 'chewbacca mom' mask\",\n",
       " 'yet another donald trump pick has a habit of spreading dangerous conspiracy theories',\n",
       " 'dog trying its absolute hardest',\n",
       " 'mississippi bans soft drinks smaller than 20 ounces',\n",
       " 'explosion at fedex facility outside san antonio may be linked to austin bombings, fbi says',\n",
       " \"cupid cop gave out roses, cards on valentine's day instead of tickets\",\n",
       " 'fox news host disavows internment camps, after panelists suggest rounding up muslims',\n",
       " \"reince priebus says it's 'too late' for a new candidate to stop trump\",\n",
       " \"minnesota café charges 35 cent 'fee' to protest minimum wage hike\",\n",
       " 'asshole from plane greeted at baggage claim by whole family',\n",
       " 'an american dreamer in the age of trump',\n",
       " \"hillary clinton celebrates confederate flag's removal at mlk day ceremony\",\n",
       " \"david brooks: obama has a 'manhood problem in the middle east'\",\n",
       " 'why terrorists attack us',\n",
       " 'everyone proud of grandma for staying awake',\n",
       " 'the nypd has secretly been spying on cell phones since 2008',\n",
       " 'republicans urge obama administration to crack down on sanctuary cities',\n",
       " 'floor plan of retirement community 90% defibrillator locations',\n",
       " 'voters in 14 states navigating new rules while trying to cast ballots',\n",
       " 'arne duncan stressed about preparing for standardized secretary of education exam',\n",
       " 'tom brokaw touched so many women would go out of their way to defend filthy old pervert like himself',\n",
       " 'stop complaining about the evolution of text language. period.',\n",
       " \"half-dressed man frantically scrambles out of home after hearing toyotathon deals won't last long\",\n",
       " 'tech is the future, reports local dad',\n",
       " 'trump fulfills campaign promise of pushing major immigration decision on someone else so he can watch tv',\n",
       " 'communication matters: getting your message out',\n",
       " 'son surprised dad knows johnny cash song',\n",
       " 'man suddenly regretting asking to be taken seriously by peers',\n",
       " 'eleven-year-old has miniskirt, pumps, vague notion of what sex is',\n",
       " 'cinemax director wins award for skinematography',\n",
       " 'doctor unable to hide his excitement from patient with ultra-rare disease',\n",
       " 'dozens injured after trains collide in pennsylvania',\n",
       " \"ed sheeran sang 'chasing cars' at a wedding, and now we're swooning\",\n",
       " \"'game of thrones' producers reveal series moved beyond show's written script halfway through current season\",\n",
       " \"girls scouts announces they'll never ever let gross fucking boys in\",\n",
       " \"un rebukes trump's jerusalem move in overwhelming vote\",\n",
       " \"father's day tribute to a family man\",\n",
       " \"white house: 'this is not the geologic era to debate gun control'\",\n",
       " \"professors try to figure out what 'bae' and 'on fleek' mean\",\n",
       " \"house republican spending bill seeks to block obama's carbon rules\",\n",
       " \"fred durst spray paints 'limp bizkit' on bridge\",\n",
       " \"democrats shouldn't panic over one poll showing donald trump ahead\",\n",
       " 'bored kim jong-un stacks entire north korean populace into human pyramid to kill time',\n",
       " 'how humans are laying out the welcome mat for mosquitoes and the diseases they carry',\n",
       " 'jennifer lawrence honored robert de niro at the glaad media awards the only way she knows how',\n",
       " '11 unexpected ways to use grapefruit',\n",
       " 'study: 90% of all meowing comes from owners trying to get cats to meow back',\n",
       " '14 photos that show the special bond between moms and daughters',\n",
       " \"'star wars' fans are freaking out because 'jedi' in 'the last jedi' is plural\",\n",
       " \"study: headaches are the body's way of communicating it wants pills\",\n",
       " \"how jimmy carter learned to make his wife rosalynn a 'full' partner\",\n",
       " \"gop congressman complains women are 'in my grill' over obamacare repeal\",\n",
       " \"religious leaders, groups are appalled by trump's immigration orders\",\n",
       " 'lice having blast trying out different wigs at costume shop',\n",
       " \"10 places you wouldn't have gone 10 years ago\",\n",
       " \"chicago's top prosecutor will not try the officer who killed laquan mcdonald\",\n",
       " \"'big eyes' is about the 'most quiet feminist you've ever met'\",\n",
       " 'bloomberg gadfly debuts in bid to shake-up financial commentary space',\n",
       " \"harry reid: republicans are 'acting as puppets for the nra'\",\n",
       " 'little tobacco hit with $3.5 hundred lawsuit',\n",
       " 'women in business q&a: rebecca henderson, group president, randstad professional solutions',\n",
       " 'mike pence disappointed in the 200,000 husbands and fathers who permitted women to attend march',\n",
       " 'jeff flake delivers searing, critical applause for trump during state of the union',\n",
       " \"michelle obama explains in no uncertain terms why she won't run for office\",\n",
       " 'republican food stamp bill would cut benefits, but not the size of government',\n",
       " \"russians mint 'in trump we trust' coin ahead of u.s. inauguration\",\n",
       " \"kristen wiig's fake trailer from 'jimmy kimmel' needs to be made into a real movie\",\n",
       " 'patients with limited english are more likely to return to the er',\n",
       " 'dear baby boomers, step aside',\n",
       " \"don't spend a cent on bitcoin until you see john oliver's cryptocurrency warning\",\n",
       " 'celebrities mourn anne meara on twitter after news of her death',\n",
       " \"here's what you need to know about obamacare enrollment this year\",\n",
       " 'relationship experts recommend single women try bathing in open stream until suitor glimpses them through trees',\n",
       " 'married couple longs for days when they only quietly resented one another',\n",
       " \"group of friends chanting 'shots' make compelling point\",\n",
       " \"blind date pronounces every syllable of word 'comfortable'\",\n",
       " 'to hope again',\n",
       " 'the science-backed reason to see your therapist in the morning',\n",
       " 'turkish president: no muslim family should engage in birth control',\n",
       " 'claire danes is expecting baby number two with hugh dancy',\n",
       " \"vlogger shamed in walmart fitting room because she might 'stretch' clothes\",\n",
       " 'at the university of texas,  echoes of its confederate past reverberate in the present',\n",
       " 'trump hints at obamacare replacement that would look nothing like what republicans have in mind',\n",
       " 'bad-ass engagement ring also tells the time and temperature',\n",
       " \"director paul feig says 'men have to speak out' after weinstein sexual assault allegations\",\n",
       " 'advertising firm unveils new mute-resistant commercials',\n",
       " 'rookie justice gorsuch assigned to supreme court overnight shift',\n",
       " \"mike pence takes oath of office as country's next vice president\",\n",
       " 'rex tillerson blindsided by news he still worked for state department',\n",
       " \"fight over obama's treasury nominee underscores battles within democratic party\",\n",
       " \"rommel, hummel dominate parents' christmas list\",\n",
       " 'a big myth about how to spot a narcissist',\n",
       " 'doll-housing crisis set to worsen, mean older brother says',\n",
       " 'slushing in utah at the end of ski season',\n",
       " 'here are the candidates voters think can actually win in november',\n",
       " \"missing maryland toddler's body found in ohio creek\",\n",
       " 'terrified jeb bush beginning to fade from visible spectrum',\n",
       " \"adele celebrates 'titanic'-themed 30th birthday\",\n",
       " 'changing weather inspires area conversationalist',\n",
       " 'fourth tool discovered',\n",
       " 'texas public school districts may now store, not trash, leftover food',\n",
       " 'hentai message board features surprisingly close-knit, supportive community',\n",
       " 'hootie and the blowfish: breaking down racial barriers between black, white pussies',\n",
       " 'study: snapping three times leading way to recall movies, actors',\n",
       " \"donald trump insists he has the 'complete power' to pardon, as russia probe persists\",\n",
       " 'syria ceasefire, backed by russia and turkey, holds after initial clashes',\n",
       " \"french parliament debates 'deep sleep' bill for end of life\",\n",
       " 'reality, risk & reward: is us kids tv ripe for authenticity and autonomy?',\n",
       " 'transcript, emails show how tabloid reporters helped harvey weinstein get dirt on women',\n",
       " \"trump's america--a not so shining city on the hill\",\n",
       " \"photographer assumes endless identities in her mother's clothes\",\n",
       " 'stripper surprised she only talked to 2 homicide detectives today',\n",
       " 'justin bieber fan jealous of anne frank',\n",
       " 'elevate your leadership in 2016',\n",
       " \"woman's face-down halloween dummy gets repeated 911 calls\",\n",
       " '259 new objects now available in gummi form',\n",
       " 'kremlin agent not even going to bother trying to compromise trump staffer who will be forced to resign in few months',\n",
       " 'the future is blurry!',\n",
       " \"here's a pg-rated facebook alternative for evangelical christians\",\n",
       " 'donald trump is unqualified to be president, majority of american voters say',\n",
       " 'body given false hope with first piece of fruit in 9 days',\n",
       " \"missouri democrats filibuster for 39 hours to stop anti-gay 'religious freedom' bill\",\n",
       " \"9-year-old reporter told to just be 'cute' has landed a book deal\",\n",
       " 'this craigslist missed connection is delightfully feminist',\n",
       " 'african nation not war-torn',\n",
       " 'three chinese tourists dead, six people missing in borneo shipwreck',\n",
       " 'god announces successful test of first category 7 hurricane',\n",
       " 'lone geek sits off by self reading the silmarillion throughout recess',\n",
       " 'this is what happens when you ask arya stark to write your yearbook quote',\n",
       " 'alex jones pleads with sandy hook parents to imagine pain an expensive lawsuit would cause him',\n",
       " 'rescue animals get the help they need thanks to online donations',\n",
       " \"goldfish can't stand bowlmate\",\n",
       " 'john legend speaks to the crack in the system caused by mass incarceration',\n",
       " 'police launch investigation after video appears to show cop shoving man in wheelchair into street',\n",
       " 'nasa discovers distant planet located outside funding capabilities',\n",
       " \"judge who asked 'why couldn't you keep knees together?' resigns\",\n",
       " 'white house prepares to send congress $15 billion spending cuts package',\n",
       " 'gop race heads to south carolina, known for dirty tricks and brawls',\n",
       " 'kindergartener allegedly barred from school because she has two moms',\n",
       " \"george will trashes bill o'reilly: 'wise, he is not'\",\n",
       " 'ohio voters will get to decide on legalizing marijuana',\n",
       " 'the best ifttt recipes to make the most of your vacation',\n",
       " 'last living california raisin dies of prostate cancer',\n",
       " 'microsoft debuts surface book, its first laptop, plus other new gizmos',\n",
       " \"fda confirms psilocybin reduces risk of mindlessly following society's rules like fucking lemming\",\n",
       " \"fourth death in new york legionnaire's disease outbreak\",\n",
       " 'national weather service to give hurricanes full names',\n",
       " 'william h. macy has ultimate dad moment dancing with his daughter before prom',\n",
       " 'warm temperatures bring hot deals on winter gear',\n",
       " \"sarah huckabee sanders flatly rejects jim acosta's assertion that he's jim acosta\",\n",
       " 'reno orders investigation of u.s. department of corruption',\n",
       " 'billions of electric signals between neurons allow brain to imagine what michael imperioli looks like',\n",
       " 'unapologetic self-portraits that shatter perceptions of disability',\n",
       " 'scientists discover eating serves function other than easing anxiety',\n",
       " 'libraries burning: from sarajevo to mosul',\n",
       " 'what i realized after years of searching for my soulmate',\n",
       " 'astoria characters: the charity stager',\n",
       " 'dolby theatre usher throws out matt damon for attempting to film oscars with camcorder',\n",
       " '600-pound butter cow sculpture wins iowa caucus',\n",
       " \"bill o'reilly tearfully packs up framed up-skirt photos from desk\",\n",
       " \"trump's army secretary pick is victim of 'gay gestapo,' right wing activists claim\",\n",
       " 'candidates preparing for colorado debate conditions with high-altitude speaking drills',\n",
       " \"the drama desks, all the way, m&m's and more\",\n",
       " 'magazine editor undergoes sleek new redesign',\n",
       " 'town nervously welcomes veteran back home',\n",
       " 'local student also a poet',\n",
       " \"'it's a wonderful life' was almost too racy for theaters\",\n",
       " \"ariana grande performs 'break free' on 'snl'\",\n",
       " 'unconditional love given to 15-year-old who just called mom a bitch in middle of hollister',\n",
       " 'newborn prince of cambridge begins consolidating power by having family imprisoned in tower of london',\n",
       " 'congress abandons wikiconstitution',\n",
       " '2016: all about the electorate',\n",
       " 'self-defense instructor keeps a couple of secrets to himself',\n",
       " 'adorable puppy nets owner handjob',\n",
       " \"10 super annoying things we can't help but whine about\",\n",
       " 'man bitten by radioactive sloth does the lying-around-all-day of 10 normal men',\n",
       " 'quake claims 500 hours',\n",
       " 'teen football recruit makes bold statement about black lives at training camp',\n",
       " \"10 of illinois' safest cities\",\n",
       " 'unconsciousness faked to make anesthesiologist feel better',\n",
       " 'trump hails gorsuch as fierce protector of future amendment allowing president to temporarily suspend right to assemble',\n",
       " 'historical archives: two feared dead in near-by child-birth',\n",
       " \"prison warden vows to take away el chapo's tunnel privileges if captured\",\n",
       " 'mothers, precious and misunderstood: the many mothers i have met',\n",
       " \"new 'baby weinstein' tapes prepare infants for career in entertainment law\",\n",
       " '5 steps to get you from shy to sociable',\n",
       " 'who were you on 9/11?',\n",
       " ...]"
      ]
     },
     "execution_count": 4,
     "metadata": {},
     "output_type": "execute_result"
    }
   ],
   "source": [
    "sentences"
   ]
  },
  {
   "cell_type": "code",
   "execution_count": 6,
   "metadata": {},
   "outputs": [],
   "source": [
    "#split training and testing sets\n",
    "from sklearn.model_selection import train_test_split\n",
    "training_sentences, testing_sentences, training_labels, testing_labels = train_test_split(sentences, labels, test_size = 0.33)"
   ]
  },
  {
   "cell_type": "code",
   "execution_count": 7,
   "metadata": {},
   "outputs": [],
   "source": [
    "#training_sentences = sentences[0:training_size]\n",
    "#training_labels = labels[0:training_size]\n",
    "#testing_sentences = sentences[training_size:]\n",
    "#testing_labels = labels[training_size:]\n"
   ]
  },
  {
   "cell_type": "code",
   "execution_count": 8,
   "metadata": {},
   "outputs": [],
   "source": [
    "# tokenize \n",
    "tokenizer = Tokenizer(num_words = vocab_size, oov_token = '<OOV>')\n",
    "tokenizer.fit_on_texts(training_sentences)\n",
    "word_index = tokenizer.word_index\n",
    "training_sequences = tokenizer.texts_to_sequences(training_sentences)\n",
    "training_padded = pad_sequences(training_sequences, maxlen = max_length, padding = padding_type, truncating = trunc_type)\n",
    "\n",
    "testing_sequences = tokenizer.texts_to_sequences(testing_sentences)\n",
    "testing_padded = pad_sequences(testing_sequences, maxlen = max_length, padding = padding_type, truncating = trunc_type)"
   ]
  },
  {
   "cell_type": "code",
   "execution_count": 119,
   "metadata": {},
   "outputs": [],
   "source": [
    "# creating Neural Network\n",
    "model = tf.keras.Sequential([\n",
    "    tf.keras.layers.Embedding(vocab_size, embedding_dim, input_length = max_length),\n",
    "    tf.keras.layers.GlobalAveragePooling1D(),\n",
    "    tf.keras.layers.Dense(24, activation='relu'),\n",
    "    tf.keras.layers.Dense(1, activation = 'sigmoid')\n",
    "])\n",
    "model.compile(loss = 'binary_crossentropy', optimizer='adam', metrics=['accuracy'])"
   ]
  },
  {
   "cell_type": "code",
   "execution_count": 120,
   "metadata": {},
   "outputs": [
    {
     "name": "stdout",
     "output_type": "stream",
     "text": [
      "Model: \"sequential_2\"\n",
      "_________________________________________________________________\n",
      "Layer (type)                 Output Shape              Param #   \n",
      "=================================================================\n",
      "embedding_4 (Embedding)      (None, 16, 16)            160000    \n",
      "_________________________________________________________________\n",
      "global_average_pooling1d_2 ( (None, 16)                0         \n",
      "_________________________________________________________________\n",
      "dense_4 (Dense)              (None, 24)                408       \n",
      "_________________________________________________________________\n",
      "dense_5 (Dense)              (None, 1)                 25        \n",
      "=================================================================\n",
      "Total params: 160,433\n",
      "Trainable params: 160,433\n",
      "Non-trainable params: 0\n",
      "_________________________________________________________________\n"
     ]
    }
   ],
   "source": [
    "model.summary()"
   ]
  },
  {
   "cell_type": "code",
   "execution_count": 83,
   "metadata": {},
   "outputs": [
    {
     "name": "stdout",
     "output_type": "stream",
     "text": [
      "Train on 20000 samples, validate on 6709 samples\n",
      "Epoch 1/30\n",
      "20000/20000 - 4s - loss: 0.0017 - accuracy: 0.9994 - val_loss: 4.0142 - val_accuracy: 0.7909\n",
      "Epoch 2/30\n",
      "20000/20000 - 4s - loss: 0.0018 - accuracy: 0.9995 - val_loss: 4.2362 - val_accuracy: 0.7922\n",
      "Epoch 3/30\n",
      "20000/20000 - 4s - loss: 0.0013 - accuracy: 0.9995 - val_loss: 4.3928 - val_accuracy: 0.7928\n",
      "Epoch 4/30\n",
      "20000/20000 - 4s - loss: 0.0020 - accuracy: 0.9992 - val_loss: 4.1266 - val_accuracy: 0.7913\n",
      "Epoch 5/30\n",
      "20000/20000 - 4s - loss: 0.0019 - accuracy: 0.9994 - val_loss: 4.1707 - val_accuracy: 0.7915\n",
      "Epoch 6/30\n",
      "20000/20000 - 4s - loss: 0.0022 - accuracy: 0.9992 - val_loss: 4.0585 - val_accuracy: 0.7901\n",
      "Epoch 7/30\n",
      "20000/20000 - 4s - loss: 0.0012 - accuracy: 0.9997 - val_loss: 4.1819 - val_accuracy: 0.7900\n",
      "Epoch 8/30\n",
      "20000/20000 - 4s - loss: 0.0011 - accuracy: 0.9995 - val_loss: 4.4297 - val_accuracy: 0.7897\n",
      "Epoch 9/30\n",
      "20000/20000 - 4s - loss: 0.0014 - accuracy: 0.9996 - val_loss: 4.2026 - val_accuracy: 0.7888\n",
      "Epoch 10/30\n",
      "20000/20000 - 4s - loss: 0.0012 - accuracy: 0.9995 - val_loss: 4.5466 - val_accuracy: 0.7928\n",
      "Epoch 11/30\n",
      "20000/20000 - 4s - loss: 0.0013 - accuracy: 0.9995 - val_loss: 4.4210 - val_accuracy: 0.7910\n",
      "Epoch 12/30\n",
      "20000/20000 - 4s - loss: 0.0022 - accuracy: 0.9990 - val_loss: 4.2753 - val_accuracy: 0.7910\n",
      "Epoch 13/30\n",
      "20000/20000 - 4s - loss: 0.0013 - accuracy: 0.9997 - val_loss: 4.4393 - val_accuracy: 0.7928\n",
      "Epoch 14/30\n",
      "20000/20000 - 4s - loss: 0.0013 - accuracy: 0.9996 - val_loss: 4.4320 - val_accuracy: 0.7921\n",
      "Epoch 15/30\n",
      "20000/20000 - 4s - loss: 0.0019 - accuracy: 0.9994 - val_loss: 4.3648 - val_accuracy: 0.7897\n",
      "Epoch 16/30\n",
      "20000/20000 - 4s - loss: 0.0011 - accuracy: 0.9996 - val_loss: 4.4801 - val_accuracy: 0.7904\n",
      "Epoch 17/30\n",
      "20000/20000 - 4s - loss: 0.0011 - accuracy: 0.9995 - val_loss: 4.5664 - val_accuracy: 0.7898\n",
      "Epoch 18/30\n",
      "20000/20000 - 4s - loss: 0.0013 - accuracy: 0.9994 - val_loss: 4.5598 - val_accuracy: 0.7892\n",
      "Epoch 19/30\n",
      "20000/20000 - 4s - loss: 0.0014 - accuracy: 0.9995 - val_loss: 4.3616 - val_accuracy: 0.7861\n",
      "Epoch 20/30\n",
      "20000/20000 - 4s - loss: 0.0016 - accuracy: 0.9992 - val_loss: 4.4691 - val_accuracy: 0.7877\n",
      "Epoch 21/30\n",
      "20000/20000 - 4s - loss: 0.0014 - accuracy: 0.9995 - val_loss: 4.5032 - val_accuracy: 0.7900\n",
      "Epoch 22/30\n",
      "20000/20000 - 4s - loss: 8.3234e-04 - accuracy: 0.9998 - val_loss: 4.6761 - val_accuracy: 0.7903\n",
      "Epoch 23/30\n",
      "20000/20000 - 4s - loss: 9.9694e-04 - accuracy: 0.9995 - val_loss: 4.6782 - val_accuracy: 0.7927\n",
      "Epoch 24/30\n",
      "20000/20000 - 4s - loss: 8.6114e-04 - accuracy: 0.9996 - val_loss: 4.5852 - val_accuracy: 0.7866\n",
      "Epoch 25/30\n",
      "20000/20000 - 4s - loss: 0.0011 - accuracy: 0.9995 - val_loss: 4.7399 - val_accuracy: 0.7913\n",
      "Epoch 26/30\n",
      "20000/20000 - 4s - loss: 0.0017 - accuracy: 0.9994 - val_loss: 4.6775 - val_accuracy: 0.7925\n",
      "Epoch 27/30\n",
      "20000/20000 - 4s - loss: 0.0014 - accuracy: 0.9992 - val_loss: 4.6967 - val_accuracy: 0.7922\n",
      "Epoch 28/30\n",
      "20000/20000 - 4s - loss: 0.0010 - accuracy: 0.9995 - val_loss: 4.6535 - val_accuracy: 0.7913\n",
      "Epoch 29/30\n",
      "20000/20000 - 4s - loss: 0.0015 - accuracy: 0.9994 - val_loss: 4.6217 - val_accuracy: 0.7924\n",
      "Epoch 30/30\n",
      "20000/20000 - 4s - loss: 6.8554e-04 - accuracy: 0.9997 - val_loss: 4.8911 - val_accuracy: 0.7943\n"
     ]
    }
   ],
   "source": [
    "# train the model - be sure to format the dataset with np.array\n",
    "import numpy as np\n",
    "num_epoch = 30\n",
    "training_padded = np.array(training_padded)\n",
    "training_labels = np.array(training_labels)\n",
    "testing_padded = np.array(testing_padded)\n",
    "testing_labels = np.array(testing_labels)\n",
    "history = model.fit(training_padded, training_labels, epochs = num_epoch,\n",
    "                   validation_data = (testing_padded, testing_labels), verbose = 2)"
   ]
  },
  {
   "cell_type": "code",
   "execution_count": 81,
   "metadata": {},
   "outputs": [
    {
     "data": {
      "image/png": "[encoded data removed]",
      "text/plain": [
       "<Figure size 432x288 with 1 Axes>"
      ]
     },
     "metadata": {
      "needs_background": "light"
     },
     "output_type": "display_data"
    },
    {
     "data": {
      "image/png": "[encoded data removed]",
      "text/plain": [
       "<Figure size 432x288 with 1 Axes>"
      ]
     },
     "metadata": {
      "needs_background": "light"
     },
     "output_type": "display_data"
    }
   ],
   "source": [
    "# plot\n",
    "import matplotlib.pyplot as plt\n",
    "def plot_graphs(history, string):\n",
    "    plt.plot(history.history[string])\n",
    "    plt.plot(history.history['val_' + string])\n",
    "    plt.xlabel(\"Epochs\")\n",
    "    plt.ylabel(string)\n",
    "    plt.legend([string, 'val_' + string])\n",
    "    plt.show()\n",
    "\n",
    "plot_graphs(history, \"accuracy\")\n",
    "plot_graphs(history, \"loss\")\n"
   ]
  },
  {
   "cell_type": "code",
   "execution_count": 82,
   "metadata": {},
   "outputs": [],
   "source": [
    "# tweak parameters\n",
    "\n",
    "vocab_size = 10000\n",
    "max_length = 16\n",
    "embedding_dim = 16\n"
   ]
  },
  {
   "cell_type": "markdown",
   "metadata": {},
   "source": [
    "# subwords"
   ]
  },
  {
   "cell_type": "code",
   "execution_count": 130,
   "metadata": {},
   "outputs": [
    {
     "name": "stderr",
     "output_type": "stream",
     "text": [
      "WARNING:absl:Warning: Setting shuffle_files=True because split=TRAIN and shuffle_files=None. This behavior will be deprecated on 2019-08-06, at which point shuffle_files=False will be the default for all splits.\n"
     ]
    }
   ],
   "source": [
    "import tensorflow_datasets as tfds\n",
    "imdb, info = tfds.load(\"imdb_reviews/subwords8k\", with_info = True, as_supervised = True)"
   ]
  },
  {
   "cell_type": "code",
   "execution_count": 131,
   "metadata": {},
   "outputs": [],
   "source": [
    "train_data, test_data = imdb['train'], imdb['test']"
   ]
  },
  {
   "cell_type": "code",
   "execution_count": 132,
   "metadata": {},
   "outputs": [],
   "source": [
    "tokenizer = info.features['text'].encoder"
   ]
  },
  {
   "cell_type": "code",
   "execution_count": 108,
   "metadata": {},
   "outputs": [
    {
     "name": "stdout",
     "output_type": "stream",
     "text": [
      "['the_', ', ', '. ', 'a_', 'and_', 'of_', 'to_', 's_', 'is_', 'br', 'in_', 'I_', 'that_', 'this_', 'it_', ' /><', ' />', 'was_', 'The_', 'as_', 't_', 'with_', 'for_', '.<', 'on_', 'but_', 'movie_', ' (', 'are_', 'his_', 'have_', 'film_', 'not_', 'ing_', 'be_', 'ed_', 'you_', ' \"', 'it', 'd_', 'an_', 'he_', 'by_', 'at_', 'one_', 'who_', 'y_', 'from_', 'e_', 'or_', 'all_', 'like_', 'they_', '\" ', 'so_', 'just_', 'has_', ') ', 'her_', 'about_', 'out_', 'This_', 'some_', 'ly_', 'movie', 'film', 'very_', 'more_', 'It_', 'would_', 'what_', 'when_', 'which_', 'good_', 'if_', 'up_', 'only_', 'even_', 'their_', 'had_', 'really_', 'my_', 'can_', 'no_', 'were_', 'see_', 'she_', '? ', 'than_', '! ', 'there_', 'get_', 'been_', 'into_', ' - ', 'will_', 'much_', 'story_', 'because_', 'ing', 'time_', 'n_', 'we_', 'ed', 'me_', ': ', 'most_', 'other_', 'don', 'do_', 'm_', 'es_', 'how_', 'also_', 'make_', 'its_', 'could_', 'first_', 'any_', \"' \", 'people_', 'great_', 've_', 'ly', 'er_', 'made_', 'r_', 'But_', 'think_', \" '\", 'i_', 'bad_', 'A_', 'And_', 'It', 'on', '; ', 'him_', 'being_', 'never_', 'way_', 'that', 'many_', 'then_', 'where_', 'two_', 'In_', 'after_', 'too_', 'little_', 'you', '), ', 'well_', 'ng_', 'your_', 'If_', 'l_', '). ', 'does_', 'ever_', 'them_', 'did_', 'watch_', 'know_', 'seen_', 'time', 'er', 'character_', 'over_', 'characters_', 'movies_', 'man_', 'There_', 'love_', 'best_', 'still_', 'off_', 'such_', 'in', 'should_', 'the', 're_', 'He_', 'plot_', 'films_', 'go_', 'these_', 'acting_', 'doesn', 'es', 'show_', 'through_', 'better_', 'al_', 'something_', 'didn', 'back_', 'those_', 'us_', 'less_', '...', 'say_', 'is', 'one', 'makes_', 'and', 'can', 'all', 'ion_', 'find_', 'scene_', 'old_', 'real_', 'few_', 'going_', 'well', 'actually_', 'watching_', 'life_', 'me', '. <', 'o_', 'man', 'there', 'scenes_', 'same_', 'he', 'end_', 'this', '... ', 'k_', 'while_', 'thing_', 'of', 'look_', 'quite_', 'out', 'lot_', 'want_', 'why_', 'seems_', 'every_', 'll_', 'pretty_', 'got_', 'able_', 'nothing_', 'good', 'As_', 'story', ' & ', 'another_', 'take_', 'to', 'years_', 'between_', 'give_', 'am_', 'work_', 'isn', 'part_', 'before_', 'actors_', 'may_', 'gets_', 'young_', 'down_', 'around_', 'ng', 'thought_', 'though_', 'end', 'without_', 'What_', 'They_', 'things_', 'life', 'always_', 'must_', 'cast_', 'almost_', 'h_', '10', 'saw_', 'own_', 'here', 'bit_', 'come_', 'both_', 'might_', 'g_', 'whole_', 'new_', 'director_', 'them', 'horror_', 'ce', 'You_', 'least_', 'bad', 'big_', 'enough_', 'him', 'feel_', 'probably_', 'up', 'here_', 'making_', 'long_', 'her', 'st_', 'kind_', '--', 'original_', 'fact_', 'rather_', 'or', 'far_', 'nt_', 'played_', 'found_', 'last_', 'movies', 'When_', 'so', '\", ', 'comes_', 'action_', 'She_', 've', 'our_', 'anything_', 'funny_', 'ion', 'right_', 'way', 'trying_', 'now_', 'ous_', 'each_', 'done_', 'since_', 'ic_', 'point_', '\". ', 'wasn', 'interesting_', 'c_', 'worst_', 'te_', 'le_', 'ble_', 'ty_', 'looks_', 'show', 'put_', 'looking_', 'especially_', 'believe_', 'en_', 'goes_', 'over', 'ce_', 'p_', 'films', 'hard_', 'main_', 'be', 'having_', 'ry', 'TV_', 'worth_', 'One_', 'do', 'al', 're', 'again', 'series_', 'takes_', 'guy_', 'family_', 'seem_', 'plays_', 'role_', 'away_', 'world_', 'My_', 'character', ', \"', 'performance_', '2_', 'So_', 'watched_', 'John_', 'th_', 'plot', 'script_', 'For_', 'sure_', 'characters', 'set_', 'different_', 'minutes_', 'All_', 'American_', 'anyone_', 'Not_', 'music_', 'ry_', 'shows_', 'too', 'son_', 'en', 'day_', 'use_', 'someone_', 'for', 'woman_', 'yet_', '.\" ', 'during_', 'she', 'ro', '- ', 'times_', 'left_', 'used_', 'le', 'three_', 'play_', 'work', 'ness_', 'We_', 'girl_', 'comedy_', 'ment_', 'an', 'simply_', 'off', 'ies_', 'funny', 'ne', 'acting', 'That_', 'fun_', 'completely_', 'st', 'seeing_', 'us', 'te', 'special_', 'ation_', 'as', 'ive_', 'ful_', 'read_', 'reason_', 'co', 'need_', 'sa', 'true_', 'ted_', 'like', 'ck', 'place_', 'they', '10_', 'However', 'until_', 'rest_', 'sense_', 'ity_', 'everything_', 'people', 'nt', 'ending_', 'again_', 'ers_', 'given_', 'idea_', 'let_', 'nice_', 'help_', 'no', 'truly_', 'beautiful_', 'ter', 'ck_', 'version_', 'try_', 'came_', 'Even_', 'DVD_', 'se', 'mis', 'scene', 'job_', 'ting_', 'Me', 'At_', 'who', 'money_', 'ment', 'ch', 'recommend_', 'was', 'once_', 'getting_', 'tell_', 'de_', 'gives_', 'not', 'Lo', 'we', 'son', 'shot_', 'second_', 'After_', 'To_', 'high_', 'screen_', ' -- ', 'keep_', 'felt_', 'with', 'great', 'everyone_', 'although_', 'poor_', 'el', 'half_', 'playing_', 'couple_', 'now', 'ble', 'excellent_', 'enjoy_', 'couldn', 'x_', 'ne_', ',\" ', 'ie_', 'go', 'become_', 'less', 'himself_', 'supposed_', 'won', 'understand_', 'seen', 'ally_', 'THE_', 'se_', 'actor_', 'ts_', 'small_', 'line_', 'na', 'audience_', 'fan_', 'et', 'world', 'entire_', 'said_', 'at', '3_', 'scenes', 'rs_', 'full_', 'year_', 'men_', 'ke', 'doing_', 'went_', 'director', 'back', 'early_', 'Hollywood_', 'start_', 'liked_', 'against_', 'remember_', 'love', 'He', 'along_', 'ic', 'His_', 'wife_', 'effects_', 'together_', 'ch_', 'Ra', 'ty', 'maybe_', 'age', 'S_', 'While_', 'often_', 'sort_', 'definitely_', 'No', 'script', 'times', 'absolutely_', 'book_', 'day', 'human_', 'There', 'top_', 'ta', 'becomes_', 'piece_', 'waste_', 'seemed_', 'down', '5_', 'later_', 'rs', 'ja', 'certainly_', 'budget_', 'th', 'nce_', '200', '. (', 'age_', 'next_', 'ar', 'several_', 'ling_', 'short_', 'sh', 'fe', 'Of_', 'instead_', 'Man', 'T_', 'right', 'father_', 'actors', 'wanted_', 'cast', 'black_', 'Don', 'more', '1_', 'comedy', 'better', 'camera_', 'wonderful_', 'production_', 'inter', 'course', 'low_', 'else_', 'w_', 'ness', 'course_', 'based_', 'ti', 'Some_', 'know', 'house_', 'say', 'de', 'watch', 'ous', 'pro', 'tries_', 'ra', 'kids_', 'etc', ' \\x96 ', 'loved_', 'est_', 'fun', 'made', 'video_', 'un', 'totally_', 'Michael_', 'ho', 'mind_', 'No_', 'Be', 'ive', 'La', 'Fi', 'du', 'ers', 'Well', 'wants_', 'How_', 'series', 'performances_', 'written_', 'live_', 'New_', 'So', 'Ne', 'Na', 'night_', 'ge', 'gave_', 'home_', 'heart', 'women_', 'nu', 'ss_', 'hope_', 'ci', 'friends_', 'Se', 'years', 'sub', 'head_', 'Y_', 'Du', '. \"', 'turn_', 'red_', 'perfect_', 'already_', 'classic_', 'tri', 'ss', 'person_', 'star_', 'screen', 'style_', 'ur', 'starts_', 'under_', 'Then_', 'ke_', 'ine', 'ies', 'um', 'ie', 'face_', 'ir', 'enjoyed_', 'point', 'lines_', 'Mr', 'turns_', 'what', 'side_', 'sex_', 'Ha', 'final_', ').<', 'With_', 'care_', 'tion_', 'She', 'ation', 'Ar', 'ma', 'problem_', 'lost_', 'are', 'li', '4_', 'fully_', 'oo', 'sha', 'Just_', 'name_', 'ina', 'boy_', 'finally_', 'ol', '!<', 'Bo', 'about', 'though', 'hand', 'ton', 'lead_', 'school_', 'ns', 'ha', 'favorite_', 'stupid_', 'gi', 'original', 'mean_', 'To', 'took_', 'either_', 'ni', 'book', 'episode_', 'om', 'Su', 'D_', 'Mc', 'house', 'cannot_', 'stars_', 'behind_', 'see', 'other', 'Che', 'role', 'art', 'ever', 'Why_', 'father', 'case_', 'tic_', 'moments_', 'Co', 'works_', 'sound_', 'Ta', 'guess_', 'perhaps_', 'Vi', 'thing', 'fine_', 'fact', 'music', 'non', 'ful', 'action', 'ity', 'ct', 'ate_', 'type_', 'lack_', 'death_', 'art_', 'able', 'Ja', 'ge_', 'wouldn', 'am', 'tor', 'extremely_', 'pre', 'self', 'Mor', 'particularly_', 'bo', 'est', 'Ba', 'ya', 'play', 'Pa', 'ther', 'heard_', 'however', 'ver', 'dy_', 'Sa', 'ding_', 'led_', 'late_', 'feeling_', 'per', 'low', 'ably_', 'Un', 'On_', 'known_', 'kill_', 'fight_', 'beginning_', 'cat', 'bit', 'title_', 'vo', 'short', 'old', 'including_', 'Da', 'coming_', 'That', 'place', 'looked_', 'best', 'Lu', 'ent_', 'bla', 'quality_', 'except_', '...<', 'ff', 'decent_', 'much', 'De', 'Bu', 'ter_', 'attempt_', 'Bi', 'taking_', 'ig', 'Ti', 'whose_', 'dialogue_', 'zz', 'war_', 'ill', 'Te', 'war', 'Hu', 'James_', '..', 'under', 'ring_', 'pa', 'ot', 'expect_', 'Ga', 'itself_', 'line', 'lives_', 'let', 'Dr', 'mp', 'che', 'mean', 'called_', 'complete_', 'terrible_', 'boring_', 'others_', '\" (', 'aren', 'star', 'long', 'Li', 'mother_', 'si', 'highly_', 'ab', 'ex', 'os', 'nd', 'ten_', 'ten', 'run_', 'directed_', 'town_', 'friend_', 'David_', 'taken_', 'finds_', 'fans_', 'Mar', 'writing_', 'white_', 'u_', 'obviously_', 'mar', 'Ho', 'year', 'stop_', 'f_', 'leave_', 'king_', 'act_', 'mind', 'entertaining_', 'ish_', 'Ka', 'throughout_', 'viewer_', 'despite_', 'Robert_', 'somewhat_', 'hour_', 'car_', 'evil_', 'Although_', 'wrong_', 'Ro', 'dead_', 'body_', 'awful_', 'home', 'exactly_', 'bi', 'family', 'ts', 'usually_', 'told_', 'z_', 'oc', 'minutes', 'tra', 'some', 'actor', 'den', 'but', 'Sha', 'tu', 'strong_', 'Jo', 'real', 'la', 'gin', 'ul', 'amazing_', 'save_', 'wrong', 'dis', 'obvious_', 'close_', 'sometimes_', 'shown_', 'head', 'land', 'Go', 'mer', 'ending', 'else', 'audience', 'su', 'parts_', 'ga', 'before', 'cinema', 'opening_', 'laugh_', 'Ca', 'sh_', 'guys_', 'ds_', 'number_', 'Ma', 'soon_', 'ob', 'po', 'wonder_', 'group_', 'men', 'Mac', 'thinking_', 'fan', 'across_', 'turned_', 'ant', 'tells_', 'em', 'night', 'ton_', 'picture_', 'past_', 'Hi', 'girl', 'ght', 'woman', 'started_', 'ba', 'Ru', 'da', 'wi', 'running_', 'part', 'wish_', 'ner', 'ap', 'rn', 'ant_', 'mon', 'ast', 'awful', 'Yes', 'The', 'ard', 'nce', 'era', 'today', 'ad', 'Now_', '.) ', 'local_', 'killer_', 'huge_', 'flick', 'ends_', 'light', 'ons_', 'Al', 'knew_', 'due_', 'direction_', 'close', 'Gra', 'od', 'giving_', 'Le', 'op', 'Pe', 'ey_', 'wa', 'sta', 'worse_', 'single_', 'cut_', 'light_', 'ia', 'happens_', 'supporting_', 'room_', 'girls_', 'female_', 'E_', 'falls_', 'nd_', 'ish', 'mostly_', 'tan', 'major_', 'bring_', 'killed_', 'ele', 'el_', 'dark_', 'myself_', 'Pro', 'ent', 'ated_', 'British_', 'va', '....', 'talking_', 'con', 'tion', 'children_', 'by', 'voice_', 'sense', 'Car', '.. ', 'ain', 'For', 'Con', 'performance', 'au', 'stories_', 'ine_', 'Or', 'order_', 'first', 'ac', '8_', 'involved_', 'interesting', 'drama_', 'Dan', 'away', 'From_', 'ping_', 'boy', 'air', 'sing_', 'lle', 'You', 'lo', 'ian', 'ingly_', 'ia_', 'haven', 'using_', 'fo', 'dy', 'modern_', 'ST', 'wife', 'unt', 'game_', 'together', 'pp', 'clearly_', 'First_', 'sad', 'ris', 'ven', 'col', 'Maybe_', 'val', 'sexual_', 'serious_', 'relationship_', 'musical_', 'boring', 'But', 'hit_', 'brilliant_', 'easily_', 'living_', 'ca', 'police_', 'ip', ' , ', 'feels_', 'effects', 'sex', 'ist_', 'die', 'para', 'ort', 'humor_', 'Cor', 'ist', 'et_', 'Richard_', 'call_', 'example', 'appears_', 'actress_', 'rit', 'matter_', 'ar_', 'ns_', 'needs_', 'important_', 'fli', 'ec', 'stupid', 'ee', 'change_', 'bur', ' . ', 'comic_', 'DVD', 'We', '?<', 'Paul_', 'child_', 'ag', 'enjoy', 'cha', 'actual_', 'says_', 'nearly_', 'heart_', 'did', 'similar_', 'side', 'ru', 'ped_', 'und', 'super', 'name', 'clear_', \"', \", 'cu', 'child', 'moment_', 'ions_', 'fall_', 'done', 'chance_', 'then', 'ian_', 'George_', 'exc', 'enough', 'Jack_', 'win', 'Di', 'ying_', 'said', '80', 'ze', 'example_', 'themselves_', 'named_', 'ger', 'near_', 'guy', 'car', 'horrible_', 'bri', '!! ', 'ori', 'his', 'ded_', 'An_', 'released_', 'laugh', 'kept_', 'beyond_', 'b_', 'Sch', 'An', 'Lan', 'In', 'gar', 'genre', 'cho', 'Har', 'title', 'romantic_', 'mother', 'English_', 'mention_', 'interest_', 'Its_', 'money', 'face', 'brought_', 'ut', 'after', 'Win', 'working_', 'ny', 'knows_', 'happened_', 'certain_', '6_', 'within_', 'usual_', 'upon_', 'il', 'Her_', 'from', 'drama', 'Si', 'Mo', 'God', 'five_', 'whether_', 'tried_', 'ial_', 'history_', 'far', 'Re', 'novel', 'chi', 'inc', 'ure_', 'ied_', 'anti', 'Mad', 'lly_', 'Is_', '7_', 'ess', 'bunch_', 'vin', 'slow_', 'style', 'hi', 'eyes_', 'cinema_', 'showing_', 'gen', 'ra_', 'among_', 'unc', 'Po', 'Peter_', 'kid_', 'ght_', 'ny_', 'gh', 'tro', 'four_', 'ue', 'ley_', 'stuff_', 'strange_', 'sit_', 'sch', 'anyway', '199', 'hours_', 'These_', 'Most_', 'own', 'ned_', 'ban', 'Fa', 'decided_', 'xi', 'top', 'll', 'get', 'events_', 'Also_', 'typical_', 'shots_', 'look', 'happy_', 'um_', 'simple_', 'either', 'comment', 'ssi', 'ps', 'Bar', 'Per', 'saying_', 'none_', 'surprised_', 'sse', 'ka', 'ily_', 'horror', 'dig', 'tt', 'ric', 'post', 'TV', '198', '* ', 'half', 'gn', 'ste', 'ls', 'hero_', 'Pi', 'Like_', 'sad_', 'hear_', 'begins_', 'rent_', 'ure', 'rie', 'greatest_', 'Je', 'van', 'sci', 'kid', 'himself', 'Also', 'view_', 'score_', 'dge', 'became_', 'Cra', '197', 'ones_', 'cal', '9_', 'hor', 'hand_', 'days_', 'yourself_', 'tle', 'gan', 'ea', 'ago', 'WA', 'pen', 'ls_', 'learn_', 'Sta', 'By_', 'middle_', 'job', 'uc', 'ko', 'bar', 'lots_', 'cheap_', 'fi', 'stay_', 'stand_', 'pri', 'za', 'im', 'ight', 'happen_', 'Ab', 'Gar', 'ore', 'lan', 'classic', 'writer_', 'ster', 'picture', 'hate_', 'der', 'grand', 'disc', 'Mi', 'ud', 'é', 'murder_', 'basically_', 'jokes_', 'famous_', 'eg', 'easy_', 'rm', 'der_', 'R_', 'Mat', 'two', 'daughter', 'Spi', 'camera', 'AN', 'glo', 'talk_', 'daughter_', 'Fre', 'ri', 'perfect', 'experience_', 'buy_', 'zo', 'bu', 'Pu', 'Col', 'uni', 'later', 'children', 'sets_', 'annoying_', 'Tom_', 'uses_', 'jo', 'dead', 'psycho', 'mid', 'room', 'ki', 'hope', 'dialogue', 'attention_', 'cc', 'above_', 'possibly_', 'mo', 'difficult_', 'Mon', 'Japanese_', '!\" ', 'death', 'class_', ': \"', 'tic', 'ler', 'bus', 'genre_', 'stre', 'keeps_', 'cre', 'una', 'tly_', 'leaves_', 'RE', 'yes', 'realize_', 'nor_', 'figure_', 'Chan', 'rec', 'minute_', 'leading_', 'high', 'gui', 'ug', 'sequence_', 'na_', 'help', 'ani', 'Who_', 'exist', 'documentary_', 'sal', 'pe', 'key_', 'Bra', 'murder', 'leg', 'songs_', 'production', 'dle', 'cla', 'arm', 'US', \"'. \", 'reason', 'moving_', 'alone_', 'Ko', 'Bel', 'fu', 'elements_', 'Ste', 'prof', 'ning_', 'ey', 'dark', 'tur', 'les_', 'Ni', 'NOT_', 'ps_', 'bor', 'ary_', ' />\"', 'tter', 'level_', 'ys', 'apparently_', 'poorly_', 'meets_', 'killing_', 'id', 'ging_', 'ep', 'emotional_', 'brings_', 'means_', 'fla', 'episodes_', 'doubt_', 'camp', 'ME', 'Ad', 'sen', 'opinion', 'nch', 'ell', 'Ri', 'writer', 'something', 'Fe', 'flick_', 'flaw', 'ath', 'net', 'lines', 'cinematography_', 'straight_', 'slow', 'lu', 'ber', 'shi', 'husband_', 'forward_', 'form_', 'cra', 'ay', 'Fo', 'Another_', 'wo', 'whom_', 'reality_', 'hold_', 'Chi', 'Bro', 'roles_', 'move_', 'fire', 'brother_', 'Gi', 'Ben', 'review', 'que', 'cri', 'television_', 'overall_', 'French_', 'violence_', 'lla', 'enti', 'ass', 'previous_', 'forced_', 'cop', 'Oscar_', 'DE', 'possible_', 'hat', 'ear', 'budget', 'Tu', 'Ber', 'start', 'nti', 'hard', 'yn', 'school', 'deal_', 'rest', 'problems_', 'lie', 'ite', 'cool_', 'add_', 'towards_', 'reading_', 'LO', 'Gold', 'regard', 'itself', 'OK', 'leads_', 'id_', 'ved_', 'moments', 'dia', 'aw', '!) ', ' $', 'write_', 'theme_', 'Wo', 'filmed_', 'use', 'talent_', 'silly_', 'personal_', 'performances', 'needed_', 'mit', 'meant_', 'cli', 'Sho', 'tain', 'Pri', 'whi', 'comments_', 'city_', 'various_', 'sing', 'rate_', 'create_', 'respect', 'port', 'act', '194', 'message_', 'ted', 'dance_', 'case', 'ves_', 'song_', 'somehow_', 'incredibly_', 'points_', 'manages_', 'career_', 'begin_', 'Tra', 'RI', '20_', 'lai', 'interested_', 'terrible', 'hell_', 'har', 'Ku', 'Ger', 'video', 'ren', 'ky_', 'Ap', 'review_', 'ds', 'blood', 'worse', 'new', 'des', 'ways_', 'read', 'herself_', 'fre', ' *', 'set', 'rated_', 'friends', 'feature_', 'eventually_', 'blood_', 'Sea', 'ving_', 'enjoyable_', 'appear_', 'Stan', 'SE', 'thought', 'suit', 'qui', 'political_', 'person', 'les', 'gla', 'around', 'think', 'len', 'hit', 'direction', 'tale_', 'mess', 'dramatic_', 'ual_', 'gore_', 'Can', 'Am', 'ver_', 'others', 'ju', 'fairly_', 'dan', 'power_', 'dro', 'count', 'Her', 'une', 'third_', 'rop', 'crap', 'ai', 'ade', 'Joe_', 'town', 'ridiculous_', 'gone_', 'William_', 'particular_', 'older_', 'male_', 'humor', 'ard_', 'where', 'run', 'ld', 'bb', 'C_', 'ther_', 'sp', 'plenty_', 'ling', 'future_', 'stars', 'sin', 'pi', 'meet_', 'lt', 'da_', 'check_', 'En', '?\" ', 'ball', 'animation_', 'ta_', 'King_', 'hardly_', 'cul', '60', 'rt', 'Is', 'rai', 'land_', 'clu', 'wise', 'fast_', 'class', 'bra', 'worked_', 'question', 'per_', 'ok', 'expecting_', 'front_', 'come', 'Cu', 'scary_', 'past', 'hero', 'Mel', 'gri', 'average_', 'writers_', 'nk', 'fashion', 'dream', 'bear', 'attempts_', 'stand', 'total_', 'through', 'sm', 'ms', 'ice', 'gs_', 'eye', 'effort_', 'ale', 'warm', 'note', 'ger_', 'follow_', 'cro', 'vis', 'subject_', 'reviews_', 'mm', 'ect', 'Wa', 'Rob', 'imagine_', 'however_', 'decides_', 'brother', 'achieve', 'things', 'stage_', 'sound', 'rating_', 'ously_', 'ier', 'features_', 'ase', 'Vo', 'really', 'pay', 'pal', 'filled_', 'Disney_', 'telling_', 'join', 'coa', 'Lee_', 'team_', 'ov', 'emp', 'days', 'bin', 'ann', 'ally', 'women', 'social_', 'friend', 'vic', 'novel_', 'gle', 'ance_', 'weak_', 'viewers_', 'sy', 'fort', 'idea', 'Mu', 'MA', 'thriller', 'medi', 'forget_', 'York_', 'Au', 'stuff', 'ons', 'hilarious_', 'career', 'Ke', 'Christ', 'ors_', 'mentioned_', 'mark', 'def', 'watching', 'version', 'lor', 'flo', 'country_', 'G_', 'Bat', 'plain_', 'Sam', 'Anyway', 'lic', 'expected_', 'Tru', 'Great_', 'Ser', 'N_', 'And', '?) ', 'san', 'hr', 'Ham', 'pay_', 'lea', 'hol', 'Unfortunately', 'Luc', 'uti', 'row', 'history', 'bea', 'What', 'Or_', 'unless_', 'ica', 'episode', 'stra', 'sounds_', 'ability_', 'Cha', 'sco', 'represent', 'portrayed_', 'outs', 'dri', 'crap_', 'Oh', 'word_', 'open_', 'fantastic_', 'II', 'power', 'ical_', 'badly_', 'Well_', 'IN', 'Angel', 'waiting_', 'sees_', 'mor', 'ari', 'tom', 'sli', 'nation', 'mi', 'inf', 'Mil', 'viewing_', 'rt_', 'premise_', 'ma_', 'fit_', 'wl', 'unique_', 'talent', 'stay', 'fails_', 'breath', 'thi', 'ert', 'Sco', 'talk', 'slightly_', 'je', 'ah', 'NE', 'Fin', 'ridiculous', 'la_', 'Ki', 'vir', 'hea', 'ely_', 'beautiful', 'admit_', 'pu', 'crime_', 'comment_', '0_', 'shot', 'free_', 'entertaining', 'deserves_', 'mas', 'dialog_', 'hip', 'ff_', 'talented_', 'runs_', 'ini', 'ew', 'ded', 'Gri', 'roles', 'realistic_', 'clo', 'ana', 'Rat', 'Oh_', 'Man_', 'Den', 'spent_', 'rse', 'die_', 'Spe', 'Dra', 'ord', 'mal', 'ism', 'del', 'War', 'Cro', 'nn', 'min', 'fighting_', 'excellent', 'ct_', 'ask_', 'abo', 'parents_', 'ou', 'flash', 'Ver', 'Star', 'ym', 'score', 'nature_', 'den_', 'cou', 'body', 'aff', 'Ze', 'Pat', 'Mal', 'lab', 'wing_', 'theater_', 'sho', 'ow', 'mini', 'biggest_', 'Best_', 'wrote_', 'perfectly_', 'pack', 'ile', 'bly_', 'agree_', 'Perhaps_', '-- ', 'sign', 'di', 'cer', 'caught_', 'Good_', 'visual_', 'roll', 'my', 'memorable_', 'kids', 'ise_', 'hin', 'bre', 'beat', 'ring', 'reveal', 'res', 'pit', 'fa', '70', 'words_', 'wn', 'wait_', 'storyline_', 'make', 'ended_', 'ship_', 'ose', 'hot_', 'add', 'DO', 'ib', 'eri', 'directors_', 'amount_', 'Sure', 'ua', 'tin', 'mu', 'hilarious', 'eti', 'deep_', 'battle_', 'bas', 'Pre', 'Ali', 'tre', 'tie', 'thriller_', 'spirit', 'sister', 'ship', 'ser', 'rl', 'rich_', 'outside_', 'ato', 'ad_', 'Do', 'weren', 'sla', 'ro_', 'large_', 'craft', 'Shi', 'ye', 'true', 'spend_', 'rd', 'entirely_', 'Do_', 'wit', 'quickly_', 'powerful_', 'ary', 'Jane_', '193', 'sti', 'ph', 'mel', 'list', 'interest', 'footage_', 'comm', 'Tri', 'vers', 'spe', 'sna', 'sequences_', 'present', 'casting_', 'Star_', 'M_', ').', 'shoot', 'result_', 'gre', 'fore', 'ete', 'break', 'soundtrack_', 'sion_', 'poor', 'lay', 'eas', 'black', 'temp', 'nda', 'king', 'compared_', 'chu', 'break_', 'Ben_', 'ute', 'recent_', 'pure_', 'oi', 'lie_', 'burn', 'uns', 'rip', 'ner_', 'late', 'husband', 'former_', 'dull_', 'argu', 'Hollywood', 'nc', 'ming_', 'lin', 'atmosphere_', 'wood', 'why', 'amazing', 'ron', 'rat', 'gra', 'sed_', 'period_', 'game', 'Sto', 'win_', 'ult', 'scar', 'pun', 'hei', ' `', 'release_', 'present_', 'pin', 'ks_', 'appreciate_', '00', 'jump', 'bomb', 'HA', 'showed_', 'nan', 'kills_', 'decade', 'NO', 'Boy', 'ting', 'rating', 'editing_', 'actress', 'Wal', 'Ea', '\", \"', 'weird_', 'inside_', 'hair', 'eli', 'disappointed_', 'Wor', 'ski', 'ings_', 'fast', 'drag', 'adapt', 'TO', 'NG_', 'sequel_', 'fle', 'Sand', 'RO', 'whatever_', 'sleep', 'sca', 'ret', 'ney_', 'creepy_', 'cal_', '\") ', 'sor', 'popular_', 'nne', 'kick', 'ht', 'display', 'another', 'ves', 'please_', 'moves_', 'care', 'bet', 'bat', 'War_', 'CO', 'program', 'predictable_', 'positive_', 'hing_', 'copy_', 'bia', 'anything', 'affect', 'thrill', 'rk', 'mark_', 'ism_', 'edit', 'Bri', 'rate', 'missing_', 'ila', 'ial', 'guess', 'ft', 'entr', 'decide_', '30', 'sun', 'filmmakers_', 'box_', 'ating_', 'Cla', 'CA', '18', 'nie', 'material_', 'married_', 'hu', 'fin', 'blo', 'Wood', 'Tom', 'vi', 'oni', 'ena', 'BA', 'path', 'os_', 'human', 'mag', 'ins', 'earlier_', 'TI', 'LA', 'Far', 'portrayal_', 'orc', 'lame_', 'ks', 'form', 'call', 'acted_', 'Christmas_', 'violence', 'superb_', 'idiot', 'follow', 'blow', 'SO', 'Les', 'Bill_', '30_', 'sorry_', 'created_', 'common_', 'cheesy_', 'Lea', 'Carl', '!!! ', 'question_', 'pt', 'pick', 'med_', 'leaving_', 'box', 'Ci', 'Bla', 'AR', '\".<', 'ze_', 'makers_', 'draw', 'ala', 'Day', 'B_', 'succeed', 'pat', 'ones', 'gay_', 'cy', 'barely_', 'ara', 'air_', 'San', 'Director_', 'xt', 'screenplay_', 'pan', 'miss_', 'does', 'consider_', 'com', 'ER', 'ub', 'ple', 'mystery_', 'mine', 'involving_', 'familiar_', 'Mari', 'German_', 'nat', 'eye_', 'dly_', 'disa', 'country', 'att', 'app', 'tho', 'press', 'mat', 'llo', 'fi_', 'connect', 'called', 'ane', 'May', 'LE', 'K_', 'Italian_', 'Every_', 'sure', 'ster_', 'starring_', 'horse', 'further_', 'entertainment_', 'ense', 'dog', 'disappointed', 'cher', 'af', 'won_', 'secret', 'likes_', 'indi', 'follows_', 'ball_', 'God_', 'Cur', '196', 'wasted_', 'ideas_', 'cur', 'Bal', 'lly', 'ire', 'gu', 'general_', 'believable_', 'aus', 'Stu', 'Despite_', 'understand', 'lit', 'last', 'cy_', 'bought_', 'ago_', 'Very_', 'Only_', 'Han', 'wear', 'thu', 'themselves', 'recently_', 'ms_', 'intention', 'focus_', 'ations_', 'ali', 'yp', 'yet', 'ici', 'gy', 'exten', 'Min', 'Lin', 'Ed', 'Dar', 'tis', 'credits_', 'Now', '50', 'sister_', 'setting_', 'odd_', 'missed_', 'mea', 'lot', 'ight_', 'gg', 'fantasy_', 'ash', 'US_', 'Overall', 'young', 'suddenly_', 'nge', 'members_', 'dra', 'cover_', 'artist', 'Watch_', 'moment', 'background_', '.....', 'seriously_', 'mic', 'considered_', 'Ric', 'Pres', '! <', ' (\"', 'opinion_', 'ise', 'gun', 'different', 'Sou', 'utterly_', 'asse', 'alt', 'Though_', 'LY_', 'Big_', 'situation_', 'rio', 'il_', 'ef', 'ding', 'Still', 'Cre', 'younger_', 'special', 'raise', 'El', '90', 'walk_', 'tone_', 'tes_', 'sitting_', 'glad_', 'base', 'Let', 'Boo', 'vent', 'lead', 'considering_', 'animated_', 'witness', 'torture', 'throw', 'sea', 'load', 'lim', 'hot', 'following_', 'ess_', 'center', 'Scott_', 'NG', 'BO', '15_', 'word', 'rid', 'pop', 'ions', 'ges', 'enter', 'Sal', 'Gre', 'ties_', 'spl', 'hy', 'ery_', 'disappointment', 'avoid_', 'Jud', 'Ce', 'need', 'hel', 'hands_', 'develop', 'cause_', 'Steve_', 'zombie_', 'voice', 'successful_', 'eo', 'Mary_', 'EN', 'Because_', 'stage', 'rv', 'master', 'crazy_', 'Mer', 'rent', 'hes', 'OF_', 'yl', 'tive_', 'remake_', 'passion', 'managed_', 'fra', 'fans', 'drive', 'CH', 'Blo', 'Art', 'surprise_', 'suggest', 'list_', 'imme', 'crew_', 'continu', 'Sci', 'solid_', 'ora', 'eu', 'Men', 'Cal', 'sus', 'shar', 'omi', 'ita', 'istic_', 'Pl', 'Jack', 'Davi', 'wonder', 'slasher_', 'produced_', 'frame', 'cle', 'Em', 'subs', 'state', 'seek', 'ona', 'mention', 'laughing_', 'iti', 'hide', 'date', 'Some', 'touch', 'soft', 'shop', 'interview', 'dumb_', 'clean', 'bored_', 'bill', 'bed_', 'beauty_', 'basic_', 'Cou', 'zi', 'ultimately_', 'thinks_', 'sto', 'odd', 'masterpiece', 'kind', 'cool', 'Ac', 'tto', 'sit', 'nci', 'ized_', 'gore', 'dee', 'boo', 'Va', 'Come', 'ning', 'escape', 'eng', 'RA', 'America', 'worthy_', 'unre', 'tche', 'shame_', 'nothing', 'explo', 'Sl', 'Bus', 'BE', '13', 'pra', 'least', 'effect_', 'deliver', 'boys_', 'Wi', 'Stra', 'Fr', 'Cap', '**', '\".', 'space_', 'potential_', 'oli', 'lon', 'ind', 'gor', 'gon', 'generally_', 'ext', 'chees', 'beginning', 'Tony_', 'wait', 'meaning', 'ley', 'fire_', 'des_', 'cop_', 'ati', 'Ram', 'Ex', '195', 'were', 'survive', 'ral_', 'push', 'mut', 'killer', 'dist', 'charm', 'ang', 'Frank', 'writing', 'worth', 'wor', 'stop', 'stick_', 'ler_', 'chemistry_', 'cap', 'ae', 'Ya', 'second', 'ost', 'machine', 'lessly_', 'individual', 'experience', 'ead', 'dancing_', 'Sy', 'Del', 'Bor', '!!', 'would', 'suspense_', 'project', 'intelligent_', 'cover', 'asi', 'Brit', 'speak_', 'season_', 'oth', 'ida', 'factor', 'amo', 'World_', 'Once_', 'Hard', ' ... ', 'tol', 'live', 'changed_', 'brain', 'uri', 'seriously', 'release', 'likely_', 'gne', 'explain_', 'ance', 'added_', 'Here_', 'AL', '% ', 'wre', 'spar', 'gree', 'eyes', 'detail', 'Night', 'Mag', 'term', 'tape', 'public_', 'pleas', 'lives', 'ker', 'ile_', 'had', 'dre', 'directing_', 'dialog', 'convincing_', 'chance', 'big', 'beat_', 'appl', 'truth_', 'spa', 'rica', 'monster_', 'market', 'imm', 'have', 'fine', 'clue', 'card', 'blu', 'adult_', 'Who', 'Jim_', 'Bea', '.)', 'value', 'twist_', 'thrown_', 'phe', 'model', 'entertainment', 'Where_', 'LI', 'Ju', 'Black_', 'ura', 'nic', 'han', 'failed_', 'cinematic_', 'bizarre_', 'ben', 'Gu', 'rare_', 'mbo', 'historical_', 'everyone', 'epi', 'ate', 'ada', 'Cli', 'wind', 'sou', 'nder', 'mb', 'held_', 'formula', 'flu', 'effect', 'clever_', 'catch_', 'W_', 'pick_', 'business_', 'attempt', 'Show', 'Paul', 'segment', 'romance_', 'ram', 'nom', 'how', 'ged_', 'flow', 'equally_', 'computer_', 'commercial', 'Val', 'IMDb_', 'trans', 'sent_', 'pet', 'lk', 'ider', 'corn', 'channel', 'Ge', 'Christopher_', 'ways', 'tat', 'subject', 'shooting_', 'return_', 'neither_', 'neighbor', 'lady_', 'impossible_', 'Spa', 'BI', '***', ' -', 'yr', 'violent_', 'syn', 'suffer', 'fur', 'cru', 'Charl', 'secret_', 'rp', 'ros', 'pie', 'ious_', 'hoping_', 'ence_', 'Ye', 'Son', 'trick', 'nia', 'effective_', 'desp', 'costume', 'check', 'board_', 'ami', 'aire', 'ado', 'Whi', 'Two_', 'Rose', 'Green', 'surround', 'promise', 'mad', 'lesson', 'imagination', 'hum', 'excuse_', 'escape_', 'aspect_', 'ak', 'Thu', 'Pal', 'Kr', 'Bur', 'vil', 'travel', 'reso', 'protagonist', 'object', 'nes', 'longer_', 'lia', 'key', 'incredible_', 'hoo', 'fool', 'expression', 'bot', 'bel', 'Ree', 'Oscar', 'Fu', 'safe', 'remains_', 'note_', 'natural_', 'just', 'hm', 'grace', 'credit_', 'constantly_', 'Sam_', 'Ren', 'OK_', 'view', 'unlike_', 'surprise', 'success_', 'ssion', 'song', 'player', 'match_', 'ela', 'din', 'critic', 'accident', '20', 'otherwise_', 'material', 'knowing_', 'ings', 'ffe', 'depth_', 'cula', 'Whe', 'Ph', 'Ai', 'respect_', 'puts_', 'pher', 'kin', 'concept_', 'zed_', 'unfortunate', 'que_', 'predictable', 'order', 'onto_', 'meta', 'ev', 'dress', 'dog_', 'cell', 'Thi', 'Frank_', 'spin', 'rot', 'military_', 'hall', 'cut', 'choice_', 'chick', 'bs', 'Za', 'Many_', 'witch', 'weak', 'swa', 'rti', 'producers_', 'inn', 'gold', 'fault', 'ez', 'cute_', 'cult_', 'WO', 'SH', 'drink', ', (', 'wall', 'theme', 'taste', 'sion', 'iz', 'gun_', 'ek', 'drawn_', 'anyone', 'antic', 'tension_', 'team', 'sweet_', 'ree', 'perform', 'partner', 'horrible', 'contains_', 'Es', 'De_', 'Chris_', 'AT', 'vote', 'tch_', 'singing_', 'shine', 'hasn', 'happen', 'gal', 'demon', 'dar', 'Jer', 'GE', 'ske', 'indeed_', 'guys', 'emotion', 'apart_', 'See', 'Roger', 'Pol', 'trouble_', 'seat', 'planet', 'exciting_', 'err', 'dream_', 'cus', 'arrive', 'HO', '!!!!', 'trip_', 'today_', 'sle', 'setting', 'rr', 'plus_', 'og', 'faci', 'disp', 'crack', 'cen', 'Gun', 'words', 'will', 'prefer', 'pect', 'noi', 'leader', 'dit', 'deal', 'creep', 'Zo', 'Sid', 'East', 'record', 'poo', 'normal_', 'message', 'ffi', 'fer', 'correct', 'colle', 'ator', 'Ros', 'Other_', 'zen', 'usi', 'pil', 'mental_', 'ji', 'immediately_', 'ible_', 'capt', 'bab', 'Chu', 'tar', 'stands_', 'progress', 'making', 'lc', 'fic', 'exp', 'encounter', 'circ', 'change', 'annoying', 'Mur', 'Lor', 'Little_', 'tl', 'rain', 'fail', 'died_', 'Time', 'Blood', 'tell', 'reflect', 'ked_', 'judge', 'ide', 'development_', 'control_', 'clima', 'bed', 'alr', 'Tre', 'trouble', 'thr', 'spot', 'ress', 'red', 'pol', 'hill', 'eb', 'TH', 'Ken', '\\x85 ', 'surprisingly_', 'rep', 'freak', 'dep', 'college_', 'brilliant', 'blin', 'bath', 'People_', 'Nat', 'Charles_', 'walking_', 'ref', 'reco', 'pace_', 'nde', 'mil', 'mainly_', 'literally_', 'fia', 'dull', 'Sn', 'Ever', 'Dam', 'Bre', 'Brad', 'Both_', 'ward', 'trash', 'tough_', 'serve', 'reasons_', 'ngs', 'llen', 'ines', 'honest', 'focus', 'carrie', 'aim', 'Us', 'Prince', 'Nothing_', 'truth', 'supp', 'sma', 'musical', 'inco', 'fight', 'enc', 'bother', 'arch', 'Jon', 'Japan', 'Er', 'Des', '!!!', 'unw', 'unfortunately_', 'til', 'rese', 'marri', 'ior', 'ene', 'ain_', 'Aust', 'ular', 'tru', 'tch', 'tale', 'prop', 'phan', 'orat', 'nit', 'matter', 'host', 'hood', '\\\\&undsc', 'Not', 'Film_', 'Ama', 'yle', 'var', 'standards', 'pers', 'nice', 'meaning_', 'laughs_', 'joke_', 'iss', 'happi', 'era_', 'WH', 'Lil', 'Girl', 'ES', ' />-', 'watche', 'tant', 'qua', 'presented_', 'minor_', 'gro', 'fie', 'door', 'corp', 'catch', 'cally_', 'bert', 'Indian_', 'Gen', 'questions_', 'lacks_', 'forever', 'establish', 'esc', 'cheap', 'Sol', 'while', 'twist', 'society_', 'pass_', 'overa', 'merely_', 'highlight', 'flat_', 'fill', 'color', 'cartoon_', 'Will_', 'NT', 'IT', 'Harry_', 'Fan', 'youth', 'possible', 'orm', 'free', 'eight', 'destroy', 'creati', 'cing_', 'ces_', 'Carr', 'unl', 'suggest_', 'slo', 'owner', 'kh', 'instead', 'influence', 'experiment', 'convey', 'appeal_', 'Ol', 'Night_', '---', 'vy', 'terms_', 'sick_', 'par', 'once', 'law', 'ize_', 'infe', 'Spo', 'House_', '\\x85', 'studio_', 'simple', 'rre', 'guard', 'girlfriend_', 'fear', 'dam', 'concern', 'amusing_', 'adaptation_', 'Ms', 'King', 'water', 'ory_', 'officer', 'litera', 'knock', 'grat', 'falling_', 'ered_', 'cow', 'cond', 'alo', 'Kar', 'Der', 'Cri', 'text', 'skin', 'sequel', 'level', 'impression_', 'ice_', 'force_', 'fake_', 'deri', 'contain', 'band_', 'appa', 'South_', 'HE', 'Conn', 'wise_', 'ur_', 'ual', 'sy_', 'luck', 'lack', 'impressi', 'disaster', 'business', 'being', 'beg', 'Burt', ' <', 'villain_', 'type', 'shoot_', 'shame', 'sb', 'pt_', 'proves_', 'manner', 'lame', 'impressive_', 'ern', 'disappear', 'alone', 'LL', 'Having_', 'Brook', 'Arm', '!\"', 'works', 'state_', 'shock', 'rev', 'mus', 'int', 'ino', 'images_', 'brid', 'berg', 'alis', 'Clo', 'singer', 'shr', 'rock_', 'provides_', 'page', 'instance', 'drug_', 'crime', 'beautifully_', 'acts_', 'UN', 'Tal', 'Bruce_', 'self_', 'reality', 'mans', 'lived_', 'innocent_', 'ically_', 'fall', 'dict', 'Henry_', 'Fox', 'Bac', 'sold', 'says', 'period', 'ome', 'melodrama', 'include_', 'evil', 'Ins', 'stati', 'silent_', 'ria', 'mom', 'met_', 'guns', 'ground', 'gate', 'fell_', 'cle_', 'cari', 'birth', 'Look', 'Hill', '1950', 'water_', 'reminded_', 'express', 'delight', 'als_', 'Wes', 'Mis', 'Louis', 'Grant', 'xe', 'written', 'touch_', 'ters_', 'squa', 'moral', 'ffer', 'aut', 'appearance_', 'Sim', 'Nor', 'Mont', 'IS_', 'Cath', 'take', 'shel', 'protect', 'gut', 'ans', 'Too_', 'Scar', 'Death', 'American', 'AND_', 'throw_', 'suck', 'standard_', 'sil', 'should', 'share_', 'scary', 'loves_', 'indu', 'foot', 'ew_', 'answer', 'Wit', 'Van_', 'Terr', 'Str', 'subtle_', 'stories', 'store_', 'must', 'ments_', 'mbi', 'gs', 'ft_', 'fellow_', 'erat', 'eni', 'crash', 'ches', 'becoming_', 'appeared_', 'TE', 'Fal', '., ', 'visit', 'viewer', 'tag', 'surely_', 'sur', 'stri', 'putting_', 'pull_', 'process', 'pointless_', 'nta', 'mass', 'hur', 'hell', 'gue', 'girls', 'Rev', 'Pan', 'Billy_', 'villain', 'suppose_', 'sick', 'prom', 'narrat', 'mer_', 'followed_', 'decision', 'auto', 'adult', 'Movie_', 'Ban', 'tone', 'thoroughly_', 'sympath', 'sts_', 'sk', 'pot', 'piece', 'offers_', 'nte', 'most', 'helps_', 'det', 'cti', 'brief_', 'block', 'adds_', 'Street', 'Red_', 'Qui', 'Love', 'BL', 'support_', 'ses_', 'rta', 'recognize', 'mission', 'ignore', 'hon', 'broad', 'bid', 'ano', 'Swe', 'Shakespeare', 'Ron', 'Mart', 'Charlie_', 'thanks_', 'tage_', 'serial_', 'revenge_', 'ors', 'office_', 'nst', 'feature', 'drugs', 'disturb', 'anymore', 'Bl', \", '\", 'univers', 'touching_', 'strange', 'improve', 'iff', 'heavy_', 'fare', 'central_', 'buff', 'Inter', 'EA', 'worr', 'turning_', 'tired_', 'than', 'seemingly_', 'motion_', 'ku', 'has', 'goe', 'evi', 'duc', 'dem', 'cinematography', 'aspects_', 'any', 'High', 'Cho', 'tick', 'surviv', 'suicide', 'return', 'remember', 'ppy_', 'noti', 'mess_', 'mes', 'inve', 'grow', 'enge', 'dom', 'Tar', 'Since_', 'Roy', '19', ' ( ', 'track_', 'racis', 'narrative_', 'nal', 'mysterious_', 'moral_', 'imp', 'desert', 'compl', 'along', 'Sw', 'Super', 'HI', 'Dor', 'America_', 'vert', 'superb', 'stu', 'shouldn', 'science_', 'rough', 'ray', 'ova', 'dumb', 'deb', 'court', 'control', 'complex_', 'butt', 'Joe', 'Ir', 'Direct', 'throughout', 'tende', 'stic_', 'somewhere_', 'sel', 'pti', 'picked_', 'parts', 'mob', 'fear_', 'developed_', 'couple', 'cas', 'attitude', 'apo', 'Sun', 'MO', 'L_', 'Ei', 'teen_', 'pull', 'ough', 'hunt', 'favor', 'dos', 'delivers_', 'chill', 'ately', 'Van', 'vat', 'tz', 'trip', 'stuck_', 'rela', 'mood_', 'finish', 'essen', 'ering_', 'disappoint', 'could', 'commit', 'TA', 'Lam', 'Harris', 'whole', 'value_', 'ural', 'sim', 'season', 'redeeming_', 'poli', 'please', 'happened', 'geo', 'force', 'ero', 'core_', 'cand', 'blue', 'bell', 'assi', 'asp', 'adventure_', 'Sin', 'McC', 'whatsoever', 'sky', 'shows', 'pse', 'language_', 'insight', 'ier_', 'finding_', 'everything', 'cker', 'challenge', 'books_', 'Out', 'Ji', 'Glo', 'tune', 'terri', 'prem', 'oe', 'nish', 'movement', 'ities_', 'effort', 'absolute_', 'Brian_', 'Alan_', 'unin', 'unde', 'ude', 'tear', 'oh_', 'ize', 'ilia', 'hint', 'credib', 'craz', 'choice', 'charming_', 'audiences_', 'apart', 'York', 'Marc', 'wonderful', 'willing_', 'wild', 'repeated', 'refer', 'ready_', 'radi', 'punch', 'prison', 'painful_', 'pain', 'paid_', 'pace', 'nni', 'mate_', 'hole', 'future', 'disturbing_', 'cia', 'buck', 'ache', 'Taylor', 'Lind', 'Hol', 'vel', 'tor_', 'terrific_', 'suspense', 'sf', 'research', 'remark', 'problem', 'plu', 'pathetic_', 'negative_', 'lovely_', 'lift', 'hype', 'gl', 'earn', 'ave', 'Their_', 'SS', 'Cass', 'slowly_', 'rented_', 'opportunity_', 'fat', 'every', 'este', 'dub', 'cons', 'bull', 'Sav', 'P_', 'My', 'wondering_', 'unbe', 'twe', 'statu', 'shin', 'rock', 'party_', 'inform', 'heroine', 'hate', 'girlfriend', 'fate', 'ette', 'dies_', 'comparison', 'alb', 'ak_', 'Lis', 'Christian_', 'Act', 'yon', 'storyline', 'soul', 'rece', 'rea', 'product', 'nut', 'lets_', 'funniest_', 'field_', 'city', 'Stephen_', 'GH', 'Ann', 'wee', 'weapon', 'viewing', 'tte', 'sty', 'spi', 'quality', 'price', 'possess', 'ntly', 'dd', 'compa', 'buy', 'agree', 'Hal', 'Comp', 'twists_', 'shak', 'nudity_', 'mati', 'giant_', 'company_', 'baby_', 'admit', 'Finally', 'wn_', 'whe', 'romance', 'presence_', 'myself', 'jokes', 'ident', 'friendship', 'fift', 'explore', 'episodes', 'element_', 'edi', 'eat', 'conve', 'Ira', 'However_', 'DI', 'winning_', 'sexy_', 'rescue', 'physical_', 'pe_', 'oid', 'nobody_', 'nis', 'mad_', 'lin_', 'ket', 'hom', 'generation', 'dance', 'attack', 'appropriate', 'allowed_', 'Ve', 'RS', 'Mr_', 'Kid', 'Instead_', 'Hell', 'Everything_', 'Before_', 'Arthur_', 'waste', 'themes_', 'stunt', 'rap', 'million_', 'hi_', 'games', 'fair_', 'distract', 'cross', 'boat', 'available_', 'abilit', 'Hitler', 'Fl', 'Cas', 'wearing_', 'spirit_', 'rede', 'rb', 'perspective', 'ocr', 'mac', 'kle', 'gang_', 'floor', 'fab', 'Pen', 'ON', 'Kur', 'Jerry_', 'Here', 'Andrew', '??', 'window', 'uss', 'mp_', 'intens', 'expert', 'ei', 'changes_', 'carry_', 'born_', 'bee', 'award', 'Sor', 'Jos', 'Home', 'Cat', '1980', 'zing_', 'victim', 'tight', 'space', 'slu', 'pli', 'neat', 'mistake', 'ky', 'joke', 'includes_', 'hear', 'emb', 'dev', 'damn_', 'confusi', 'church', 'NI', 'Clark', 'theatre', 'sso', 'lock', 'laughed_', 'fran', 'drive_', 'danger', 'alle', 'Which_', 'Western', 'Roman', 'Rit', 'Pie', 'Law', 'France', 'Did_', '14', 'vor', 'usual', 'turn', 'supposedly_', 'sm_', 'satisf', 'realistic', 'pieces_', 'nse', 'near', 'image_', 'flat', 'development', 'design', 'contrast', 'colla', 'board', 'arti', 'anywhere', 'Unfortunately_', 'Rock', 'Ford', 'Doc', 'white', 'small', 'replace', 'prison_', 'owe', 'minat', 'may', 'inspired_', 'helped_', 'expect', 'doll', 'dish', 'chase', 'awa', 'Those_', 'Second', 'OR', 'Nazi', 'Ell', 'watchable', 'via', 'test', 'stick', 'step_', 'speech', 'relationship', 'pass', 'ote', 'nel', 'mild', 'gue_', 'embarrass', 'describe_', 'bound', 'bother_', 'aging', 'Julie', '70s', 'via_', 'street_', 'squ', 'scream', 'pos', 'overs', 'mix_', 'martial_', 'magic_', 'jud', 'gener', 'eh', 'concept', 'alien', 'FO', 'which', 'values_', 'success', 'soldiers_', 'pla', 'lous', 'lose_', 'io', 'ike', 'fish', 'eth', 'ddy', 'crowd', 'creative_', 'conc', 'beh', 'bbi', 'Matth', 'Europe', '1970', 'ulat', 'track', 'target', 'swea', 'stal', 'refuse', 'phon', 'pho', 'hang', 'gea', 'doubt', 'compr', 'cloth', 'cliché', 'bland', 'behavior', 'aci', 'Simp', 'Leon', 'England', 'Edi', 'Cons', ')<', ' .', 'wy', 'worker', 'volu', 'vehicle', 'tour', 'random_', 'phone_', 'ong', 'moved_', 'grave', 'folk', 'filming_', 'feelings_', 'build_', 'basi', 'Tor', 'TR', 'Sk', 'New', 'Miss_', 'Kl', 'Kat', 'Boll', 'zil', 'ust', 'robot', 'result', 'reac', 'ped', 'pea', 'ow_', 'mmi', 'laughs', 'issues_', 'intended_', 'impressed_', 'favorite', 'dw', 'documentary', 'doctor_', 'debut', 'account', 'North', 'Im', 'GO', 'weird', 'transform', 'train', 'swi', 'sum', 'soci', 'same', 'reh', 'ld_', 'ffic', 'conversation', 'comedic_', 'artistic_', 'adi', 'accept', 'Stone', 'Jew', 'CR', 'threaten', 'stea', 'scra', 'sake', 'potential', 'listen', 'het', 'cted_', 'cod', 'chase_', 'berg_', 'appear', 'Ton', 'Queen', 'Mark_', 'Hall', 'FI', 'wer', 'thes', 'sons', 'provide_', 'nger', 'ney', 'mot', 'mask', 'flesh', 'exe', 'dozen', 'disgu', 'conclusion', 'accent', 'Victoria', 'SP', 'Jr', 'Char', 'Albert', 'try', 'tal_', 'round_', 'mix', 'ison', 'hundred', 'holds_', 'gger', 'approach_', 'Space', 'Okay', 'MI', 'Love_', 'Elvi', 'Doo', 'tragic_', 'sweet', 'stud', 'sible', 'remain', 'pur', 'nts_', 'ken', 'got', 'fam', 'edge_', 'Hea', 'Film', 'Cast', 'teenage_', 'technical_', 'skip', 'rend', 'our', 'illus', 'ham', 'favourite_', 'ensi', 'consist', 'cold_', 'cent', 'cate', 'MAN', 'F_', 'Die', 'Cub', 'Chinese_', 'yourself', 'ugh', 'stretch', 'society', 'rth', 'root', 'reminds_', 'reg', 'rd_', 'put', 'purpose', 'ition_', 'humanity', 'gotten_', 'fest', 'feel', 'fascinat', 'failure', 'culture_', 'cont', 'allow_', 'pursu', 'preci', 'if', 'belong', 'VE', 'Sar', 'O_', 'Nic', 'Dead', 'AC', ' ****', 'western_', 'uct', 'thro', 'tes', 'struggle_', 'straight', 'stic', 'similar', 'repe', 'pid', 'nes_', 'mou', 'irre', 'hic', 'explained', 'deeply_', 'cs_', 'confront', 'clichés', 'attack_', 'asks_', 'Yet_', 'Was_', 'Tro', 'Stre', 'Rei', 'Kelly_', 'Julia', 'Bas', '? <', 'ties', 'technique', 'stunning_', 'slight', 'skill', 'sat_', 'outstanding_', 'lies_', 'journey_', 'hap', 'expla', 'definit', 'critics_', 'continue_', 'compelling_', 'charge', 'Thing', 'PE', 'Marie', 'Lynch', 'Jason_', 'Hen', 'Av', '.... ', '\\x97', 'wanting_', 'wanna', 'transp', 'thats_', 'smok', 'respons', 'professional_', 'print', 'physic', 'names_', 'inge', 'infa', 'grip', 'green', 'ggi', 'buster', 'bum', 'belief', 'accept_', 'abuse', 'Rain', 'Pos', 'Lee', 'Hoo', 'All', 'threa', 'soundtrack', 'realized_', 'ration', 'purpose_', 'notice_', 'member_', 'lovers', 'log', 'kni', 'inse', 'inde', 'impl', 'government_', 'door_', 'community', 'also', 'Zombie', 'WI', 'Sur', 'Stewart_', 'Roo', 'NA', 'Comm', 'Anna', 'wonderfully_', 'vac', 'tit', 'thus_', 'shadow', 'rg', 'resol', 'religious_', 'problems', 'nonsense', 'naked_', 'marvel', 'fantastic', 'em_', 'earth_', 'demand', 'cost', 'bes', 'band', 'background', 'Mas', 'Bon', 'African', ':<', 'thousand', 'realism', 'race_', 'ption', 'pred', 'neg', 'met', 'little', 'kn', 'flying_', 'ement', 'editing', 'abandon', 'Take', 'On', 'Mich', 'Gin', 'Fer', 'wide', 'victim_', 'spell', 'search_', 'rush', 'road_', 'rank', 'pping_', 'mpl', 'kil', 'incomp', 'humour_', 'group', 'ghost', 'ens', 'electr', 'edg', 'dru', 'culture', 'cars', 'Wil', 'UR', 'Haw', 'Give', 'Fat', 'Dou', 'Ant', 'AD', 'vs', 'tia', 'rei', 'regret', 'necessar', 'master_', 'mani', 'honestly_', 'hey', 'hadn', 'gant', 'fresh_', 'exce', 'document', 'direct_', 'dated_', 'afraid_', 'OU', 'Mid', 'Len', 'Good', 'Beat', 'yer', 'walk', 'ture_', 'train_', 'theor', 'stink', 'spit', 'rarely_', 'proper', 'intelligen', 'hed_', 'hair_', 'forgot', 'fascinating_', 'ere', 'deliver_', 'believable', 'awesome_', 'attend', 'actresses_', 'Up', 'Par', 'Bad_', 'zombie', 'ys_', 'wards', 'trash_', 'strip', 'spectacular', 'six_', 'silly', 'shed_', 'praise', 'loud_', 'inspir', 'insi', 'god', 'four', 'devi', 'Sir', 'Plan', 'PL', 'Everyone_', 'Dol', 'thinking', 'store', 'spo', 'rou', 'pou', 'opposite', 'dud', 'difference_', 'deli', 'compare_', 'cable', 'VER', 'Tim_', 'Ob', 'Jane', 'Jam', 'Don_', 'CI', 'yo', 'want', 'villains', 'toward_', 'taste_', 'support', 'stone', 'sted_', 'spect', 'satire', 'row_', 'rag', 'observ', 'nel_', 'motiv', 'moro', 'lust', 'lect', 'ively_', 'gli', 'gie', 'fet', 'eld', 'div', 'creating_', 'brain_', 'bird', 'attention', 'ates_', 'ald', 'Sher', 'Russ', 'Rea', 'Joan_', 'Gab', 'Coo', 'Bond', '40', 'trade', 'sive_', 'routine', 'plane_', 'photograph', 'ound', 'om_', 'nk_', 'mountain', 'mate', 'listen_', 'isa', 'imagina', 'gia', 'embarrassing', 'convince', 'building_', 'avoid', 'Wow', 'SA', 'Al_', 'vy_', 'unsu', 'tty_', 'situations_', 'sensi', 'results', 'recogni', 'quick', 'plan_', 'mod', 'masterpiece_', 'limit', 'lar', 'gorgeous_', 'fil', 'ensu', 'edly_', 'cor', 'context', 'bul', 'bottom_', 'began_', 'animation', 'anc', 'acc', 'Ty', 'Sc', 'London_', 'Lewis', '.\"<', 'weight', 'rubbish', 'rab', 'project_', 'powers', 'personalit', 'offer_', 'noir_', 'killed', 'justif', 'jun', 'information_', 'gem', 'ative_', 'PO', 'Jeff_', 'Gui', 'voca', 'tab', 'spot_', 'remind', 'proceed', 'kick_', 'ious', 'grab', 'enem', 'educat', 'claim', 'cks', 'charisma', 'bal', 'Scott', 'Over', 'Mus', 'Laure', 'Kan', 'Hunt', 'Dead_', 'Acti', '90_', '50_', ' ! ! ! ! ! ! ! ! ! !', 'ws_', 'vul', 'village', 'speed', 'skills', 'public', 'outl', 'naive', 'mos', 'latter_', 'ki_', 'iat', 'honest_', 'ga_', 'emotions_', 'detective_', 'citi', 'bits_', 'answer_', 'accomplish', 'Washington', 'Sm', 'Dal', 'CE', 'Bett', 'Af', '40_', 'sell', 'pret', 'pper', 'opera', 'notabl', 'involved', 'important', 'humorous', 'finale', 'dise', 'date_', 'contribut', 'complain', 'comedies_', 'battle', 'balance', 'Go_', 'Fla', 'Alon', '); ', 'wis', 'ups', 'spoke', 'pulled_', 'points', 'mediocre_', 'ker_', 'introduced_', 'independent_', 'hil', 'fits_', 'eating_', 'confused_', 'concerned', 'cing', 'ca_', 'bran', 'borat', 'bing_', 'ay_', 'abr', 'Russian_', 'Kevin_', 'H_', 'Fred_', 'Exce', 'English', 'Danny_', 'Dani', 'Coll', 'Alt', '100_', 'used', 'translat', 'shape', 'odi', 'manage_', 'loy', 'lik', 'ibi', 'eat_', 'behav', 'apparent_', 'admi', 'acr', 'ach', 'Young_', 'Run', 'Martin_', 'Mak', 'Hart', 'Asi', '25', '& ', 'trag', 'terror', 'tea', 'shallow', 'rob', 'rape', 'pond', 'ole', 'neck', 'nature', 'loving_', 'jerk', 'hours', 'hidden_', 'gar_', 'field', 'fel', 'existence', 'erotic', 'constant_', 'cau', 'bar_', 'VI', 'Univers', 'Sen', 'CK', '100', 'wealth', 'wave', 'understanding_', 'sole', 'ral', 'none', 'nasty_', 'mari', 'likable_', 'ith', 'intense_', 'hou', 'gh_', 'ely', 'dic', 'dea', 'clip', 'bow', 'UL', 'Nu', 'Moon', 'Ital', 'Ed_', 'Cle', '.......', 'yeah', 'tree', 'successful', 'ril', 'ract', 'philosoph', 'parents', 'marriage_', 'lte', 'ject', 'ite_', 'hun', 'fantas', 'fame', 'extra_', 'dreadful', 'details_', 'dad_', 'capture_', 'annoy', 'Other', '?!', 'tions', 'stalk', 'speak', 'revolution', 'redu', 'pretend', 'politic', 'places_', 'parody', 'park', 'onic', 'nowhere_', 'mono', 'mile', 'manipulat', 'loses_', 'lli', 'into', 'hid', 'ghost_', 'gha', 'engage', 'assum', 'ador', 'admire', 'X_', 'See_', 'Full', 'Eye', 'zy', 'ware', 'ven_', 'uncle', 'treated_', 'television', 'surreal', 'student_', 'rival', 'ride_', 'recall', 'nudity', 'locations', 'ility', 'hamm', 'gags', 'fill_', 'dealing_', 'co_', 'climax_', 'bon', 'atmosphere', 'aged_', 'Rock_', 'Kim', 'Had', 'Brid', 'Anton', 'zombies_', 'unfunny', 'techn', 'source', 'section', 'pris', 'priest', 'police', 'olo', 'nine', 'maker', 'limited_', 'ik', 'genius_', 'enjoyable', 'distan', 'desperate_', 'believe', 'asked_', 'appearance', 'Ring', 'Pete', 'Master', 'Kin', 'Harr', 'Earth', 'Dog', 'Brown', 'Bren', 'Add', 'web', 'tee', 'sucks', 'structure', 'regi', 'porn_', 'osi', 'llian', 'lett', 'length_', 'ior_', 'hal', 'faith', 'enta', 'deserve_', 'cartoon', 'bs_', 'ahead_', 'Got', 'Eu', 'Americans_', 'Alex', 'speaking_', 'smil', 'photographe', 'ope', 'mpe', 'minim', 'million', 'mental', 'magnificent', 'lur', 'lov', 'keeping_', 'iting', 'homo', 'haunt', 'fiction_', 'fee', 'exploit', 'entertain', 'dding', 'attracti', 'advice', 'Park', 'Fur', 'Cage', 'suc', 'songs', 'smart_', 'shock_', 'rif', 'repl', 'ranc', 'ran', 'photography_', 'patient', 'ladies', 'hated_', 'growing_', 'cheer', 'attractive_', 'ass_', 'approach', 'ants_', 'Mrs', 'Hay', 'Hank', 'Eli', 'EVER', 'Batman_', 'week', 'sword', 'rac', 'promot', 'portray', 'pictures_', 'lt_', 'ito', 'interna', 'forgive', 'device', 'corrupt', 'choreograph', 'chop', 'blame_', 'atch', 'VE_', 'KE', 'Johnny_', 'vity', 'ville', 'vas', 'uit', 'tional_', 'quote', 'quick_', 'producer_', 'personally_', 'parti', 'oa', 'nity', 'loo', 'ives', 'increas', 'ical', 'heads_', 'graphic', 'going', 'featuring_', 'defin', 'cute', 'criminal', 'cheat', 'cash', 'cann', 'bol', 'bec', 'Welles', 'SPOILERS', 'Power', 'Kell', 'Georg', 'Gene_', 'Blai', 'Again', '11', 'yell', 'vious', 'unusual_', 'tradition', 'summar', 'stunn', 'revealed', 'remo', 'psychi', 'provi', 'prepare', 'offer', 'insane', 'happens', 'efforts', 'delic', 'current_', 'construct', 'bil', 'aries', 'animals_', 'advance', 'Kong', 'Jan', 'Howard', 'Daw', 'Cru', ' !', 'terribly_', 'teache', 'tas', 'sudden', 'sleaz', 'sharp', 'ress_', 'rape_', 'ppi', 'numbers_', 'mouth', 'lower', 'ime', 'ifie', 'ideal', 'exception_', 'ema', 'charm_', 'breaking_', 'addition_', 'Walke', 'Lat', 'Jean_', 'Eddie_', 'City_', '.\"', 'warning', 'versions', 'tack', 'reli', 'ration_', 'prove_', 'plo', 'pile', 'performer', 'monk', 'intellectual', 'handle', 'ets', 'essor', 'ature', 'atri', 'ans_', 'Int', 'Fel', 'European_', 'Cus', 'As', 'wr', 'worst', 'witty', 'wild_', 'wedding', 'students_', 'sadly_', 'princip', 'paint', 'mmy', 'mixed_', 'kinda_', 'frequent', 'discover_', 'dal', 'command', 'colour', 'bou', 'bored', 'Wild', 'Ul', 'Really', 'Mitch', 'Cinema', 'Andy_', '16', 'visuals', 'varie', 'ut_', 'unfold', 'suspect', 'semi', 'responsible_', 'religion', 'rapi', 'py_', 'otic', 'numerous_', 'news', 'nces', 'kl', 'junk', 'joy', 'insult', 'festival', 'drop_', 'costumes_', 'been', 'bag', 'aware_', 'aver', 'Mir', 'Last_', 'Hon', 'Frie', 'Cent', 'wishe', 'vie', 'toy', 'repeat', 'pter', 'oppo', 'open', 'noticed_', 'murders_', 'ka_', 'harm', 'finish_', 'extreme_', 'eno', 'dying_', 'doo', 'ddle', 'clear', 'cat_', 'bru', 'addict', 'Smith', 'Rod', 'Rem', 'zzle', 'tory', 'starting_', 'specific', 'screaming', 'scenery_', 'psychological_', 'occur', 'obli', 'mn', 'lica', 'laughter', 'inso', 'grad', 'goof', 'gas', 'element', 'dom_', 'dism', 'deals_', 'ctor', 'camp_', 'audi', 'ator_', 'ack', 'Smith_', 'Sh', 'Kenne', 'Holl', 'Dean', 'xious', 'uncom', 'situation', 'shots', 'seem', 'rin', 'pain_', 'originally_', 'number', 'nightmare', 'mystery', 'ml', 'kiss', 'imag', 'iful', 'grew_', 'grade_', 'gge', 'event', 'eate', 'dramati', 'dad', 'condition', 'conce', 'comfort', 'chair', 'aur', 'YOU', 'Red', 'REAL', 'Norma', 'Kir', 'wash', 'upt', 'titi', 'returns_', 'retr', 'restr', 'require', 'relief', 'realise', 'rch', 'rang', 'ple_', 'lus', 'lip', 'intrigue', 'incident', 'iler', 'ha_', 'ground_', 'fores', 'exh', 'dancer', 'anger', 'Wr', 'They', 'Sinatra', 'SI', 'Op', 'Long', 'GI', 'Dem', 'yd', 'week_', 'treatment', 'treat', 'stan', 'slic', 'separate', 'screenplay', 'remarkable_', 'pped_', 'persona', 'mble', 'invi', 'innocen', 'hack', 'gru', 'gma', 'glass', 'forgotten_', 'fem', 'confi', 'clever', 'bone', 'amateur', 'Richard', 'Ray_', 'Please_', 'Kris', 'IM', 'Gordon', 'ED', 'Black', 'wen', 'very', 'ured', 'theater', 'stab', 'redi', 'perce', 'peace', 'passe', 'ops', 'oon', 'morning', 'llow', 'legend', 'irritating', 'hopes_', 'gross', 'genuinely_', 'ech', 'crus', 'bitter', 'acti', 'accura', 'Yu', 'Rome', 'Parker', 'Dia', 'studio', 'still', 'stereotypes', 'serv', 'sequences', 'sequence', 'pres', 'portray_', 'poet', 'opti', 'only', 'ins_', 'impact_', 'emotion_', 'ek_', 'earth', 'dou', 'dislike', 'Sti', 'Reg', 'Philip', 'Bil', 'Att', 'Ash', 'Adam_', 'viol', 'v_', 'uma', 'ultimate_', 'ught', 'trailer_', 'superior_', 'sucked', 'sno', 'service', 'ride', 'por', 'plan', 'mum', 'mme', 'merc', 'lonel', 'guide', 'fici', 'facts', 'evidence', 'doctor', 'discover', 'depend', 'degree', 'cruel', 'counter', 'color_', 'cess', 'cause', 'bro', 'ambitio', 'amaze', 'alternat', 'Wom', 'White_', 'John', 'Bud', 'wound', 'wander', 'typi', 'technology', 'swe', 'standing_', 'reuni', 'organi', 'ngly_', 'minu', 'leas', 'gift', 'executed', 'environment', 'diss', 'demonstrat', 'compani', 'allows_', 'Wayne', 'Kno', 'Instead', 'DA', 'Cart', 'Anthony_', 'unable_', 'uf', 'twin', 'tely', 'sympathetic', 'spoof', 'sis', 'saying', 'rh', 'repr', 'rave', 'promising', 'nch_', 'moo', 'ming', 'liz', 'lighting_', 'lesbian', 'large', 'izing_', 'impos', 'dor', 'disco', 'corny', 'arts_', 'Wars', 'Trac', 'Seve', 'Poli', 'PA', 'Moore', 'LL_', 'Jimmy_', 'Gary_', '?\"', 'zero', 'underw', 'tou', 'spen', 'sheer_', 'scared_', 'rever', 'relationships_', 'proved_', 'predict', 'pia', 'obsc', 'lum', 'learn', 'herself', 'gras', 'finished_', 'continues_', 'brave', 'aris', 'api', 'THIS_', 'Mille', 'Leg', 'First', 'Dis', 'Allen_', 'traditional_', 'statement', 'spir', 'soon', 'rence', 'ran_', 'pros', 'opi', 'mistake_', 'lawyer', 'discovers_', 'deepe', 'ction_', 'cares', 'brutal_', 'brutal', 'breaks_', 'antly', 'accent_', 'Killer', 'Can_', 'Broadway', 'unintentional', 'unbelievable_', 'tte_', 'suspect_', 'strike', 'sens', 'screw', 'rtu', 'pant', 'opens_', 'obsessi', 'mates', 'los', 'logic', 'kit', 'joy_', 'inte', 'iness_', 'han_', 'exact', 'entertained', 'ego', 'dreams_', 'convention', 'collecti', 'chest', 'bling_', 'authentic', 'Then', 'Much_', 'Mot', 'Bette', 'viewers', 'vampire_', 'teach', 'stylis', 'someone', 'sne', 'saved_', 'rule', 'regular_', 'practic', 'ppe', 'pion', 'notice', 'native', 'monsters', 'lo_', 'learned_', 'incon', 'hour', 'hood_', 'feeling', 'embe', 'driving_', 'convincing', 'cav', 'ber_', 'angle', 'absurd', 'Trek', 'Sat', 'Paris_', 'Mol', 'Max', 'Kh', 'Emma', 'Edward', 'Anyone_', '?? ', '17', ' \" ', 'wrap', 'unrealistic', 'tam', 'subtitle', 'spoilers', 'since', 'sexual', 'render', 'remake', 'rely', 'pop_', 'oge', 'oft', 'nett', 'monst', 'law_', 'ional', 'inclu', 'ich', 'ians_', 'hotel_', 'graphic_', 'gonna_', 'gent', 'flashbacks', 'families', 'erin', 'dropp', 'dir', 'bond', 'affair_', 'Scre', 'Dun', 'wide_', 'ttl', 'topic', 'symboli', 'switch', 'solve', 'send', 'rud', 'rem', 'reasons', 'reasonabl', 'pee', 'nar', 'location_', 'ining_', 'gam', 'disappointing_', 'desire_', 'criminal_', 'considera', 'century_', 'celebrat', 'brow', 'area', 'Thin', 'Rec', \"' (\", 'ward_', 'vision_', 'treme', 'surprising_', 'super_', 'risk', 'receive', 'qual', 'pic', 'mee', 'levels', 'kins', 'jack', 'ire_', 'introduc', 'hits_', 'happening_', 'handsome', 'gradua', 'giv', 'garbage', 'forces_', 'finest_', 'easi', 'depressing', 'credits', 'asto', 'Sadly', 'Ple', 'Inc', 'Dick_', 'Alexand', 'wooden_', 'wood_', 'stro', 'steal_', 'soul_', 'reference', 'race', 'quis', 'pir', 'perv', 'obvious', 'majority_', 'lean', 'kes_', 'insti', 'identity', 'everybody_', 'double_', 'dies', 'credit', 'const', 'confe', 'compar', 'centur', 'bloody_', 'Under', 'Twi', 'Sean_', 'Lio', 'Halloween', 'Gal', 'Clu', 'Came', 'Barbara_', '?)', '11_', 'ws', 'ulous', 'subtle', 'substance', 'string', 'shocking_', 'scientist_', 'rian', 'nou', 'multi', 'lf', 'inal', 'harsh', 'handed', 'fir', 'expectations_', 'excited', 'exceptional', 'eva', 'complete', 'comic', 'childhood_', 'ched_', 'adults_', 'Timo', 'Soo', 'Mos', 'Kath', 'Karl', 'Cinderella', 'Christian', 'Age', 'Adam', '!). ', 'zar', 'zan', 'trap', 'trai', 'thin_', 'site_', 'site', 'rich', 'resi', 'reach_', 'quirk', 'patr', 'ony', 'nerv', 'matche', 'inept', 'imagine', 'horri', 'front', 'ford_', 'epic_', 'dat', 'cynic', 'ckin', 'cie', 'caused_', 'brothers_', 'belo', 'appealing', 'West_', 'UK', 'TC', 'Suc', 'Rand', 'Grad', 'Domin', 'Disney', '12_', 'warr', 'vision', 'spoo', 'seeing', 'scenario', 'scale', 'rad', 'ola', 'next', 'necessary_', 'indicat', 'exploitation', 'ened_', 'directing', 'depict', 'curio', 'ciati', 'bullet', 'appre', 'amateurish', 'Yo', 'Watching_', 'Sky', 'Shar', 'Part_', 'Nichol', 'Mars', 'Are_', 'wel', 'visit_', 'unne', 'underrated', 'tedious', 'seconds_', 'rig', 'report', 'reme', 'rar', 'mond_', 'media_', 'lying_', 'las', 'language', 'ised_', 'instant', 'inspiration', 'creates_', 'conflict', 'compose', 'chan', 'cab', 'ava', 'always', 'Water', 'Steven_', 'Pas', 'Nick_', 'Let_', 'Down', 'yth', 'victims_', 'theaters', 'seasons', 'sai', 'rising', 'recr', 'plann', 'pent', 'painfully_', 'ot_', 'occu', 'nob', 'moti', 'lem', 'lati', 'gua', 'fights_', 'event_', 'elev', 'discovered_', 'cs', 'cliché_', 'cance', 'bik', 'bigger_', 'backs', 'atic', 'Shan', 'Sab', 'Poi', 'Hitchcock', 'GR', 'Francis', 'Det', 'Care', 'Anderson', 'veteran', 'ution_', 'theless', 'sports', 'slave', 'ses', 'revi', 'refreshing', 'quar', 'provok', 'premise', 'paper', 'nty', 'norm', 'mood', 'menac', 'loud', 'loose', 'letter', 'investigati', 'introduce', 'holes_', 'gan_', 'fund', 'ents_', 'drunk', 'disgusting', 'dio', 'confusing_', 'cky', 'baby', 'THE', 'Nancy', 'Kate_', 'Gia', 'Carol', 'Cand', \"'.\", 'western', 'unf', 'struc', 'strong', 'search', 'sav', 'ries_', 'resemble', 'rental', 'raci', 'producer', 'nic_', 'news_', 'memor', 'many', 'magical', 'format', 'equal', 'decl', 'curs', 'ction', 'convict', 'contrived', 'capable_', 'bringing_', 'boyfriend_', 'bli', 'anybody_', 'animal_', 'advertis', 'Music', 'Jun', 'Jones', 'Greg', 'Fra', 'Donald_', 'Dark', '1930', 'é_', 'yc', 'urne', 'tire', 'step', 'scr', 'reporter', 'position', 'okay', 'nted_', 'misse', 'logical', 'ient', 'identif', 'feet', 'fail_', 'creat', 'content_', 'contemp', 'concei', 'border', 'ask', 'actual', 'Way', 'Plus', 'Mill', 'Foo', 'Dy', 'Bec', ' ,', 'utter_', 'urban', 'struggle', 'sign_', 'sher', 'seduc', 'scientist', 'saw', 'released', 'received_', 'lity_', 'jump_', 'island_', 'ignor', 'ick', 'horrifi', 'hange', 'handled', 'endea', 'dil', 'ative', 'angry_', 'ages_', 'accus', 'Writ', 'Without_', 'Wall', 'Thank', 'Sla', 'Qua', 'Page', 'ND', 'Lost', 'Fish', 'Eric_', 'Does', 'Clau', 'Cel', 'Camp', 'Australian', 'Arn', 'Ann_', 'Ala', 'Actually', \".' \", \",' \", 'wall_', 'thoughts', 'somebody_', 'round', 'proud', 'oy', 'overly_', 'opera_', 'offensive', 'myth', 'murderer', 'mpt', 'ivi', 'ir_', 'iga', 'iar', 'holi', 'hearted_', 'gath', 'fictional', 'expectation', 'etta', 'enco', 'ence', 'deserved_', 'depiction', 'dece', 'comedian', 'bles', 'aside_', 'ambi', 'ake', 'Wonder', 'Why', 'Through', 'Overall_', 'Off', 'OI', 'More_', 'Jennifer_', 'Gill', 'Germany', 'Douglas_', 'Cy', 'CGI_', '\").', 'walks_', 'ury', 'three', 'thank_', 'surp', 'soph', 'sed', 'satisfying', 'rebel', 'pure', 'practically_', 'minds', 'manage', 'lp', 'learns_', 'isl', 'involves_', 'impro', 'impa', 'icon', 'hyp', 'fortune', 'erm', 'cuts_', 'copi', 'conclusion_', 'ced_', 'captured_', 'bble', 'arro', 'Wei', 'Sis', 'Pin', 'Marg', 'Life', 'Laur', 'Later', 'Hop', 'Eva', 'Blue', 'Barry', 'Baby', 'whilst_', 'unfa', 'twi', 'test_', 'ters', 'stric', 'streets', 'stom', 'spoil', 'relative', 'relate_', 'recommend', 'ology', 'middle', 'laughable', 'jea', 'genuine_', 'gat', 'frustrati', 'forth', 'excitement', 'costs', 'cord', 'compo', 'bright_', 'bank', 'aka', 'WE', 'Ten', 'THAT', 'Pur', 'Pitt', 'Mike_', 'Hum', 'Being_', 'veri', 'turi', 'tun', 'tel', 'task', 'sting', 'six', 'sentimental', 'quit', 'pleasure_', 'pity', 'personality_', 'motivation', 'moder', 'miserabl', 'mirror', 'manner_', 'logi', 'ein', 'eful', 'dubbed', 'discussi', 'ders', 'defeat', 'dangerous_', 'cry_', 'clos', 'cial_', 'chor', 'Wat', 'Wan', 'Spanish_', 'Have', 'Guy', 'Game', '. . ', 'winner', 'welcome', 'unexp', 'ture', 'tall', 'tal', 'stoo', 'smo', 'serious', 'rc', 'phi', 'outrage', 'oh', 'national_', 'mber_', 'mba', 'loser', 'lee', 'largely_', 'involve', 'ico', 'garbage_', 'found', 'even', 'distinct', 'design_', 'cure', 'consu', 'circumstances', 'calls_', 'blown_', 'attract', 'anime', 'Zi', 'Vietnam', 'Ryan', 'ON_', 'NY', 'Lady_', 'La_', 'Flor', 'Bern', 'AI', ' )', 'unk', 'unh', 'ugly_', 'tine', 'spre', 'simpli', 'significant', 'sequels', 'remembered_', 'reache', 'plat', 'obsessed_', 'ncy_', 'mysteri', 'mous', 'mbs', 'lover_', 'lights', 'lad', 'industr', 'ible', 'grown_', 'general', 'fru', 'explosion', 'exception', 'ese', 'endur', 'domina', 'dera', 'cies', 'built_', 'barr', 'Tod', 'Ran', 'Maria', 'Grand', 'Dee', 'Aw', ' />**', 'xo', 'voices', 'visually', 'ui', 'twice_', 'tend_', 'spor', 'solut', 'slap', 'scien', 'robbe', 'redibl', 'prot', 'prevent', 'ood', 'kee', 'issue_', 'ironic', 'iron', 'investigat', 'intr', 'hl', 'gus', 'food_', 'enl', 'dl', 'described_', 'complaint', 'careful', 'apartment_', 'alcohol', 'aid', 'acy', 'Year', 'Vis', 'Vir', 'Tow', 'Fly', 'Dream', 'Award', '*****', 'vague', 'strat', 'reviewers_', 'offend', 'locat', 'iu', 'ital', 'iev', 'hospital_', 'fou', 'financ', 'filmmaker_', 'farm', 'evening', 'essentially_', 'energy_', 'ef_', 'complex', 'competi', 'ching', 'bal_', 'ax', 'ances', 'acted', 'ace_', 'Story', 'LD', 'Inde', 'Hope', 'Duk', 'Dian', 'Bob', 'Back', 'Any_', 'About_', ' ...', 'yard', 'whenever_', 'wake', 'ures_', 'unse', 'trust_', 'treat_', 'teenager', 'stock_', 'rri', 'rise_', 'rant', 'pupp', 'pte', 'pes', 'overd', 'operati', 'occasional', 'nicely_', 'nical', 'liners', 'impo', 'holding_', 'engaging_', 'diver', 'distribut', 'dim', 'delightful_', 'crappy_', 'cook', 'connection_', 'cohe', 'bore', 'Vincen', 'Susan', 'Rep', 'Powell', 'Oliver', 'Neil', 'Murphy', 'Mic', 'Indi', 'Ele', 'Bru', 'Beaut', '. *', ' />*', 'zation', 'urge', 'urag', 'teenagers', 'seven_', 'river', 'prep', 'nail', 'mble_', 'matters', 'loose_', 'iva', 'issue', 'intriguing_', 'ili', 'god_', 'glimpse', 'ently', 'els_', 'een_', 'develop_', 'desire', 'cops_', 'contra', 'buil', 'broke', 'ater', 'asleep', 'adventur', 'Williams_', 'Wend', 'None_', 'Mod', 'House', 'Horror_', 'Anim', '192', 'ughter', 'trial', 'soap_', 'severe', 'road', 'poster', 'portraying_', 'phr', 'pathetic', 'overlook', 'moving', 'month', 'lau', 'lacking_', 'knowledge_', 'kidnapp', 'interpretation', 'industry_', 'hurt', 'heavi', 'genius', 'false', 'existent', 'execution', 'drop', 'difference', 'determine', 'detail_', 'dent', 'cutting', 'combin', 'comb', 'cket', 'chron', 'capital', 'bodies', 'bic', 'believes_', 'area_', 'angles', 'Ted', 'Sop', 'End', 'Dre', 'Dick', 'Ak', 'Africa', ' ? ', 'vol', 'system', 'steps', 'situations', 'sexuality', 'sets', 'ripp', 'revel', 'rel', 'realiz', 'private', 'paper_', 'notch', 'nge_', 'mistr', 'merit', 'mbl', 'match', 'losing_', 'lme', 'interacti', 'indeed', 'ifica', 'henc', 'heaven', 'fro', 'fon', 'femin', 'faces_', 'enh', 'driven_', 'dressed_', 'dne', 'decen', 'ctic', 'coming', 'club_', 'castle', 'captures_', 'building', 'atic_', 'athe', 'assassin', 'army_', 'alien_', 'abso', 'Tho', 'Scr', 'Prob', 'Para', 'Gor', 'Eg', 'Com', 'City', 'At', 'Apparently', ' / ', 'ule', 'ue_', 'tograph', 'thirt', 'thank', 'suit_', 'suffering_', 'sight_', 'sey', 'screenwriter', 'rell', 'ppet', 'passed_', 'pacing_', 'normally_', 'mill', 'lyn', 'ition', 'gers', 'football', 'faithful', 'expose', 'expos', 'emerge', 'ell_', 'depicted', 'crude', 'criticism', 'combination_', 'claim_', 'carr', 'bt', 'brilliantly_', 'boss', 'analy', 'ame', 'Ray', 'Pic', 'Lord_', 'Kill', 'Fea', 'Evil', 'Bos', 'BS', 'AB', '\" - ', ' :', 'tta', 'trailer', 'soli', 'rum', 'revolve', 'ressi', 'quiet_', 'portrays_', 'populat', 'plant', 'oin', 'occasionally_', 'nost', 'nau', 'mun', 'lb', 'ipat', 'hysteri', 'grow_', 'gag', 'fus', 'foot_', 'finger', 'figur', 'esp', 'equi', 'ener', 'dec', 'chain', 'broken_', 'agent', 'actions_', 'aa', 'Russell', 'Indian', 'Heav', 'Daniel_', 'Ast', ' /> ', 'zard', 'unlikely', 'ump', 'tele', 'teacher_', 'subplot', 'rub', 'rte', 'rly_', 'radio_', 'quir', 'pair_', 'ordinary_', 'oppos', 'nsi', 'mouth_', 'maintain', 'lve', 'loc', 'inventi', 'inexp', 'imitat', 'generate', 'gal_', 'frightening', 'frig', 'foreign_', 'filmmaker', 'excess', 'elle', 'creator', 'count_', 'controvers', 'cliche', 'casti', 'bet_', 'aking_', 'acqu', 'Three', 'Texas', 'Tarzan_', 'Earth_', 'Dan_', 'Besides', 'yw', 'woods_', 'wan', 'vest', 'uous', 'unit', 'therefore_', 'tears_', 'surface', 'steals_', 'sni', 'shut', 'roman', 'roll_', 'rele', 'reaction', 'qualities', 'proper_', 'profession', 'photo', 'months_', 'mem', 'makeup', 'longe', 'lam', 'ix', 'insist', 'inher', 'fying_', 'forgettable', 'faced', 'expens', 'enthusias', 'describ', 'cry', 'commentary_', 'collection_', 'civili', 'category', 'cam', 'believed', 'ancient_', 'Walter_', 'Sum', 'Sometimes', 'Sel', 'Lou', 'Kn', 'Joseph_', 'Gro', 'Fon', 'Columbo', 'system_', 'student', 'shocked', 'sell_', 'ridi', 'prior', 'primar', 'mon_', 'mmer', 'lish', 'higher_', 'fatal', 'employe', 'dirty', 'cris', 'conf', 'ckle', 'blend', 'bility_', 'baseball', 'awake', 'arr', 'ape', 'alive_', 'Wid', 'Santa_', 'Kei', 'Dep', 'Burn', 'Bob_', '´', 'warn', 'unknown_', 'twenty_', 'touches', 'supernatural', 'sitcom', 'saving_', 'rupt', 'relatively_', 'possibilit', 'nose', 'mes_', 'massive', 'male', 'ied', 'honor', 'heroes_', 'gig', 'gangs', 'divi', 'diat', 'consequen', 'classics', 'cases', 'bug', 'brief', 'bott', 'assume_', 'associate', 'assistan', 'arra', 'aria', 'absen', 'VHS_', 'Steve', 'Port', 'Paris', 'Old_', 'Morgan_', 'Horr', 'High_', 'General', 'Din', 'Dark_', 'Colo', 'Avoid_', 'zel', 'unnecessary_', 'unexpected_', 'tragedy_', 'tim', 'stle', 'stereo', 'stai', 'send_', 'recommended_', 'produce', 'pregnan', 'noon', 'move', 'ludicrous', 'lude', 'length', 'ident_', 'ide_', 'grue', 'focused', 'extraordinar', 'desperate', 'depress', 'dai', 'creature_', 'covered_', 'chief', 'boss_', 'asking_', 'Yeah', 'WW', 'Rid', 'Island', 'FA', 'Denn', 'Ch', 'Basically', 'Ang', 'Ami', '?! ', '): ', 'virtually_', 'underg', 'truck', 'training', 'tif', 'surf', 'rmin', 'reject', 'rante', 'plots_', 'placed_', 'ni_', 'mature', 'lousy_', 'justice_', 'io_', 'glori', 'gentle', 'fly_', 'explanation_', 'execut', 'exaggerat', 'events', 'elie', 'destructi', 'choose_', 'characteriz', 'char', 'cent_', 'books', 'bby', 'appreciated', 'allo', 'Neve', 'Nee', 'Jackson_', 'Irish', 'IN_', 'During_', 'Devil', 'Count', 'yes_', 'user', 'unpr', 'tual', 'treasure', 'stronge', 'sorr', 'ruined_', 'reputation', 'rently', 'related', 'quel', 'produce_', 'presum', 'politics', 'plans', 'painting', 'killers', 'initial_', 'impli', 'ify', 'hooke', 'funnie', 'fad', 'empty_', 'driver', 'di_', 'detect', 'designed', 'deserve', 'believ', 'awesome', 'accents', 'Your', 'Thank_', 'RE_', 'Pacino', 'Movies', 'Jay', 'IMDb', 'Hugh', 'Festival', 'Enter', 'Donn', 'Christi', 'Alm', 'Academy_', '000_', 'ycl', 'vivi', 'upset', 'ups_', 'unp', 'tiny', 'surprises', 'study_', 'strongly_', 'speaks', 'size', 'riv', 'relation', 'quee', 'py', 'never', 'mainstream', 'libera', 'latest', 'ising', 'insu', 'icia', 'hurt_', 'freedom', 'estl', 'emotionally_', 'dust', 'desc', 'convinced_', 'compell', 'cock', 'clothes_', 'cameo_', 'blind_', 'besides', 'attacke', 'Victor_', 'Return', 'Poo', 'Never_', 'Nel', 'Hey', 'Caine', 'Brando', 'ually_', 'tive', 'silen', 'rew', 'quate', 'preach', 'ological', 'nude', 'multiple', 'link', 'lge', 'ledge', 'laz', 'integr', 'hn', 'hie', 'folks_', 'experiences', 'emphasi', 'earlier', 'delivered_', 'deco', 'deaths', 'continuity', 'complicate', 'burne', 'boyfriend', 'awkward_', 'atrocious', 'amuse', 'ack_', 'Wilson', 'Turn', 'Robin_', 'Pr', 'Om', 'Mun', 'Meanwhile', 'Jessi', 'Jess', 'Jenn', 'Gand', 'Et', 'Canadian_', 'Brothers', 'Bake', 'Ah', '1990', 'wreck', 'unif', 'toi', 'teens', 'smart', 'shir', 'serves_', 'sati', 'rix', 'remain_', 'pub', 'propaganda', 'players_', 'plas', 'ping', 'overcom', 'orious', 'minde', 'meeting_', 'lph', 'loyal', 'lm', 'llin', 'lake', 'kar', 'istic', 'instru', 'included_', 'hire', 'graph', 'gory_', 'favour', 'elde', 'dum', 'destroy_', 'destin', 'denti', 'consistent', 'cameo', 'betr', 'arrest', 'appea', 'animal', 'amen', 'accidentally', 'acce', 'Silv', 'Saturday_', 'ST_', 'Res', 'MGM', 'Korea', 'Fam', 'Asian_', 'Alle', 'zu', 'weeks', 'ticke', 'terrifi', 'table_', 'storytell', 'stopped_', 'steal', 'slash', 'shoe', 'select', 'rocke', 'roa', 'record_', 'previously', 'participa', 'okay_', 'ogr', 'official', 'nke', 'mistakes', 'misca', 'memorabl', 'logue', 'itat', 'ists_', 'intelligence_', 'ien', 'greate', 'ggy', 'gangster_', 'critical', 'closer', 'cartoons', 'boot', 'accepta', 'abu', 'TER', 'States', 'Roberts', 'LER', 'Jones_', 'Hat', 'Eri', 'Eliza', 'Coop', 'wes', 'uninteresting', 'tense', 'teet', 'suffers_', 'stranger', 'station_', 'scu', 'resid', 'rand', 'popula', 'ours', 'opene', 'occurr', 'non_', 'nominated_', 'mol', 'missi', 'memory_', 'memories_', 'maid', 'intri', 'inju', 'inevitabl', 'humans_', 'hanging_', 'gratuitous_', 'gas_', 'forme', 'direct', 'difficult', 'department', 'damag', 'creatures', 'cif', 'Warner', 'Titan', 'Matt_', 'Larr', 'KI', 'Hor', 'Holm', 'Fair', 'Drew', 'Andr', '1960', 'wri', 'vely', 'uls', 'travel_', 'trat', 'transf', 'timi', 'suspen', 'struggling', 'spoil_', 'slaps', 'sink', 'reti', 'reaction_', 'quest_', 'pilot_', 'narration', 'invite', 'hearing_', 'gm', 'gai', 'full', 'frankly', 'fairy', 'expe', 'dimension', 'dent_', 'deme', 'contest', 'conscious', 'cked', 'below_', 'ations', 'angel', 'alive', 'absurd_', 'Wer', 'Tha', 'Stewar', 'Play', 'Picture', 'Part', 'Martin', 'Franc', 'Fir', 'Fas', 'Ev', 'Cos', 'Carre', 'Bog', 'BU', 'Anne_', 'yan', 'writ', 'vit', 'vai', 'summ', 'ston', 'stin', 'stif', 'sensitive', 'rules', 'provided_', 'prostitut', 'pretentious_', 'poignan', 'pai', 'paced_', 'offi', 'nds_', 'mig', 'laughable_', 'instal', 'inati', 'forget', 'eit', 'defend', 'conse', 'beaut', 'Spr', 'Rol', 'Our_', 'NOT', 'Lugosi', 'Luci', 'Las', 'Imp', 'Ic', 'Earl', 'Davis_', 'Cod', '!)', 'twiste', 'sincer', 'sacrifice', 'references_', 'range_', 'purchase', 'orn', 'noise', 'neo', 'mecha', 'lun', 'insult_', 'fully', 'flicks_', 'fair', 'endless_', 'eeri', 'devot', 'curious_', 'comical', 'beth_', 'begin', 'aura', 'ase_', 'ach_', 'Sullivan', 'St', 'Sarah', 'London', 'Liv', 'Kee', 'Jackie_', 'Hong', 'Emil', 'Clair', 'China', 'California', 'Atlant', 'Alice', '\"?', '!!!!!!', 'xico', 'wick', 'visi', 'viewed_', 'uish', 'tribu', 'theatrical_', 'talks_', 'smile_', 'seven', 'reminisce', 'relie', 'rci', 'rah', 'pleasant_', 'plague', 'picio', 'ounce', 'murdered_', 'mul', 'mous_', 'mock', 'mira', 'mete', 'loss_', 'initia', 'iest_', 'health', 'harde', 'gran', 'goal', 'ghe', 'fy', 'fix', 'experienced', 'edy', 'deci', 'conflict_', 'compe', 'committed', 'cele', 'brick', 'bour', 'bers', 'berate', 'artist_', 'anth', 'Woody_', 'WWI', 'V_', 'TT', 'Sunday', 'Story_', 'Rob_', 'Rachel', 'Nin', 'Gree', 'Friday', 'Dev', 'Bros', 'Brana', ' : ', 'wha', 'vig', 'views', 'unconvincing', 'smi', 'sibl', 'quen', 'pointless', 'perp', 'particular', 'overwhelm', 'offered', 'nominat', 'naturally', 'locke', 'left', 'lady', 'ilt', 'iel', 'ication', 'historic', 'haunting', 'gem_', 'figures', 'figured_', 'evol', 'ery', 'eco', 'dynami', 'duct', 'doi', 'description', 'cultural', 'contrac', 'confide', 'combined', 'coin', 'cke', 'chosen_', 'amed', 'agon', 'Thomas_', 'THI', 'Nation', 'MOVIE', 'Lev', 'Jeff', 'Hoffman', 'Glen', 'Even', '1st_', ' ! ', 'yu', 'trappe', 'thir', 'tension', 'tail', 'table', 'split', 'sides', 'settle', 'schem', 'save', 'ruc', 'prime', 'posit', 'painte', 'ndi', 'marry_', 'kun', 'killing', 'isol', 'iot', 'intend', 'impres', 'horribly_', 'hing', 'heroi', 'gle_', 'fri', 'fitt', 'fighter', 'estin', 'ee_', 'drunk_', 'directly', 'dinos', 'chose_', 'changing', 'blonde_', 'benefi', 'award_', 'av', 'aki', 'ages', 'acter', 'VERY_', 'Ur', 'Tel', 'Superman_', 'Real', 'Phi', 'Palm', 'Nicol', 'Johnson', 'Jesus_', 'J_', 'Hes', 'Helen', 'Fun', 'Fle', 'Dir', 'Chap', 'vag', 'uncon', 'ues', 'types_', 'tical', 'sprin', 'sorts', 'securi', 'previ', 'porno', 'party', 'pare', 'method', 'medica', 'mber', 'landscape', 'jor', 'jail', 'imper', 'hunter', 'happening', 'gritty', 'gain_', 'flaws_', 'fak', 'extra', 'edited_', 'ecc', 'dragg', 'chie', 'cant_', 'breast', 'authorit', 'ated', 'ality', 'advise', 'advan', 'according_', 'Wors', 'Unlike', 'United_', 'Simon_', 'Riv', 'Pea', 'Michell', 'Exp', 'Child', 'Cham', 'Bourne', 'Basi', 'widow', 'walked_', 'upp', 'unforg', 'uld_', 'tting', 'till_', 'thy_', 'talents_', 'suspenseful', 'summer_', 'storm', 'screening', 'scare_', 'realizes_', 'rce', 'raw', 'qu', 'ngl', 'magic', 'lac', 'jobs', 'ister_', 'inti', 'inha', 'ill_', 'hands', 'grin', 'forward', 'examin', 'equent', 'emi', 'contact', 'concentrat', 'compu', 'competen', 'biograph', 'attach', 'amus', 'alik', 'activi', 'William', 'Myst', 'Luke_', 'Live', 'Life_', '15', 'zes', 'werewolf', 'warne', 'uring_', 'trilogy', 'swim', 'stumble', 'spite', 'spends_', 'sleep_', 'sist', 'sentence', 'rma', 'reward', 'reviewer_', 'pul', 'preten', 'performed', 'passing', 'par_', 'oph', 'livi', 'kinds_', 'journal', 'isticat', 'inva', 'idi', 'ham_', 'fte', 'few', 'featured', 'ern_', 'eag', 'dollars', 'disb', 'depth', 'cryin', 'cross_', 'content', 'contemporary_', 'colors', 'chee', 'because', 'asy', 'agent_', 'Willi', 'Warr', 'Ven', 'Vamp', 'Roch', 'ONE', 'Movie', 'Mau', 'Mass', 'MST', 'Hin', 'Hear', 'Gue', 'Gl', 'Freddy_', 'Definite', 'Captain_', 'BBC', '??? ', '80s_', '\"), ', 'wol', 'weekend', 'vampires', 'underst', 'tial_', 'terrorist', 'strength_', 'starre', 'soldier_', 'snow', 'sity', 'ruin_', 'retar', 'resu', 'required', 'recommended', 'ques', 'propo', 'presents_', 'perm', 'overt', 'olds', 'occas', 'nn_', 'nen', 'nei', 'mail', 'lost', 'lion', 'libr', 'inner_', 'headed', 'happy', 'guest', 'govern', 'friendly', 'explains', 'ens_', 'effectively', 'draw_', 'downright', 'dete', 'dde', 'dare', 'cring', 'courag', 'conspi', 'comedie', 'claims_', 'cide', 'chas', 'captivat', 'bite', 'bare', 'author_', 'addition', 'Vid', 'Rh', 'Oliv', 'Nata', 'Mexican', 'Keaton_', 'Iron', 'Barb', 'ALL_', '12', '!), ', 'worthwhile', 'weake', 'ung', 'understood_', 'unbelievable', 'superf', 'stolen', 'stereotypic', 'spoiler', 'sight', 'scares', 'rut', 'remove', 'remotely_', 'releva', 'prese', 'poke', 'ndou', 'mbla', 'lucky_', 'lling_', 'legendary', 'imagery', 'humou', 'hug', 'hired', 'heck', 'guilty', 'extras', 'expected', 'everywhere', 'dry_', 'drea', 'directed', 'dimensional_', 'ddi', 'dden', 'communica', 'cham', 'buddy', 'bank_', 'azi', 'algi', 'adventures', 'accurate_', 'accompan', 'Thom', 'Still_', 'Someone', 'Serious', 'SU', 'Phill', 'Perso', 'Patrick_', 'Lei', 'Jus', 'Gho', 'Get_', 'Freeman', 'Especially_', '?).', '...\"']\n"
     ]
    }
   ],
   "source": [
    "print(tokenizer.subwords)"
   ]
  },
  {
   "cell_type": "code",
   "execution_count": 109,
   "metadata": {},
   "outputs": [],
   "source": [
    "sample_string = 'tensorflow, from basics to mastery'"
   ]
  },
  {
   "cell_type": "code",
   "execution_count": 110,
   "metadata": {},
   "outputs": [],
   "source": [
    "tokenized = tokenizer.encode(sample_string)"
   ]
  },
  {
   "cell_type": "code",
   "execution_count": 111,
   "metadata": {},
   "outputs": [
    {
     "data": {
      "text/plain": [
       "[943, 2327, 2934, 2, 48, 4249, 4429, 7, 2652, 8050]"
      ]
     },
     "execution_count": 111,
     "metadata": {},
     "output_type": "execute_result"
    }
   ],
   "source": [
    "tokenized"
   ]
  },
  {
   "cell_type": "code",
   "execution_count": 112,
   "metadata": {},
   "outputs": [],
   "source": [
    "ori = tokenizer.decode(tokenized)"
   ]
  },
  {
   "cell_type": "code",
   "execution_count": 113,
   "metadata": {},
   "outputs": [
    {
     "data": {
      "text/plain": [
       "'tensorflow, from basics to mastery'"
      ]
     },
     "execution_count": 113,
     "metadata": {},
     "output_type": "execute_result"
    }
   ],
   "source": [
    "ori"
   ]
  },
  {
   "cell_type": "code",
   "execution_count": 115,
   "metadata": {},
   "outputs": [
    {
     "name": "stdout",
     "output_type": "stream",
     "text": [
      "943 ----> ten\n",
      "2327 ----> sor\n",
      "2934 ----> flow\n",
      "2 ----> , \n",
      "48 ----> from \n",
      "4249 ----> basi\n",
      "4429 ----> cs \n",
      "7 ----> to \n",
      "2652 ----> master\n",
      "8050 ----> y\n"
     ]
    }
   ],
   "source": [
    "for ts in tokenized:\n",
    "    print('{} ----> {}'.format(ts, tokenizer.decode([ts])))"
   ]
  },
  {
   "cell_type": "code",
   "execution_count": 118,
   "metadata": {},
   "outputs": [],
   "source": [
    "buffer_size = 1000\n",
    "batch_size = 64\n",
    "\n",
    "train_dataset = train_data.shuffle(buffer_size)\n",
    "train_dataset = train_dataset.padded_batch(batch_size, tf.compat.v1.data.get_output_shapes(train_dataset))\n",
    "test_dataset = test_data.padded_batch(batch_size, tf.compat.v1.data.get_output_shapes(test_data))"
   ]
  },
  {
   "cell_type": "code",
   "execution_count": 121,
   "metadata": {},
   "outputs": [],
   "source": [
    "embedding_dim = 64"
   ]
  },
  {
   "cell_type": "code",
   "execution_count": 123,
   "metadata": {},
   "outputs": [
    {
     "name": "stdout",
     "output_type": "stream",
     "text": [
      "Model: \"sequential_4\"\n",
      "_________________________________________________________________\n",
      "Layer (type)                 Output Shape              Param #   \n",
      "=================================================================\n",
      "embedding_6 (Embedding)      (None, 16, 64)            640000    \n",
      "_________________________________________________________________\n",
      "global_average_pooling1d_4 ( (None, 64)                0         \n",
      "_________________________________________________________________\n",
      "dense_8 (Dense)              (None, 24)                1560      \n",
      "_________________________________________________________________\n",
      "dense_9 (Dense)              (None, 1)                 25        \n",
      "=================================================================\n",
      "Total params: 641,585\n",
      "Trainable params: 641,585\n",
      "Non-trainable params: 0\n",
      "_________________________________________________________________\n"
     ]
    }
   ],
   "source": [
    "# creating Neural Network\n",
    "model = tf.keras.Sequential([\n",
    "    tf.keras.layers.Embedding(vocab_size, embedding_dim, input_length = max_length),\n",
    "    tf.keras.layers.GlobalAveragePooling1D(),\n",
    "    tf.keras.layers.Dense(24, activation='relu'),\n",
    "    tf.keras.layers.Dense(1, activation = 'sigmoid')\n",
    "])\n",
    "model.summary()"
   ]
  },
  {
   "cell_type": "code",
   "execution_count": 124,
   "metadata": {},
   "outputs": [
    {
     "name": "stdout",
     "output_type": "stream",
     "text": [
      "Epoch 1/10\n",
      "391/391 [==============================] - 73s 186ms/step - loss: 0.6564 - accuracy: 0.6300 - val_loss: 0.0000e+00 - val_accuracy: 0.0000e+00\n",
      "Epoch 2/10\n",
      "391/391 [==============================] - 72s 184ms/step - loss: 0.4175 - accuracy: 0.8429 - val_loss: 0.3613 - val_accuracy: 0.8641\n",
      "Epoch 3/10\n",
      "391/391 [==============================] - 73s 186ms/step - loss: 0.2958 - accuracy: 0.8905 - val_loss: 0.3484 - val_accuracy: 0.8473\n",
      "Epoch 4/10\n",
      "391/391 [==============================] - 73s 187ms/step - loss: 0.2491 - accuracy: 0.9085 - val_loss: 0.3062 - val_accuracy: 0.8809\n",
      "Epoch 5/10\n",
      "391/391 [==============================] - 74s 189ms/step - loss: 0.2192 - accuracy: 0.9214 - val_loss: 0.3132 - val_accuracy: 0.8739\n",
      "Epoch 6/10\n",
      "391/391 [==============================] - 73s 186ms/step - loss: 0.1954 - accuracy: 0.9300 - val_loss: 0.3121 - val_accuracy: 0.8811\n",
      "Epoch 7/10\n",
      "391/391 [==============================] - 75s 192ms/step - loss: 0.1782 - accuracy: 0.9374 - val_loss: 0.3181 - val_accuracy: 0.8806\n",
      "Epoch 8/10\n",
      "391/391 [==============================] - 74s 189ms/step - loss: 0.1633 - accuracy: 0.9416 - val_loss: 0.3286 - val_accuracy: 0.8776\n",
      "Epoch 9/10\n",
      "391/391 [==============================] - 72s 184ms/step - loss: 0.1510 - accuracy: 0.9483 - val_loss: 0.3419 - val_accuracy: 0.8768\n",
      "Epoch 10/10\n",
      "391/391 [==============================] - 71s 183ms/step - loss: 0.1420 - accuracy: 0.9509 - val_loss: 0.3572 - val_accuracy: 0.8748\n"
     ]
    }
   ],
   "source": [
    "num_epoch = 10\n",
    "model.compile(loss = 'binary_crossentropy', optimizer = 'adam', metrics = ['accuracy'])\n",
    "history = model.fit(train_dataset, epochs = num_epoch, validation_data = test_dataset)\n"
   ]
  },
  {
   "cell_type": "code",
   "execution_count": 128,
   "metadata": {},
   "outputs": [
    {
     "data": {
      "image/png": "[encoded data removed]",
      "text/plain": [
       "<Figure size 432x288 with 1 Axes>"
      ]
     },
     "metadata": {
      "needs_background": "light"
     },
     "output_type": "display_data"
    },
    {
     "data": {
      "image/png": "[encoded data removed]",
      "text/plain": [
       "<Figure size 432x288 with 1 Axes>"
      ]
     },
     "metadata": {
      "needs_background": "light"
     },
     "output_type": "display_data"
    }
   ],
   "source": [
    "plot_graphs(history, \"accuracy\")\n",
    "plot_graphs(history, \"loss\")"
   ]
  },
  {
   "cell_type": "markdown",
   "metadata": {},
   "source": [
    "# week 3"
   ]
  },
  {
   "cell_type": "markdown",
   "metadata": {},
   "source": [
    "## continue from subwords  - LSTM very slow"
   ]
  },
  {
   "cell_type": "code",
   "execution_count": 136,
   "metadata": {},
   "outputs": [],
   "source": [
    "model = tf.keras.Sequential([\n",
    "    tf.keras.layers.Embedding(tokenizer.vocab_size, 64),\n",
    "    tf.keras.layers.Bidirectional(tf.keras.layers.LSTM(64, return_sequences = True)),\n",
    "    tf.keras.layers.Bidirectional(tf.keras.layers.LSTM(32)),\n",
    "    tf.keras.layers.Dense(64, activation = 'relu'),\n",
    "    tf.keras.layers.Dense(1, activation = 'sigmoid')\n",
    "])"
   ]
  },
  {
   "cell_type": "code",
   "execution_count": 137,
   "metadata": {},
   "outputs": [
    {
     "name": "stdout",
     "output_type": "stream",
     "text": [
      "Model: \"sequential_6\"\n",
      "_________________________________________________________________\n",
      "Layer (type)                 Output Shape              Param #   \n",
      "=================================================================\n",
      "embedding_8 (Embedding)      (None, None, 64)          523840    \n",
      "_________________________________________________________________\n",
      "bidirectional_1 (Bidirection (None, None, 128)         66048     \n",
      "_________________________________________________________________\n",
      "bidirectional_2 (Bidirection (None, 64)                41216     \n",
      "_________________________________________________________________\n",
      "dense_12 (Dense)             (None, 64)                4160      \n",
      "_________________________________________________________________\n",
      "dense_13 (Dense)             (None, 1)                 65        \n",
      "=================================================================\n",
      "Total params: 635,329\n",
      "Trainable params: 635,329\n",
      "Non-trainable params: 0\n",
      "_________________________________________________________________\n"
     ]
    }
   ],
   "source": [
    "model.summary()"
   ]
  },
  {
   "cell_type": "code",
   "execution_count": 138,
   "metadata": {},
   "outputs": [],
   "source": [
    "model.compile(loss = 'binary_crossentropy', optimizer = 'adam', metrics = ['accuracy'])"
   ]
  },
  {
   "cell_type": "code",
   "execution_count": null,
   "metadata": {},
   "outputs": [
    {
     "name": "stdout",
     "output_type": "stream",
     "text": [
      "Epoch 1/10\n",
      "     73/Unknown - 715s 10s/step - loss: 0.6835 - accuracy: 0.5441"
     ]
    }
   ],
   "source": [
    "num_epoch = 10\n",
    "history = model.fit(train_dataset, epochs = num_epoch, validation_data = test_dataset)"
   ]
  },
  {
   "cell_type": "markdown",
   "metadata": {},
   "source": [
    "## continue from sarcasm dataset"
   ]
  },
  {
   "cell_type": "code",
   "execution_count": 10,
   "metadata": {},
   "outputs": [],
   "source": [
    "#LSTM\n",
    "model = tf.keras.Sequential([\n",
    "    tf.keras.layers.Embedding(vocab_size, embedding_dim, input_length= max_length),\n",
    "    tf.keras.layers.Bidirectional(tf.keras.layers.LSTM(32), return_sequences = True),\n",
    "    tf.keras.layers.Bidirectional(tf.keras.layers.LSTM(64)),\n",
    "    tf.keras.layers.Dense(24, activation = 'relu'),\n",
    "    tf.keras.layers.Dense(1, activation = 'sigmoid')\n",
    "])"
   ]
  },
  {
   "cell_type": "markdown",
   "metadata": {},
   "source": [
    "# week 4"
   ]
  },
  {
   "cell_type": "code",
   "execution_count": null,
   "metadata": {},
   "outputs": [],
   "source": []
  }
 ],
 "metadata": {
  "kernelspec": {
   "display_name": "Python 3",
   "language": "python",
   "name": "python3"
  },
  "language_info": {
   "codemirror_mode": {
    "name": "ipython",
    "version": 3
   },
   "file_extension": ".py",
   "mimetype": "text/x-python",
   "name": "python",
   "nbconvert_exporter": "python",
   "pygments_lexer": "ipython3",
   "version": "3.6.10"
  }
 },
 "nbformat": 4,
 "nbformat_minor": 2
}
